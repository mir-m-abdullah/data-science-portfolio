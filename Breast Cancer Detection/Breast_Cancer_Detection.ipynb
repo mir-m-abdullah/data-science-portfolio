{
  "nbformat": 4,
  "nbformat_minor": 0,
  "metadata": {
    "colab": {
      "provenance": []
    },
    "kernelspec": {
      "name": "python3",
      "display_name": "Python 3"
    },
    "language_info": {
      "name": "python"
    }
  },
  "cells": [
    {
      "cell_type": "markdown",
      "source": [
        "# Part 1: Data Preprocessing\n",
        "\n",
        "We are using data from Kaggle to conduct research on determining the accuracy of predicting whether a patient's breast cancer is malignant or benign.\n",
        "\n",
        "Data Source: https://www.kaggle.com/datasets/uciml/breast-cancer-wisconsin-data\n"
      ],
      "metadata": {
        "id": "B10jm3xvEWIU"
      }
    },
    {
      "cell_type": "markdown",
      "source": [
        "## Importing Libraries and Dataset"
      ],
      "metadata": {
        "id": "MAohyNJ_xAhu"
      }
    },
    {
      "cell_type": "markdown",
      "source": [
        "We will begin by importing the necessary libraries."
      ],
      "metadata": {
        "id": "RKsbYWFN0Etp"
      }
    },
    {
      "cell_type": "code",
      "source": [
        "## Importing Libraries\n",
        "import numpy as np\n",
        "import pandas as pd\n",
        "import matplotlib.pyplot as plt\n",
        "import seaborn as sns"
      ],
      "metadata": {
        "id": "zODvBZumuiVC"
      },
      "execution_count": 306,
      "outputs": []
    },
    {
      "cell_type": "markdown",
      "source": [
        "Now that we have imported the necessary libraries, we can move on to reading in our dataset from the 'data.csv' file. By using the `pd.read_csv` function, we are able to read in the file and store it in a Pandas dataframe called `dataset`. \n",
        "\n",
        "After reading in the file, it's always a good idea to take a quick look at the head of the dataset to get a sense of the data we're working with. By using the `.head()` function, we can display the first five rows of the dataframe, giving us a glimpse of the data structure and values."
      ],
      "metadata": {
        "id": "wF7RR0rE0JF8"
      }
    },
    {
      "cell_type": "code",
      "source": [
        "# Reading CSV file\n",
        "dataset = pd.read_csv('data.csv')\n",
        "\n",
        "# Looking at head of dataset\n",
        "dataset.head()"
      ],
      "metadata": {
        "colab": {
          "base_uri": "https://localhost:8080/",
          "height": 317
        },
        "id": "C-2oF5v_wgDa",
        "outputId": "cd4d1b4f-e05f-4a33-9d7e-78150f891f01"
      },
      "execution_count": 307,
      "outputs": [
        {
          "output_type": "execute_result",
          "data": {
            "text/plain": [
              "         id diagnosis  radius_mean  texture_mean  perimeter_mean  area_mean  \\\n",
              "0    842302         M        17.99         10.38          122.80     1001.0   \n",
              "1    842517         M        20.57         17.77          132.90     1326.0   \n",
              "2  84300903         M        19.69         21.25          130.00     1203.0   \n",
              "3  84348301         M        11.42         20.38           77.58      386.1   \n",
              "4  84358402         M        20.29         14.34          135.10     1297.0   \n",
              "\n",
              "   smoothness_mean  compactness_mean  concavity_mean  concave points_mean  \\\n",
              "0          0.11840           0.27760          0.3001              0.14710   \n",
              "1          0.08474           0.07864          0.0869              0.07017   \n",
              "2          0.10960           0.15990          0.1974              0.12790   \n",
              "3          0.14250           0.28390          0.2414              0.10520   \n",
              "4          0.10030           0.13280          0.1980              0.10430   \n",
              "\n",
              "   ...  texture_worst  perimeter_worst  area_worst  smoothness_worst  \\\n",
              "0  ...          17.33           184.60      2019.0            0.1622   \n",
              "1  ...          23.41           158.80      1956.0            0.1238   \n",
              "2  ...          25.53           152.50      1709.0            0.1444   \n",
              "3  ...          26.50            98.87       567.7            0.2098   \n",
              "4  ...          16.67           152.20      1575.0            0.1374   \n",
              "\n",
              "   compactness_worst  concavity_worst  concave points_worst  symmetry_worst  \\\n",
              "0             0.6656           0.7119                0.2654          0.4601   \n",
              "1             0.1866           0.2416                0.1860          0.2750   \n",
              "2             0.4245           0.4504                0.2430          0.3613   \n",
              "3             0.8663           0.6869                0.2575          0.6638   \n",
              "4             0.2050           0.4000                0.1625          0.2364   \n",
              "\n",
              "   fractal_dimension_worst  Unnamed: 32  \n",
              "0                  0.11890          NaN  \n",
              "1                  0.08902          NaN  \n",
              "2                  0.08758          NaN  \n",
              "3                  0.17300          NaN  \n",
              "4                  0.07678          NaN  \n",
              "\n",
              "[5 rows x 33 columns]"
            ],
            "text/html": [
              "\n",
              "  <div id=\"df-0792bcab-7844-4baf-81b0-c2e993d66588\">\n",
              "    <div class=\"colab-df-container\">\n",
              "      <div>\n",
              "<style scoped>\n",
              "    .dataframe tbody tr th:only-of-type {\n",
              "        vertical-align: middle;\n",
              "    }\n",
              "\n",
              "    .dataframe tbody tr th {\n",
              "        vertical-align: top;\n",
              "    }\n",
              "\n",
              "    .dataframe thead th {\n",
              "        text-align: right;\n",
              "    }\n",
              "</style>\n",
              "<table border=\"1\" class=\"dataframe\">\n",
              "  <thead>\n",
              "    <tr style=\"text-align: right;\">\n",
              "      <th></th>\n",
              "      <th>id</th>\n",
              "      <th>diagnosis</th>\n",
              "      <th>radius_mean</th>\n",
              "      <th>texture_mean</th>\n",
              "      <th>perimeter_mean</th>\n",
              "      <th>area_mean</th>\n",
              "      <th>smoothness_mean</th>\n",
              "      <th>compactness_mean</th>\n",
              "      <th>concavity_mean</th>\n",
              "      <th>concave points_mean</th>\n",
              "      <th>...</th>\n",
              "      <th>texture_worst</th>\n",
              "      <th>perimeter_worst</th>\n",
              "      <th>area_worst</th>\n",
              "      <th>smoothness_worst</th>\n",
              "      <th>compactness_worst</th>\n",
              "      <th>concavity_worst</th>\n",
              "      <th>concave points_worst</th>\n",
              "      <th>symmetry_worst</th>\n",
              "      <th>fractal_dimension_worst</th>\n",
              "      <th>Unnamed: 32</th>\n",
              "    </tr>\n",
              "  </thead>\n",
              "  <tbody>\n",
              "    <tr>\n",
              "      <th>0</th>\n",
              "      <td>842302</td>\n",
              "      <td>M</td>\n",
              "      <td>17.99</td>\n",
              "      <td>10.38</td>\n",
              "      <td>122.80</td>\n",
              "      <td>1001.0</td>\n",
              "      <td>0.11840</td>\n",
              "      <td>0.27760</td>\n",
              "      <td>0.3001</td>\n",
              "      <td>0.14710</td>\n",
              "      <td>...</td>\n",
              "      <td>17.33</td>\n",
              "      <td>184.60</td>\n",
              "      <td>2019.0</td>\n",
              "      <td>0.1622</td>\n",
              "      <td>0.6656</td>\n",
              "      <td>0.7119</td>\n",
              "      <td>0.2654</td>\n",
              "      <td>0.4601</td>\n",
              "      <td>0.11890</td>\n",
              "      <td>NaN</td>\n",
              "    </tr>\n",
              "    <tr>\n",
              "      <th>1</th>\n",
              "      <td>842517</td>\n",
              "      <td>M</td>\n",
              "      <td>20.57</td>\n",
              "      <td>17.77</td>\n",
              "      <td>132.90</td>\n",
              "      <td>1326.0</td>\n",
              "      <td>0.08474</td>\n",
              "      <td>0.07864</td>\n",
              "      <td>0.0869</td>\n",
              "      <td>0.07017</td>\n",
              "      <td>...</td>\n",
              "      <td>23.41</td>\n",
              "      <td>158.80</td>\n",
              "      <td>1956.0</td>\n",
              "      <td>0.1238</td>\n",
              "      <td>0.1866</td>\n",
              "      <td>0.2416</td>\n",
              "      <td>0.1860</td>\n",
              "      <td>0.2750</td>\n",
              "      <td>0.08902</td>\n",
              "      <td>NaN</td>\n",
              "    </tr>\n",
              "    <tr>\n",
              "      <th>2</th>\n",
              "      <td>84300903</td>\n",
              "      <td>M</td>\n",
              "      <td>19.69</td>\n",
              "      <td>21.25</td>\n",
              "      <td>130.00</td>\n",
              "      <td>1203.0</td>\n",
              "      <td>0.10960</td>\n",
              "      <td>0.15990</td>\n",
              "      <td>0.1974</td>\n",
              "      <td>0.12790</td>\n",
              "      <td>...</td>\n",
              "      <td>25.53</td>\n",
              "      <td>152.50</td>\n",
              "      <td>1709.0</td>\n",
              "      <td>0.1444</td>\n",
              "      <td>0.4245</td>\n",
              "      <td>0.4504</td>\n",
              "      <td>0.2430</td>\n",
              "      <td>0.3613</td>\n",
              "      <td>0.08758</td>\n",
              "      <td>NaN</td>\n",
              "    </tr>\n",
              "    <tr>\n",
              "      <th>3</th>\n",
              "      <td>84348301</td>\n",
              "      <td>M</td>\n",
              "      <td>11.42</td>\n",
              "      <td>20.38</td>\n",
              "      <td>77.58</td>\n",
              "      <td>386.1</td>\n",
              "      <td>0.14250</td>\n",
              "      <td>0.28390</td>\n",
              "      <td>0.2414</td>\n",
              "      <td>0.10520</td>\n",
              "      <td>...</td>\n",
              "      <td>26.50</td>\n",
              "      <td>98.87</td>\n",
              "      <td>567.7</td>\n",
              "      <td>0.2098</td>\n",
              "      <td>0.8663</td>\n",
              "      <td>0.6869</td>\n",
              "      <td>0.2575</td>\n",
              "      <td>0.6638</td>\n",
              "      <td>0.17300</td>\n",
              "      <td>NaN</td>\n",
              "    </tr>\n",
              "    <tr>\n",
              "      <th>4</th>\n",
              "      <td>84358402</td>\n",
              "      <td>M</td>\n",
              "      <td>20.29</td>\n",
              "      <td>14.34</td>\n",
              "      <td>135.10</td>\n",
              "      <td>1297.0</td>\n",
              "      <td>0.10030</td>\n",
              "      <td>0.13280</td>\n",
              "      <td>0.1980</td>\n",
              "      <td>0.10430</td>\n",
              "      <td>...</td>\n",
              "      <td>16.67</td>\n",
              "      <td>152.20</td>\n",
              "      <td>1575.0</td>\n",
              "      <td>0.1374</td>\n",
              "      <td>0.2050</td>\n",
              "      <td>0.4000</td>\n",
              "      <td>0.1625</td>\n",
              "      <td>0.2364</td>\n",
              "      <td>0.07678</td>\n",
              "      <td>NaN</td>\n",
              "    </tr>\n",
              "  </tbody>\n",
              "</table>\n",
              "<p>5 rows × 33 columns</p>\n",
              "</div>\n",
              "      <button class=\"colab-df-convert\" onclick=\"convertToInteractive('df-0792bcab-7844-4baf-81b0-c2e993d66588')\"\n",
              "              title=\"Convert this dataframe to an interactive table.\"\n",
              "              style=\"display:none;\">\n",
              "        \n",
              "  <svg xmlns=\"http://www.w3.org/2000/svg\" height=\"24px\"viewBox=\"0 0 24 24\"\n",
              "       width=\"24px\">\n",
              "    <path d=\"M0 0h24v24H0V0z\" fill=\"none\"/>\n",
              "    <path d=\"M18.56 5.44l.94 2.06.94-2.06 2.06-.94-2.06-.94-.94-2.06-.94 2.06-2.06.94zm-11 1L8.5 8.5l.94-2.06 2.06-.94-2.06-.94L8.5 2.5l-.94 2.06-2.06.94zm10 10l.94 2.06.94-2.06 2.06-.94-2.06-.94-.94-2.06-.94 2.06-2.06.94z\"/><path d=\"M17.41 7.96l-1.37-1.37c-.4-.4-.92-.59-1.43-.59-.52 0-1.04.2-1.43.59L10.3 9.45l-7.72 7.72c-.78.78-.78 2.05 0 2.83L4 21.41c.39.39.9.59 1.41.59.51 0 1.02-.2 1.41-.59l7.78-7.78 2.81-2.81c.8-.78.8-2.07 0-2.86zM5.41 20L4 18.59l7.72-7.72 1.47 1.35L5.41 20z\"/>\n",
              "  </svg>\n",
              "      </button>\n",
              "      \n",
              "  <style>\n",
              "    .colab-df-container {\n",
              "      display:flex;\n",
              "      flex-wrap:wrap;\n",
              "      gap: 12px;\n",
              "    }\n",
              "\n",
              "    .colab-df-convert {\n",
              "      background-color: #E8F0FE;\n",
              "      border: none;\n",
              "      border-radius: 50%;\n",
              "      cursor: pointer;\n",
              "      display: none;\n",
              "      fill: #1967D2;\n",
              "      height: 32px;\n",
              "      padding: 0 0 0 0;\n",
              "      width: 32px;\n",
              "    }\n",
              "\n",
              "    .colab-df-convert:hover {\n",
              "      background-color: #E2EBFA;\n",
              "      box-shadow: 0px 1px 2px rgba(60, 64, 67, 0.3), 0px 1px 3px 1px rgba(60, 64, 67, 0.15);\n",
              "      fill: #174EA6;\n",
              "    }\n",
              "\n",
              "    [theme=dark] .colab-df-convert {\n",
              "      background-color: #3B4455;\n",
              "      fill: #D2E3FC;\n",
              "    }\n",
              "\n",
              "    [theme=dark] .colab-df-convert:hover {\n",
              "      background-color: #434B5C;\n",
              "      box-shadow: 0px 1px 3px 1px rgba(0, 0, 0, 0.15);\n",
              "      filter: drop-shadow(0px 1px 2px rgba(0, 0, 0, 0.3));\n",
              "      fill: #FFFFFF;\n",
              "    }\n",
              "  </style>\n",
              "\n",
              "      <script>\n",
              "        const buttonEl =\n",
              "          document.querySelector('#df-0792bcab-7844-4baf-81b0-c2e993d66588 button.colab-df-convert');\n",
              "        buttonEl.style.display =\n",
              "          google.colab.kernel.accessAllowed ? 'block' : 'none';\n",
              "\n",
              "        async function convertToInteractive(key) {\n",
              "          const element = document.querySelector('#df-0792bcab-7844-4baf-81b0-c2e993d66588');\n",
              "          const dataTable =\n",
              "            await google.colab.kernel.invokeFunction('convertToInteractive',\n",
              "                                                     [key], {});\n",
              "          if (!dataTable) return;\n",
              "\n",
              "          const docLinkHtml = 'Like what you see? Visit the ' +\n",
              "            '<a target=\"_blank\" href=https://colab.research.google.com/notebooks/data_table.ipynb>data table notebook</a>'\n",
              "            + ' to learn more about interactive tables.';\n",
              "          element.innerHTML = '';\n",
              "          dataTable['output_type'] = 'display_data';\n",
              "          await google.colab.output.renderOutput(dataTable, element);\n",
              "          const docLink = document.createElement('div');\n",
              "          docLink.innerHTML = docLinkHtml;\n",
              "          element.appendChild(docLink);\n",
              "        }\n",
              "      </script>\n",
              "    </div>\n",
              "  </div>\n",
              "  "
            ]
          },
          "metadata": {},
          "execution_count": 307
        }
      ]
    },
    {
      "cell_type": "markdown",
      "source": [
        "## Data Exploration"
      ],
      "metadata": {
        "id": "Sh6-cKn-xJ3D"
      }
    },
    {
      "cell_type": "markdown",
      "source": [
        "With the dataset now read into a Pandas dataframe, we can check the dimensions of the data by using the `.shape` attribute. This will give us a tuple of the number of rows and columns in the dataframe, allowing us to quickly verify the size of the dataset and ensure that all the data has been correctly loaded."
      ],
      "metadata": {
        "id": "7d5-ZUkF0N7n"
      }
    },
    {
      "cell_type": "code",
      "source": [
        "# Showing the dimension of the dataframe\n",
        "dataset.shape"
      ],
      "metadata": {
        "colab": {
          "base_uri": "https://localhost:8080/"
        },
        "id": "o8L9tHZpxPFF",
        "outputId": "20523ff0-6487-4ea9-f7f2-11db09b6db06"
      },
      "execution_count": 308,
      "outputs": [
        {
          "output_type": "execute_result",
          "data": {
            "text/plain": [
              "(569, 33)"
            ]
          },
          "metadata": {},
          "execution_count": 308
        }
      ]
    },
    {
      "cell_type": "markdown",
      "source": [
        "We see that there are 569 observations and 33 variables (one of which is the predictor).\n",
        "\n",
        "In order to get a more detailed understanding of the dataset, we can use the `.info()` method. This method provides a concise summary of the dataframe, including the number of non-null values in each column, the data type of each column, and the memory usage of the dataframe. This information can be helpful in identifying any missing values, mismatched data types, or any other issues that may need to be addressed during the preprocessing stage."
      ],
      "metadata": {
        "id": "QGwq_nzL0Va4"
      }
    },
    {
      "cell_type": "code",
      "source": [
        "# Checking the information on the dataset\n",
        "dataset.info()"
      ],
      "metadata": {
        "colab": {
          "base_uri": "https://localhost:8080/"
        },
        "id": "0Ax2CzhFxRkN",
        "outputId": "89ae3dd6-506b-4c48-c5cd-ba78b14eff5b"
      },
      "execution_count": 309,
      "outputs": [
        {
          "output_type": "stream",
          "name": "stdout",
          "text": [
            "<class 'pandas.core.frame.DataFrame'>\n",
            "RangeIndex: 569 entries, 0 to 568\n",
            "Data columns (total 33 columns):\n",
            " #   Column                   Non-Null Count  Dtype  \n",
            "---  ------                   --------------  -----  \n",
            " 0   id                       569 non-null    int64  \n",
            " 1   diagnosis                569 non-null    object \n",
            " 2   radius_mean              569 non-null    float64\n",
            " 3   texture_mean             569 non-null    float64\n",
            " 4   perimeter_mean           569 non-null    float64\n",
            " 5   area_mean                569 non-null    float64\n",
            " 6   smoothness_mean          569 non-null    float64\n",
            " 7   compactness_mean         569 non-null    float64\n",
            " 8   concavity_mean           569 non-null    float64\n",
            " 9   concave points_mean      569 non-null    float64\n",
            " 10  symmetry_mean            569 non-null    float64\n",
            " 11  fractal_dimension_mean   569 non-null    float64\n",
            " 12  radius_se                569 non-null    float64\n",
            " 13  texture_se               569 non-null    float64\n",
            " 14  perimeter_se             569 non-null    float64\n",
            " 15  area_se                  569 non-null    float64\n",
            " 16  smoothness_se            569 non-null    float64\n",
            " 17  compactness_se           569 non-null    float64\n",
            " 18  concavity_se             569 non-null    float64\n",
            " 19  concave points_se        569 non-null    float64\n",
            " 20  symmetry_se              569 non-null    float64\n",
            " 21  fractal_dimension_se     569 non-null    float64\n",
            " 22  radius_worst             569 non-null    float64\n",
            " 23  texture_worst            569 non-null    float64\n",
            " 24  perimeter_worst          569 non-null    float64\n",
            " 25  area_worst               569 non-null    float64\n",
            " 26  smoothness_worst         569 non-null    float64\n",
            " 27  compactness_worst        569 non-null    float64\n",
            " 28  concavity_worst          569 non-null    float64\n",
            " 29  concave points_worst     569 non-null    float64\n",
            " 30  symmetry_worst           569 non-null    float64\n",
            " 31  fractal_dimension_worst  569 non-null    float64\n",
            " 32  Unnamed: 32              0 non-null      float64\n",
            "dtypes: float64(31), int64(1), object(1)\n",
            "memory usage: 146.8+ KB\n"
          ]
        }
      ]
    },
    {
      "cell_type": "markdown",
      "source": [
        "Most of these are in fact numerical data, with the only categorical one being the `diagnosis` variable (which in our case, we will use as our predictor)."
      ],
      "metadata": {
        "id": "B-LTy59V0hgr"
      }
    },
    {
      "cell_type": "code",
      "source": [
        "# Checking the categorical features in the dataset\n",
        "dataset.select_dtypes(include='object').columns"
      ],
      "metadata": {
        "colab": {
          "base_uri": "https://localhost:8080/"
        },
        "id": "B72SXll2xUHN",
        "outputId": "570ee70c-df90-4ed7-cbf3-1c5061a01404"
      },
      "execution_count": 310,
      "outputs": [
        {
          "output_type": "execute_result",
          "data": {
            "text/plain": [
              "Index(['diagnosis'], dtype='object')"
            ]
          },
          "metadata": {},
          "execution_count": 310
        }
      ]
    },
    {
      "cell_type": "code",
      "source": [
        "# Checking for the number of categorical features\n",
        "len(dataset.select_dtypes(include='object').columns)"
      ],
      "metadata": {
        "colab": {
          "base_uri": "https://localhost:8080/"
        },
        "id": "81Lla5FqyU_Z",
        "outputId": "8a5b7e96-667c-4b35-bcff-d879de2e0118"
      },
      "execution_count": 311,
      "outputs": [
        {
          "output_type": "execute_result",
          "data": {
            "text/plain": [
              "1"
            ]
          },
          "metadata": {},
          "execution_count": 311
        }
      ]
    },
    {
      "cell_type": "code",
      "source": [
        "# checking for numerical features in the dataset\n",
        "dataset.select_dtypes(include=('float64','int64')).columns"
      ],
      "metadata": {
        "colab": {
          "base_uri": "https://localhost:8080/"
        },
        "id": "_Bdbd-5aykZX",
        "outputId": "b969d9b1-ffe1-4c7b-b432-b816cd2a13fe"
      },
      "execution_count": 312,
      "outputs": [
        {
          "output_type": "execute_result",
          "data": {
            "text/plain": [
              "Index(['id', 'radius_mean', 'texture_mean', 'perimeter_mean', 'area_mean',\n",
              "       'smoothness_mean', 'compactness_mean', 'concavity_mean',\n",
              "       'concave points_mean', 'symmetry_mean', 'fractal_dimension_mean',\n",
              "       'radius_se', 'texture_se', 'perimeter_se', 'area_se', 'smoothness_se',\n",
              "       'compactness_se', 'concavity_se', 'concave points_se', 'symmetry_se',\n",
              "       'fractal_dimension_se', 'radius_worst', 'texture_worst',\n",
              "       'perimeter_worst', 'area_worst', 'smoothness_worst',\n",
              "       'compactness_worst', 'concavity_worst', 'concave points_worst',\n",
              "       'symmetry_worst', 'fractal_dimension_worst', 'Unnamed: 32'],\n",
              "      dtype='object')"
            ]
          },
          "metadata": {},
          "execution_count": 312
        }
      ]
    },
    {
      "cell_type": "code",
      "source": [
        "# Checking for the number of numerical features\n",
        "len(dataset.select_dtypes(include=('float64','int64')).columns)"
      ],
      "metadata": {
        "colab": {
          "base_uri": "https://localhost:8080/"
        },
        "id": "IcL-_qyAytWs",
        "outputId": "6a893c69-77c9-4ab7-8a6f-79d4817294ac"
      },
      "execution_count": 313,
      "outputs": [
        {
          "output_type": "execute_result",
          "data": {
            "text/plain": [
              "32"
            ]
          },
          "metadata": {},
          "execution_count": 313
        }
      ]
    },
    {
      "cell_type": "markdown",
      "source": [
        "We confirmed that `diagnosis` variable is the only categorical variable with entries being either M (malignant) or B (benign).\n",
        "\n",
        "We also confirmed all other variables are numerical.\n",
        "\n",
        "Now, we'll look a little at the satistical summary of the dataset. This information can be useful in understanding the distribution of the data and detecting any outliers or extreme values that may need further investigation."
      ],
      "metadata": {
        "id": "fDgXraO00xUZ"
      }
    },
    {
      "cell_type": "code",
      "source": [
        "# Getting the statistical summary of the dataset\n",
        "dataset.describe()"
      ],
      "metadata": {
        "colab": {
          "base_uri": "https://localhost:8080/",
          "height": 411
        },
        "id": "MYms9U1Oy0d0",
        "outputId": "dc996213-61db-41d4-b613-3f2080a1706a"
      },
      "execution_count": 314,
      "outputs": [
        {
          "output_type": "execute_result",
          "data": {
            "text/plain": [
              "                 id  radius_mean  texture_mean  perimeter_mean    area_mean  \\\n",
              "count  5.690000e+02   569.000000    569.000000      569.000000   569.000000   \n",
              "mean   3.037183e+07    14.127292     19.289649       91.969033   654.889104   \n",
              "std    1.250206e+08     3.524049      4.301036       24.298981   351.914129   \n",
              "min    8.670000e+03     6.981000      9.710000       43.790000   143.500000   \n",
              "25%    8.692180e+05    11.700000     16.170000       75.170000   420.300000   \n",
              "50%    9.060240e+05    13.370000     18.840000       86.240000   551.100000   \n",
              "75%    8.813129e+06    15.780000     21.800000      104.100000   782.700000   \n",
              "max    9.113205e+08    28.110000     39.280000      188.500000  2501.000000   \n",
              "\n",
              "       smoothness_mean  compactness_mean  concavity_mean  concave points_mean  \\\n",
              "count       569.000000        569.000000      569.000000           569.000000   \n",
              "mean          0.096360          0.104341        0.088799             0.048919   \n",
              "std           0.014064          0.052813        0.079720             0.038803   \n",
              "min           0.052630          0.019380        0.000000             0.000000   \n",
              "25%           0.086370          0.064920        0.029560             0.020310   \n",
              "50%           0.095870          0.092630        0.061540             0.033500   \n",
              "75%           0.105300          0.130400        0.130700             0.074000   \n",
              "max           0.163400          0.345400        0.426800             0.201200   \n",
              "\n",
              "       symmetry_mean  ...  texture_worst  perimeter_worst   area_worst  \\\n",
              "count     569.000000  ...     569.000000       569.000000   569.000000   \n",
              "mean        0.181162  ...      25.677223       107.261213   880.583128   \n",
              "std         0.027414  ...       6.146258        33.602542   569.356993   \n",
              "min         0.106000  ...      12.020000        50.410000   185.200000   \n",
              "25%         0.161900  ...      21.080000        84.110000   515.300000   \n",
              "50%         0.179200  ...      25.410000        97.660000   686.500000   \n",
              "75%         0.195700  ...      29.720000       125.400000  1084.000000   \n",
              "max         0.304000  ...      49.540000       251.200000  4254.000000   \n",
              "\n",
              "       smoothness_worst  compactness_worst  concavity_worst  \\\n",
              "count        569.000000         569.000000       569.000000   \n",
              "mean           0.132369           0.254265         0.272188   \n",
              "std            0.022832           0.157336         0.208624   \n",
              "min            0.071170           0.027290         0.000000   \n",
              "25%            0.116600           0.147200         0.114500   \n",
              "50%            0.131300           0.211900         0.226700   \n",
              "75%            0.146000           0.339100         0.382900   \n",
              "max            0.222600           1.058000         1.252000   \n",
              "\n",
              "       concave points_worst  symmetry_worst  fractal_dimension_worst  \\\n",
              "count            569.000000      569.000000               569.000000   \n",
              "mean               0.114606        0.290076                 0.083946   \n",
              "std                0.065732        0.061867                 0.018061   \n",
              "min                0.000000        0.156500                 0.055040   \n",
              "25%                0.064930        0.250400                 0.071460   \n",
              "50%                0.099930        0.282200                 0.080040   \n",
              "75%                0.161400        0.317900                 0.092080   \n",
              "max                0.291000        0.663800                 0.207500   \n",
              "\n",
              "       Unnamed: 32  \n",
              "count          0.0  \n",
              "mean           NaN  \n",
              "std            NaN  \n",
              "min            NaN  \n",
              "25%            NaN  \n",
              "50%            NaN  \n",
              "75%            NaN  \n",
              "max            NaN  \n",
              "\n",
              "[8 rows x 32 columns]"
            ],
            "text/html": [
              "\n",
              "  <div id=\"df-e4bdfcfb-639e-439e-9394-f55be01c2d7b\">\n",
              "    <div class=\"colab-df-container\">\n",
              "      <div>\n",
              "<style scoped>\n",
              "    .dataframe tbody tr th:only-of-type {\n",
              "        vertical-align: middle;\n",
              "    }\n",
              "\n",
              "    .dataframe tbody tr th {\n",
              "        vertical-align: top;\n",
              "    }\n",
              "\n",
              "    .dataframe thead th {\n",
              "        text-align: right;\n",
              "    }\n",
              "</style>\n",
              "<table border=\"1\" class=\"dataframe\">\n",
              "  <thead>\n",
              "    <tr style=\"text-align: right;\">\n",
              "      <th></th>\n",
              "      <th>id</th>\n",
              "      <th>radius_mean</th>\n",
              "      <th>texture_mean</th>\n",
              "      <th>perimeter_mean</th>\n",
              "      <th>area_mean</th>\n",
              "      <th>smoothness_mean</th>\n",
              "      <th>compactness_mean</th>\n",
              "      <th>concavity_mean</th>\n",
              "      <th>concave points_mean</th>\n",
              "      <th>symmetry_mean</th>\n",
              "      <th>...</th>\n",
              "      <th>texture_worst</th>\n",
              "      <th>perimeter_worst</th>\n",
              "      <th>area_worst</th>\n",
              "      <th>smoothness_worst</th>\n",
              "      <th>compactness_worst</th>\n",
              "      <th>concavity_worst</th>\n",
              "      <th>concave points_worst</th>\n",
              "      <th>symmetry_worst</th>\n",
              "      <th>fractal_dimension_worst</th>\n",
              "      <th>Unnamed: 32</th>\n",
              "    </tr>\n",
              "  </thead>\n",
              "  <tbody>\n",
              "    <tr>\n",
              "      <th>count</th>\n",
              "      <td>5.690000e+02</td>\n",
              "      <td>569.000000</td>\n",
              "      <td>569.000000</td>\n",
              "      <td>569.000000</td>\n",
              "      <td>569.000000</td>\n",
              "      <td>569.000000</td>\n",
              "      <td>569.000000</td>\n",
              "      <td>569.000000</td>\n",
              "      <td>569.000000</td>\n",
              "      <td>569.000000</td>\n",
              "      <td>...</td>\n",
              "      <td>569.000000</td>\n",
              "      <td>569.000000</td>\n",
              "      <td>569.000000</td>\n",
              "      <td>569.000000</td>\n",
              "      <td>569.000000</td>\n",
              "      <td>569.000000</td>\n",
              "      <td>569.000000</td>\n",
              "      <td>569.000000</td>\n",
              "      <td>569.000000</td>\n",
              "      <td>0.0</td>\n",
              "    </tr>\n",
              "    <tr>\n",
              "      <th>mean</th>\n",
              "      <td>3.037183e+07</td>\n",
              "      <td>14.127292</td>\n",
              "      <td>19.289649</td>\n",
              "      <td>91.969033</td>\n",
              "      <td>654.889104</td>\n",
              "      <td>0.096360</td>\n",
              "      <td>0.104341</td>\n",
              "      <td>0.088799</td>\n",
              "      <td>0.048919</td>\n",
              "      <td>0.181162</td>\n",
              "      <td>...</td>\n",
              "      <td>25.677223</td>\n",
              "      <td>107.261213</td>\n",
              "      <td>880.583128</td>\n",
              "      <td>0.132369</td>\n",
              "      <td>0.254265</td>\n",
              "      <td>0.272188</td>\n",
              "      <td>0.114606</td>\n",
              "      <td>0.290076</td>\n",
              "      <td>0.083946</td>\n",
              "      <td>NaN</td>\n",
              "    </tr>\n",
              "    <tr>\n",
              "      <th>std</th>\n",
              "      <td>1.250206e+08</td>\n",
              "      <td>3.524049</td>\n",
              "      <td>4.301036</td>\n",
              "      <td>24.298981</td>\n",
              "      <td>351.914129</td>\n",
              "      <td>0.014064</td>\n",
              "      <td>0.052813</td>\n",
              "      <td>0.079720</td>\n",
              "      <td>0.038803</td>\n",
              "      <td>0.027414</td>\n",
              "      <td>...</td>\n",
              "      <td>6.146258</td>\n",
              "      <td>33.602542</td>\n",
              "      <td>569.356993</td>\n",
              "      <td>0.022832</td>\n",
              "      <td>0.157336</td>\n",
              "      <td>0.208624</td>\n",
              "      <td>0.065732</td>\n",
              "      <td>0.061867</td>\n",
              "      <td>0.018061</td>\n",
              "      <td>NaN</td>\n",
              "    </tr>\n",
              "    <tr>\n",
              "      <th>min</th>\n",
              "      <td>8.670000e+03</td>\n",
              "      <td>6.981000</td>\n",
              "      <td>9.710000</td>\n",
              "      <td>43.790000</td>\n",
              "      <td>143.500000</td>\n",
              "      <td>0.052630</td>\n",
              "      <td>0.019380</td>\n",
              "      <td>0.000000</td>\n",
              "      <td>0.000000</td>\n",
              "      <td>0.106000</td>\n",
              "      <td>...</td>\n",
              "      <td>12.020000</td>\n",
              "      <td>50.410000</td>\n",
              "      <td>185.200000</td>\n",
              "      <td>0.071170</td>\n",
              "      <td>0.027290</td>\n",
              "      <td>0.000000</td>\n",
              "      <td>0.000000</td>\n",
              "      <td>0.156500</td>\n",
              "      <td>0.055040</td>\n",
              "      <td>NaN</td>\n",
              "    </tr>\n",
              "    <tr>\n",
              "      <th>25%</th>\n",
              "      <td>8.692180e+05</td>\n",
              "      <td>11.700000</td>\n",
              "      <td>16.170000</td>\n",
              "      <td>75.170000</td>\n",
              "      <td>420.300000</td>\n",
              "      <td>0.086370</td>\n",
              "      <td>0.064920</td>\n",
              "      <td>0.029560</td>\n",
              "      <td>0.020310</td>\n",
              "      <td>0.161900</td>\n",
              "      <td>...</td>\n",
              "      <td>21.080000</td>\n",
              "      <td>84.110000</td>\n",
              "      <td>515.300000</td>\n",
              "      <td>0.116600</td>\n",
              "      <td>0.147200</td>\n",
              "      <td>0.114500</td>\n",
              "      <td>0.064930</td>\n",
              "      <td>0.250400</td>\n",
              "      <td>0.071460</td>\n",
              "      <td>NaN</td>\n",
              "    </tr>\n",
              "    <tr>\n",
              "      <th>50%</th>\n",
              "      <td>9.060240e+05</td>\n",
              "      <td>13.370000</td>\n",
              "      <td>18.840000</td>\n",
              "      <td>86.240000</td>\n",
              "      <td>551.100000</td>\n",
              "      <td>0.095870</td>\n",
              "      <td>0.092630</td>\n",
              "      <td>0.061540</td>\n",
              "      <td>0.033500</td>\n",
              "      <td>0.179200</td>\n",
              "      <td>...</td>\n",
              "      <td>25.410000</td>\n",
              "      <td>97.660000</td>\n",
              "      <td>686.500000</td>\n",
              "      <td>0.131300</td>\n",
              "      <td>0.211900</td>\n",
              "      <td>0.226700</td>\n",
              "      <td>0.099930</td>\n",
              "      <td>0.282200</td>\n",
              "      <td>0.080040</td>\n",
              "      <td>NaN</td>\n",
              "    </tr>\n",
              "    <tr>\n",
              "      <th>75%</th>\n",
              "      <td>8.813129e+06</td>\n",
              "      <td>15.780000</td>\n",
              "      <td>21.800000</td>\n",
              "      <td>104.100000</td>\n",
              "      <td>782.700000</td>\n",
              "      <td>0.105300</td>\n",
              "      <td>0.130400</td>\n",
              "      <td>0.130700</td>\n",
              "      <td>0.074000</td>\n",
              "      <td>0.195700</td>\n",
              "      <td>...</td>\n",
              "      <td>29.720000</td>\n",
              "      <td>125.400000</td>\n",
              "      <td>1084.000000</td>\n",
              "      <td>0.146000</td>\n",
              "      <td>0.339100</td>\n",
              "      <td>0.382900</td>\n",
              "      <td>0.161400</td>\n",
              "      <td>0.317900</td>\n",
              "      <td>0.092080</td>\n",
              "      <td>NaN</td>\n",
              "    </tr>\n",
              "    <tr>\n",
              "      <th>max</th>\n",
              "      <td>9.113205e+08</td>\n",
              "      <td>28.110000</td>\n",
              "      <td>39.280000</td>\n",
              "      <td>188.500000</td>\n",
              "      <td>2501.000000</td>\n",
              "      <td>0.163400</td>\n",
              "      <td>0.345400</td>\n",
              "      <td>0.426800</td>\n",
              "      <td>0.201200</td>\n",
              "      <td>0.304000</td>\n",
              "      <td>...</td>\n",
              "      <td>49.540000</td>\n",
              "      <td>251.200000</td>\n",
              "      <td>4254.000000</td>\n",
              "      <td>0.222600</td>\n",
              "      <td>1.058000</td>\n",
              "      <td>1.252000</td>\n",
              "      <td>0.291000</td>\n",
              "      <td>0.663800</td>\n",
              "      <td>0.207500</td>\n",
              "      <td>NaN</td>\n",
              "    </tr>\n",
              "  </tbody>\n",
              "</table>\n",
              "<p>8 rows × 32 columns</p>\n",
              "</div>\n",
              "      <button class=\"colab-df-convert\" onclick=\"convertToInteractive('df-e4bdfcfb-639e-439e-9394-f55be01c2d7b')\"\n",
              "              title=\"Convert this dataframe to an interactive table.\"\n",
              "              style=\"display:none;\">\n",
              "        \n",
              "  <svg xmlns=\"http://www.w3.org/2000/svg\" height=\"24px\"viewBox=\"0 0 24 24\"\n",
              "       width=\"24px\">\n",
              "    <path d=\"M0 0h24v24H0V0z\" fill=\"none\"/>\n",
              "    <path d=\"M18.56 5.44l.94 2.06.94-2.06 2.06-.94-2.06-.94-.94-2.06-.94 2.06-2.06.94zm-11 1L8.5 8.5l.94-2.06 2.06-.94-2.06-.94L8.5 2.5l-.94 2.06-2.06.94zm10 10l.94 2.06.94-2.06 2.06-.94-2.06-.94-.94-2.06-.94 2.06-2.06.94z\"/><path d=\"M17.41 7.96l-1.37-1.37c-.4-.4-.92-.59-1.43-.59-.52 0-1.04.2-1.43.59L10.3 9.45l-7.72 7.72c-.78.78-.78 2.05 0 2.83L4 21.41c.39.39.9.59 1.41.59.51 0 1.02-.2 1.41-.59l7.78-7.78 2.81-2.81c.8-.78.8-2.07 0-2.86zM5.41 20L4 18.59l7.72-7.72 1.47 1.35L5.41 20z\"/>\n",
              "  </svg>\n",
              "      </button>\n",
              "      \n",
              "  <style>\n",
              "    .colab-df-container {\n",
              "      display:flex;\n",
              "      flex-wrap:wrap;\n",
              "      gap: 12px;\n",
              "    }\n",
              "\n",
              "    .colab-df-convert {\n",
              "      background-color: #E8F0FE;\n",
              "      border: none;\n",
              "      border-radius: 50%;\n",
              "      cursor: pointer;\n",
              "      display: none;\n",
              "      fill: #1967D2;\n",
              "      height: 32px;\n",
              "      padding: 0 0 0 0;\n",
              "      width: 32px;\n",
              "    }\n",
              "\n",
              "    .colab-df-convert:hover {\n",
              "      background-color: #E2EBFA;\n",
              "      box-shadow: 0px 1px 2px rgba(60, 64, 67, 0.3), 0px 1px 3px 1px rgba(60, 64, 67, 0.15);\n",
              "      fill: #174EA6;\n",
              "    }\n",
              "\n",
              "    [theme=dark] .colab-df-convert {\n",
              "      background-color: #3B4455;\n",
              "      fill: #D2E3FC;\n",
              "    }\n",
              "\n",
              "    [theme=dark] .colab-df-convert:hover {\n",
              "      background-color: #434B5C;\n",
              "      box-shadow: 0px 1px 3px 1px rgba(0, 0, 0, 0.15);\n",
              "      filter: drop-shadow(0px 1px 2px rgba(0, 0, 0, 0.3));\n",
              "      fill: #FFFFFF;\n",
              "    }\n",
              "  </style>\n",
              "\n",
              "      <script>\n",
              "        const buttonEl =\n",
              "          document.querySelector('#df-e4bdfcfb-639e-439e-9394-f55be01c2d7b button.colab-df-convert');\n",
              "        buttonEl.style.display =\n",
              "          google.colab.kernel.accessAllowed ? 'block' : 'none';\n",
              "\n",
              "        async function convertToInteractive(key) {\n",
              "          const element = document.querySelector('#df-e4bdfcfb-639e-439e-9394-f55be01c2d7b');\n",
              "          const dataTable =\n",
              "            await google.colab.kernel.invokeFunction('convertToInteractive',\n",
              "                                                     [key], {});\n",
              "          if (!dataTable) return;\n",
              "\n",
              "          const docLinkHtml = 'Like what you see? Visit the ' +\n",
              "            '<a target=\"_blank\" href=https://colab.research.google.com/notebooks/data_table.ipynb>data table notebook</a>'\n",
              "            + ' to learn more about interactive tables.';\n",
              "          element.innerHTML = '';\n",
              "          dataTable['output_type'] = 'display_data';\n",
              "          await google.colab.output.renderOutput(dataTable, element);\n",
              "          const docLink = document.createElement('div');\n",
              "          docLink.innerHTML = docLinkHtml;\n",
              "          element.appendChild(docLink);\n",
              "        }\n",
              "      </script>\n",
              "    </div>\n",
              "  </div>\n",
              "  "
            ]
          },
          "metadata": {},
          "execution_count": 314
        }
      ]
    },
    {
      "cell_type": "markdown",
      "source": [
        "Nothing seems to be out of the ordinary, except the last column, the `Unnamed: 32` variable, so next we'll look at handling any missing data."
      ],
      "metadata": {
        "id": "oHbEqRH11ajZ"
      }
    },
    {
      "cell_type": "markdown",
      "source": [
        "## Handling Missing Data"
      ],
      "metadata": {
        "id": "khiJULiozJYy"
      }
    },
    {
      "cell_type": "markdown",
      "source": [
        "We're going to see whether we can find any missing data, and then see what we can do with those missing values"
      ],
      "metadata": {
        "id": "Io_l7YQC5nrm"
      }
    },
    {
      "cell_type": "code",
      "source": [
        "# Checking if there are in fact any missing values or not\n",
        "dataset.isnull().values.any()"
      ],
      "metadata": {
        "colab": {
          "base_uri": "https://localhost:8080/"
        },
        "id": "GVQkRaqbzPzV",
        "outputId": "0f2c9555-8b4d-4155-845a-6e63d968618a"
      },
      "execution_count": 315,
      "outputs": [
        {
          "output_type": "execute_result",
          "data": {
            "text/plain": [
              "True"
            ]
          },
          "metadata": {},
          "execution_count": 315
        }
      ]
    },
    {
      "cell_type": "markdown",
      "source": [
        "We found missing values in our dataset, so let's see how many there are."
      ],
      "metadata": {
        "id": "yUbG6R7A6ajw"
      }
    },
    {
      "cell_type": "code",
      "source": [
        "# Checking how many missing values we have\n",
        "dataset.isnull().values.sum()"
      ],
      "metadata": {
        "colab": {
          "base_uri": "https://localhost:8080/"
        },
        "id": "XnHUkPUZzYyj",
        "outputId": "b71d5768-3d8e-4a29-c072-8bc8be1e03e2"
      },
      "execution_count": 316,
      "outputs": [
        {
          "output_type": "execute_result",
          "data": {
            "text/plain": [
              "569"
            ]
          },
          "metadata": {},
          "execution_count": 316
        }
      ]
    },
    {
      "cell_type": "markdown",
      "source": [
        "Which variables contain the missing values?"
      ],
      "metadata": {
        "id": "7GMJJOXY6jEo"
      }
    },
    {
      "cell_type": "code",
      "source": [
        "# Which columns have the missing values\n",
        "dataset.columns[dataset.isnull().any()]"
      ],
      "metadata": {
        "colab": {
          "base_uri": "https://localhost:8080/"
        },
        "id": "Tby0koM3zg-Q",
        "outputId": "709a83a4-5f9a-4ab5-b65a-8ddc4fa049b6"
      },
      "execution_count": 317,
      "outputs": [
        {
          "output_type": "execute_result",
          "data": {
            "text/plain": [
              "Index(['Unnamed: 32'], dtype='object')"
            ]
          },
          "metadata": {},
          "execution_count": 317
        }
      ]
    },
    {
      "cell_type": "markdown",
      "source": [
        "Seems like the variable named `Unnamed: 32` has all the missing values, so let's see how many values aren't null in that variable.\n",
        "\n"
      ],
      "metadata": {
        "id": "sPiXhrJL6mwG"
      }
    },
    {
      "cell_type": "code",
      "source": [
        "# How many values in this column are not null values\n",
        "dataset['Unnamed: 32'].count()"
      ],
      "metadata": {
        "colab": {
          "base_uri": "https://localhost:8080/"
        },
        "id": "AvxnRoEdzshl",
        "outputId": "113bc4a1-dbe9-4ada-d8f1-eeebd5dd1e8d"
      },
      "execution_count": 318,
      "outputs": [
        {
          "output_type": "execute_result",
          "data": {
            "text/plain": [
              "0"
            ]
          },
          "metadata": {},
          "execution_count": 318
        }
      ]
    },
    {
      "cell_type": "markdown",
      "source": [
        "Since the entire variable column is only nulls, it will be safe to say we can drop this variable from our dataset."
      ],
      "metadata": {
        "id": "QNRpSmW866Fs"
      }
    },
    {
      "cell_type": "code",
      "source": [
        "# Dropping the null variable\n",
        "dataset = dataset.drop(columns='Unnamed: 32')"
      ],
      "metadata": {
        "id": "GLpqN1_Yz-s_"
      },
      "execution_count": 319,
      "outputs": []
    },
    {
      "cell_type": "markdown",
      "source": [
        "We'll just check now that the column was indeed dropped by checking the shape of the dataset."
      ],
      "metadata": {
        "id": "vV8o5CkU7OBd"
      }
    },
    {
      "cell_type": "code",
      "source": [
        "dataset.shape "
      ],
      "metadata": {
        "colab": {
          "base_uri": "https://localhost:8080/"
        },
        "id": "5EYXc15L7I2_",
        "outputId": "04403263-8fef-42c3-8d32-6ef6ae32d79f"
      },
      "execution_count": 320,
      "outputs": [
        {
          "output_type": "execute_result",
          "data": {
            "text/plain": [
              "(569, 32)"
            ]
          },
          "metadata": {},
          "execution_count": 320
        }
      ]
    },
    {
      "cell_type": "markdown",
      "source": [
        "We see that now we have 32 columns, instead of 33, so the null column has been dropped.\n",
        "\n",
        "We should just confirm that there are no more missing/null values in our dataset."
      ],
      "metadata": {
        "id": "YlrXS5DM7rdc"
      }
    },
    {
      "cell_type": "code",
      "source": [
        "# Checking if any null values exist in the dataset\n",
        "dataset.isnull().values.any()"
      ],
      "metadata": {
        "colab": {
          "base_uri": "https://localhost:8080/"
        },
        "id": "nrI1JE4_7qiI",
        "outputId": "3e57a835-4bc4-45e2-8e44-7f02b517fb06"
      },
      "execution_count": 321,
      "outputs": [
        {
          "output_type": "execute_result",
          "data": {
            "text/plain": [
              "False"
            ]
          },
          "metadata": {},
          "execution_count": 321
        }
      ]
    },
    {
      "cell_type": "markdown",
      "source": [
        "## Handling Categorical Data"
      ],
      "metadata": {
        "id": "ZH3rGB6X_aEj"
      }
    },
    {
      "cell_type": "markdown",
      "source": [
        "We know that the `diagnosis` variable is categorical, so let's explore more of what that data consists of."
      ],
      "metadata": {
        "id": "r7mi4sFZSiSK"
      }
    },
    {
      "cell_type": "code",
      "source": [
        "# How many unique values are there in the diagnosis variable\n",
        "dataset['diagnosis'].nunique()"
      ],
      "metadata": {
        "colab": {
          "base_uri": "https://localhost:8080/"
        },
        "id": "VVRfHaDC_cVj",
        "outputId": "4d03db9f-6624-4304-8c3f-c862bda9a53c"
      },
      "execution_count": 322,
      "outputs": [
        {
          "output_type": "execute_result",
          "data": {
            "text/plain": [
              "2"
            ]
          },
          "metadata": {},
          "execution_count": 322
        }
      ]
    },
    {
      "cell_type": "code",
      "source": [
        "# What are the values\n",
        "dataset['diagnosis'].unique()"
      ],
      "metadata": {
        "colab": {
          "base_uri": "https://localhost:8080/"
        },
        "id": "dwQJiSAAAvan",
        "outputId": "165e6f37-8007-4bd9-c45c-9df1e89bf30c"
      },
      "execution_count": 323,
      "outputs": [
        {
          "output_type": "execute_result",
          "data": {
            "text/plain": [
              "array(['M', 'B'], dtype=object)"
            ]
          },
          "metadata": {},
          "execution_count": 323
        }
      ]
    },
    {
      "cell_type": "markdown",
      "source": [
        "We see that we have M (malignant) and B (benign) values for each observation. \n",
        "\n",
        "Next, since this data is categorical, we're looking at performing One-Hot Encoding.\n",
        "\n",
        "In machine learning, it is often necessary to convert categorical variables into numerical ones in order to feed them into a model. \\\n",
        "\n",
        "One commonly used method for doing this is One-Hot Encoding, which creates a new binary column for each unique category in a categorical variable. In this code, we are using the `pd.get_dummies` function to perform One-Hot Encoding on the dataset. By setting `drop_first=True`, we are dropping the first binary column for each categorical variable, to avoid the issue of perfect multicollinearity, where the columns are perfectly correlated with one another."
      ],
      "metadata": {
        "id": "pQCpT9fwB9ph"
      }
    },
    {
      "cell_type": "code",
      "source": [
        "# One-Hot Encoding\n",
        "dataset = pd.get_dummies(data=dataset, drop_first=True)"
      ],
      "metadata": {
        "id": "s8NpI3-wB8nc"
      },
      "execution_count": 324,
      "outputs": []
    },
    {
      "cell_type": "code",
      "source": [
        "# Checking to make sure it worked\n",
        "dataset.head()"
      ],
      "metadata": {
        "colab": {
          "base_uri": "https://localhost:8080/",
          "height": 317
        },
        "id": "VTR1-3VvCvDl",
        "outputId": "d30403bc-888b-49f7-b637-6b14f6875eaf"
      },
      "execution_count": 325,
      "outputs": [
        {
          "output_type": "execute_result",
          "data": {
            "text/plain": [
              "         id  radius_mean  texture_mean  perimeter_mean  area_mean  \\\n",
              "0    842302        17.99         10.38          122.80     1001.0   \n",
              "1    842517        20.57         17.77          132.90     1326.0   \n",
              "2  84300903        19.69         21.25          130.00     1203.0   \n",
              "3  84348301        11.42         20.38           77.58      386.1   \n",
              "4  84358402        20.29         14.34          135.10     1297.0   \n",
              "\n",
              "   smoothness_mean  compactness_mean  concavity_mean  concave points_mean  \\\n",
              "0          0.11840           0.27760          0.3001              0.14710   \n",
              "1          0.08474           0.07864          0.0869              0.07017   \n",
              "2          0.10960           0.15990          0.1974              0.12790   \n",
              "3          0.14250           0.28390          0.2414              0.10520   \n",
              "4          0.10030           0.13280          0.1980              0.10430   \n",
              "\n",
              "   symmetry_mean  ...  texture_worst  perimeter_worst  area_worst  \\\n",
              "0         0.2419  ...          17.33           184.60      2019.0   \n",
              "1         0.1812  ...          23.41           158.80      1956.0   \n",
              "2         0.2069  ...          25.53           152.50      1709.0   \n",
              "3         0.2597  ...          26.50            98.87       567.7   \n",
              "4         0.1809  ...          16.67           152.20      1575.0   \n",
              "\n",
              "   smoothness_worst  compactness_worst  concavity_worst  concave points_worst  \\\n",
              "0            0.1622             0.6656           0.7119                0.2654   \n",
              "1            0.1238             0.1866           0.2416                0.1860   \n",
              "2            0.1444             0.4245           0.4504                0.2430   \n",
              "3            0.2098             0.8663           0.6869                0.2575   \n",
              "4            0.1374             0.2050           0.4000                0.1625   \n",
              "\n",
              "   symmetry_worst  fractal_dimension_worst  diagnosis_M  \n",
              "0          0.4601                  0.11890            1  \n",
              "1          0.2750                  0.08902            1  \n",
              "2          0.3613                  0.08758            1  \n",
              "3          0.6638                  0.17300            1  \n",
              "4          0.2364                  0.07678            1  \n",
              "\n",
              "[5 rows x 32 columns]"
            ],
            "text/html": [
              "\n",
              "  <div id=\"df-86064ab2-654b-4daf-99cd-9717adeffed8\">\n",
              "    <div class=\"colab-df-container\">\n",
              "      <div>\n",
              "<style scoped>\n",
              "    .dataframe tbody tr th:only-of-type {\n",
              "        vertical-align: middle;\n",
              "    }\n",
              "\n",
              "    .dataframe tbody tr th {\n",
              "        vertical-align: top;\n",
              "    }\n",
              "\n",
              "    .dataframe thead th {\n",
              "        text-align: right;\n",
              "    }\n",
              "</style>\n",
              "<table border=\"1\" class=\"dataframe\">\n",
              "  <thead>\n",
              "    <tr style=\"text-align: right;\">\n",
              "      <th></th>\n",
              "      <th>id</th>\n",
              "      <th>radius_mean</th>\n",
              "      <th>texture_mean</th>\n",
              "      <th>perimeter_mean</th>\n",
              "      <th>area_mean</th>\n",
              "      <th>smoothness_mean</th>\n",
              "      <th>compactness_mean</th>\n",
              "      <th>concavity_mean</th>\n",
              "      <th>concave points_mean</th>\n",
              "      <th>symmetry_mean</th>\n",
              "      <th>...</th>\n",
              "      <th>texture_worst</th>\n",
              "      <th>perimeter_worst</th>\n",
              "      <th>area_worst</th>\n",
              "      <th>smoothness_worst</th>\n",
              "      <th>compactness_worst</th>\n",
              "      <th>concavity_worst</th>\n",
              "      <th>concave points_worst</th>\n",
              "      <th>symmetry_worst</th>\n",
              "      <th>fractal_dimension_worst</th>\n",
              "      <th>diagnosis_M</th>\n",
              "    </tr>\n",
              "  </thead>\n",
              "  <tbody>\n",
              "    <tr>\n",
              "      <th>0</th>\n",
              "      <td>842302</td>\n",
              "      <td>17.99</td>\n",
              "      <td>10.38</td>\n",
              "      <td>122.80</td>\n",
              "      <td>1001.0</td>\n",
              "      <td>0.11840</td>\n",
              "      <td>0.27760</td>\n",
              "      <td>0.3001</td>\n",
              "      <td>0.14710</td>\n",
              "      <td>0.2419</td>\n",
              "      <td>...</td>\n",
              "      <td>17.33</td>\n",
              "      <td>184.60</td>\n",
              "      <td>2019.0</td>\n",
              "      <td>0.1622</td>\n",
              "      <td>0.6656</td>\n",
              "      <td>0.7119</td>\n",
              "      <td>0.2654</td>\n",
              "      <td>0.4601</td>\n",
              "      <td>0.11890</td>\n",
              "      <td>1</td>\n",
              "    </tr>\n",
              "    <tr>\n",
              "      <th>1</th>\n",
              "      <td>842517</td>\n",
              "      <td>20.57</td>\n",
              "      <td>17.77</td>\n",
              "      <td>132.90</td>\n",
              "      <td>1326.0</td>\n",
              "      <td>0.08474</td>\n",
              "      <td>0.07864</td>\n",
              "      <td>0.0869</td>\n",
              "      <td>0.07017</td>\n",
              "      <td>0.1812</td>\n",
              "      <td>...</td>\n",
              "      <td>23.41</td>\n",
              "      <td>158.80</td>\n",
              "      <td>1956.0</td>\n",
              "      <td>0.1238</td>\n",
              "      <td>0.1866</td>\n",
              "      <td>0.2416</td>\n",
              "      <td>0.1860</td>\n",
              "      <td>0.2750</td>\n",
              "      <td>0.08902</td>\n",
              "      <td>1</td>\n",
              "    </tr>\n",
              "    <tr>\n",
              "      <th>2</th>\n",
              "      <td>84300903</td>\n",
              "      <td>19.69</td>\n",
              "      <td>21.25</td>\n",
              "      <td>130.00</td>\n",
              "      <td>1203.0</td>\n",
              "      <td>0.10960</td>\n",
              "      <td>0.15990</td>\n",
              "      <td>0.1974</td>\n",
              "      <td>0.12790</td>\n",
              "      <td>0.2069</td>\n",
              "      <td>...</td>\n",
              "      <td>25.53</td>\n",
              "      <td>152.50</td>\n",
              "      <td>1709.0</td>\n",
              "      <td>0.1444</td>\n",
              "      <td>0.4245</td>\n",
              "      <td>0.4504</td>\n",
              "      <td>0.2430</td>\n",
              "      <td>0.3613</td>\n",
              "      <td>0.08758</td>\n",
              "      <td>1</td>\n",
              "    </tr>\n",
              "    <tr>\n",
              "      <th>3</th>\n",
              "      <td>84348301</td>\n",
              "      <td>11.42</td>\n",
              "      <td>20.38</td>\n",
              "      <td>77.58</td>\n",
              "      <td>386.1</td>\n",
              "      <td>0.14250</td>\n",
              "      <td>0.28390</td>\n",
              "      <td>0.2414</td>\n",
              "      <td>0.10520</td>\n",
              "      <td>0.2597</td>\n",
              "      <td>...</td>\n",
              "      <td>26.50</td>\n",
              "      <td>98.87</td>\n",
              "      <td>567.7</td>\n",
              "      <td>0.2098</td>\n",
              "      <td>0.8663</td>\n",
              "      <td>0.6869</td>\n",
              "      <td>0.2575</td>\n",
              "      <td>0.6638</td>\n",
              "      <td>0.17300</td>\n",
              "      <td>1</td>\n",
              "    </tr>\n",
              "    <tr>\n",
              "      <th>4</th>\n",
              "      <td>84358402</td>\n",
              "      <td>20.29</td>\n",
              "      <td>14.34</td>\n",
              "      <td>135.10</td>\n",
              "      <td>1297.0</td>\n",
              "      <td>0.10030</td>\n",
              "      <td>0.13280</td>\n",
              "      <td>0.1980</td>\n",
              "      <td>0.10430</td>\n",
              "      <td>0.1809</td>\n",
              "      <td>...</td>\n",
              "      <td>16.67</td>\n",
              "      <td>152.20</td>\n",
              "      <td>1575.0</td>\n",
              "      <td>0.1374</td>\n",
              "      <td>0.2050</td>\n",
              "      <td>0.4000</td>\n",
              "      <td>0.1625</td>\n",
              "      <td>0.2364</td>\n",
              "      <td>0.07678</td>\n",
              "      <td>1</td>\n",
              "    </tr>\n",
              "  </tbody>\n",
              "</table>\n",
              "<p>5 rows × 32 columns</p>\n",
              "</div>\n",
              "      <button class=\"colab-df-convert\" onclick=\"convertToInteractive('df-86064ab2-654b-4daf-99cd-9717adeffed8')\"\n",
              "              title=\"Convert this dataframe to an interactive table.\"\n",
              "              style=\"display:none;\">\n",
              "        \n",
              "  <svg xmlns=\"http://www.w3.org/2000/svg\" height=\"24px\"viewBox=\"0 0 24 24\"\n",
              "       width=\"24px\">\n",
              "    <path d=\"M0 0h24v24H0V0z\" fill=\"none\"/>\n",
              "    <path d=\"M18.56 5.44l.94 2.06.94-2.06 2.06-.94-2.06-.94-.94-2.06-.94 2.06-2.06.94zm-11 1L8.5 8.5l.94-2.06 2.06-.94-2.06-.94L8.5 2.5l-.94 2.06-2.06.94zm10 10l.94 2.06.94-2.06 2.06-.94-2.06-.94-.94-2.06-.94 2.06-2.06.94z\"/><path d=\"M17.41 7.96l-1.37-1.37c-.4-.4-.92-.59-1.43-.59-.52 0-1.04.2-1.43.59L10.3 9.45l-7.72 7.72c-.78.78-.78 2.05 0 2.83L4 21.41c.39.39.9.59 1.41.59.51 0 1.02-.2 1.41-.59l7.78-7.78 2.81-2.81c.8-.78.8-2.07 0-2.86zM5.41 20L4 18.59l7.72-7.72 1.47 1.35L5.41 20z\"/>\n",
              "  </svg>\n",
              "      </button>\n",
              "      \n",
              "  <style>\n",
              "    .colab-df-container {\n",
              "      display:flex;\n",
              "      flex-wrap:wrap;\n",
              "      gap: 12px;\n",
              "    }\n",
              "\n",
              "    .colab-df-convert {\n",
              "      background-color: #E8F0FE;\n",
              "      border: none;\n",
              "      border-radius: 50%;\n",
              "      cursor: pointer;\n",
              "      display: none;\n",
              "      fill: #1967D2;\n",
              "      height: 32px;\n",
              "      padding: 0 0 0 0;\n",
              "      width: 32px;\n",
              "    }\n",
              "\n",
              "    .colab-df-convert:hover {\n",
              "      background-color: #E2EBFA;\n",
              "      box-shadow: 0px 1px 2px rgba(60, 64, 67, 0.3), 0px 1px 3px 1px rgba(60, 64, 67, 0.15);\n",
              "      fill: #174EA6;\n",
              "    }\n",
              "\n",
              "    [theme=dark] .colab-df-convert {\n",
              "      background-color: #3B4455;\n",
              "      fill: #D2E3FC;\n",
              "    }\n",
              "\n",
              "    [theme=dark] .colab-df-convert:hover {\n",
              "      background-color: #434B5C;\n",
              "      box-shadow: 0px 1px 3px 1px rgba(0, 0, 0, 0.15);\n",
              "      filter: drop-shadow(0px 1px 2px rgba(0, 0, 0, 0.3));\n",
              "      fill: #FFFFFF;\n",
              "    }\n",
              "  </style>\n",
              "\n",
              "      <script>\n",
              "        const buttonEl =\n",
              "          document.querySelector('#df-86064ab2-654b-4daf-99cd-9717adeffed8 button.colab-df-convert');\n",
              "        buttonEl.style.display =\n",
              "          google.colab.kernel.accessAllowed ? 'block' : 'none';\n",
              "\n",
              "        async function convertToInteractive(key) {\n",
              "          const element = document.querySelector('#df-86064ab2-654b-4daf-99cd-9717adeffed8');\n",
              "          const dataTable =\n",
              "            await google.colab.kernel.invokeFunction('convertToInteractive',\n",
              "                                                     [key], {});\n",
              "          if (!dataTable) return;\n",
              "\n",
              "          const docLinkHtml = 'Like what you see? Visit the ' +\n",
              "            '<a target=\"_blank\" href=https://colab.research.google.com/notebooks/data_table.ipynb>data table notebook</a>'\n",
              "            + ' to learn more about interactive tables.';\n",
              "          element.innerHTML = '';\n",
              "          dataTable['output_type'] = 'display_data';\n",
              "          await google.colab.output.renderOutput(dataTable, element);\n",
              "          const docLink = document.createElement('div');\n",
              "          docLink.innerHTML = docLinkHtml;\n",
              "          element.appendChild(docLink);\n",
              "        }\n",
              "      </script>\n",
              "    </div>\n",
              "  </div>\n",
              "  "
            ]
          },
          "metadata": {},
          "execution_count": 325
        }
      ]
    },
    {
      "cell_type": "markdown",
      "source": [
        "We see the `diagnosis` variable is now gone, and a new variable is added, `diagnosis_M` , with binary values 1 if the cancer is malignant, and 0 if the cancer is benign."
      ],
      "metadata": {
        "id": "qJsg9wxrPQ_d"
      }
    },
    {
      "cell_type": "markdown",
      "source": [
        "## Countplot\n"
      ],
      "metadata": {
        "id": "uvzvX5NGaqTy"
      }
    },
    {
      "cell_type": "markdown",
      "source": [
        "The `sns.countplot` function from the Seaborn library allows us to visualize the distribution of a categorical variable. In this code, we are plotting the distribution of the binary variable `diagnosis_M`, which represents the diagnosis of the breast cancer as either malignant (1) or benign (0). \n",
        "\n",
        "The `count` label provides a label for the y-axis, which shows the count of instances in each class. This plot can help us get a sense of the balance or imbalance in the classes, which is important in evaluating the performance of a machine learning model and determining if any further steps, such as oversampling or undersampling, may be necessary."
      ],
      "metadata": {
        "id": "RmsLD8WBbM1X"
      }
    },
    {
      "cell_type": "code",
      "source": [
        "# Checking count of benign (0) and malignant (1)\n",
        "sns.countplot(dataset['diagnosis_M'], label='count')"
      ],
      "metadata": {
        "colab": {
          "base_uri": "https://localhost:8080/",
          "height": 352
        },
        "id": "ccaplfCEau-5",
        "outputId": "2508d84a-62a9-4cb3-d1f8-1269ec8dac2f"
      },
      "execution_count": 326,
      "outputs": [
        {
          "output_type": "stream",
          "name": "stderr",
          "text": [
            "/usr/local/lib/python3.8/dist-packages/seaborn/_decorators.py:36: FutureWarning: Pass the following variable as a keyword arg: x. From version 0.12, the only valid positional argument will be `data`, and passing other arguments without an explicit keyword will result in an error or misinterpretation.\n",
            "  warnings.warn(\n"
          ]
        },
        {
          "output_type": "execute_result",
          "data": {
            "text/plain": [
              "<AxesSubplot:xlabel='diagnosis_M', ylabel='count'>"
            ]
          },
          "metadata": {},
          "execution_count": 326
        },
        {
          "output_type": "display_data",
          "data": {
            "text/plain": [
              "<Figure size 432x288 with 1 Axes>"
            ],
            "image/png": "[encoded data removed]"
          },
          "metadata": {
            "needs_background": "light"
          }
        }
      ]
    },
    {
      "cell_type": "markdown",
      "source": [
        "We can see the blue bar indicates the 0 (benign) values, and the orange bar indicates the 1 (malignant) values.\n",
        "\n",
        "We also check the exact amount of these values.\n"
      ],
      "metadata": {
        "id": "WUlAuAbccEMz"
      }
    },
    {
      "cell_type": "code",
      "source": [
        "# Benign Values\n",
        "(dataset.diagnosis_M == 0).sum()"
      ],
      "metadata": {
        "colab": {
          "base_uri": "https://localhost:8080/"
        },
        "id": "b_-Zh1KqbkF0",
        "outputId": "5b0341a6-6cf6-4de3-e78b-b840c78f9ff2"
      },
      "execution_count": 327,
      "outputs": [
        {
          "output_type": "execute_result",
          "data": {
            "text/plain": [
              "357"
            ]
          },
          "metadata": {},
          "execution_count": 327
        }
      ]
    },
    {
      "cell_type": "code",
      "source": [
        "# Malignant values\n",
        "(dataset.diagnosis_M == 1).sum()"
      ],
      "metadata": {
        "colab": {
          "base_uri": "https://localhost:8080/"
        },
        "id": "G-3Y0v6am-yt",
        "outputId": "9992bbfd-4be8-4d2e-a1a1-904d6174b5ad"
      },
      "execution_count": 328,
      "outputs": [
        {
          "output_type": "execute_result",
          "data": {
            "text/plain": [
              "212"
            ]
          },
          "metadata": {},
          "execution_count": 328
        }
      ]
    },
    {
      "cell_type": "markdown",
      "source": [
        "## Correlation Matrix and Heatmap"
      ],
      "metadata": {
        "id": "ejTjsg6Vq3jx"
      }
    },
    {
      "cell_type": "markdown",
      "source": [
        "A correlation matrix is a table that shows the correlation between multiple variables. In our case, we are interested in exploring the relationship between the different features and the target variable `diagnosis`. \n",
        "\n",
        "By creating a correlation matrix and visualizing it as a heatmap, we can quickly see which features are most highly correlated with the target variable, and which features may not be as useful in our analysis. \n",
        "\n",
        "This information can help us in selecting a subset of features for building our machine learning model, and can also give us insights into the relationships between the variables in the dataset."
      ],
      "metadata": {
        "id": "77BrJ9953hjS"
      }
    },
    {
      "cell_type": "code",
      "source": [
        "# Creating a new temporary dataset where we drop the predictor variable\n",
        "dataset_temp = dataset.drop(columns='diagnosis_M')"
      ],
      "metadata": {
        "id": "ee6Jh9kDrb3X"
      },
      "execution_count": 329,
      "outputs": []
    },
    {
      "cell_type": "code",
      "source": [
        "# Checking to make sure the variable has been dropped\n",
        "dataset_temp.head()"
      ],
      "metadata": {
        "colab": {
          "base_uri": "https://localhost:8080/",
          "height": 317
        },
        "id": "4FO9DY8TrqXh",
        "outputId": "d293776b-1312-4882-d93c-208ce0c8eeb0"
      },
      "execution_count": 330,
      "outputs": [
        {
          "output_type": "execute_result",
          "data": {
            "text/plain": [
              "         id  radius_mean  texture_mean  perimeter_mean  area_mean  \\\n",
              "0    842302        17.99         10.38          122.80     1001.0   \n",
              "1    842517        20.57         17.77          132.90     1326.0   \n",
              "2  84300903        19.69         21.25          130.00     1203.0   \n",
              "3  84348301        11.42         20.38           77.58      386.1   \n",
              "4  84358402        20.29         14.34          135.10     1297.0   \n",
              "\n",
              "   smoothness_mean  compactness_mean  concavity_mean  concave points_mean  \\\n",
              "0          0.11840           0.27760          0.3001              0.14710   \n",
              "1          0.08474           0.07864          0.0869              0.07017   \n",
              "2          0.10960           0.15990          0.1974              0.12790   \n",
              "3          0.14250           0.28390          0.2414              0.10520   \n",
              "4          0.10030           0.13280          0.1980              0.10430   \n",
              "\n",
              "   symmetry_mean  ...  radius_worst  texture_worst  perimeter_worst  \\\n",
              "0         0.2419  ...         25.38          17.33           184.60   \n",
              "1         0.1812  ...         24.99          23.41           158.80   \n",
              "2         0.2069  ...         23.57          25.53           152.50   \n",
              "3         0.2597  ...         14.91          26.50            98.87   \n",
              "4         0.1809  ...         22.54          16.67           152.20   \n",
              "\n",
              "   area_worst  smoothness_worst  compactness_worst  concavity_worst  \\\n",
              "0      2019.0            0.1622             0.6656           0.7119   \n",
              "1      1956.0            0.1238             0.1866           0.2416   \n",
              "2      1709.0            0.1444             0.4245           0.4504   \n",
              "3       567.7            0.2098             0.8663           0.6869   \n",
              "4      1575.0            0.1374             0.2050           0.4000   \n",
              "\n",
              "   concave points_worst  symmetry_worst  fractal_dimension_worst  \n",
              "0                0.2654          0.4601                  0.11890  \n",
              "1                0.1860          0.2750                  0.08902  \n",
              "2                0.2430          0.3613                  0.08758  \n",
              "3                0.2575          0.6638                  0.17300  \n",
              "4                0.1625          0.2364                  0.07678  \n",
              "\n",
              "[5 rows x 31 columns]"
            ],
            "text/html": [
              "\n",
              "  <div id=\"df-76e42356-4711-4879-992d-79ee2933fc30\">\n",
              "    <div class=\"colab-df-container\">\n",
              "      <div>\n",
              "<style scoped>\n",
              "    .dataframe tbody tr th:only-of-type {\n",
              "        vertical-align: middle;\n",
              "    }\n",
              "\n",
              "    .dataframe tbody tr th {\n",
              "        vertical-align: top;\n",
              "    }\n",
              "\n",
              "    .dataframe thead th {\n",
              "        text-align: right;\n",
              "    }\n",
              "</style>\n",
              "<table border=\"1\" class=\"dataframe\">\n",
              "  <thead>\n",
              "    <tr style=\"text-align: right;\">\n",
              "      <th></th>\n",
              "      <th>id</th>\n",
              "      <th>radius_mean</th>\n",
              "      <th>texture_mean</th>\n",
              "      <th>perimeter_mean</th>\n",
              "      <th>area_mean</th>\n",
              "      <th>smoothness_mean</th>\n",
              "      <th>compactness_mean</th>\n",
              "      <th>concavity_mean</th>\n",
              "      <th>concave points_mean</th>\n",
              "      <th>symmetry_mean</th>\n",
              "      <th>...</th>\n",
              "      <th>radius_worst</th>\n",
              "      <th>texture_worst</th>\n",
              "      <th>perimeter_worst</th>\n",
              "      <th>area_worst</th>\n",
              "      <th>smoothness_worst</th>\n",
              "      <th>compactness_worst</th>\n",
              "      <th>concavity_worst</th>\n",
              "      <th>concave points_worst</th>\n",
              "      <th>symmetry_worst</th>\n",
              "      <th>fractal_dimension_worst</th>\n",
              "    </tr>\n",
              "  </thead>\n",
              "  <tbody>\n",
              "    <tr>\n",
              "      <th>0</th>\n",
              "      <td>842302</td>\n",
              "      <td>17.99</td>\n",
              "      <td>10.38</td>\n",
              "      <td>122.80</td>\n",
              "      <td>1001.0</td>\n",
              "      <td>0.11840</td>\n",
              "      <td>0.27760</td>\n",
              "      <td>0.3001</td>\n",
              "      <td>0.14710</td>\n",
              "      <td>0.2419</td>\n",
              "      <td>...</td>\n",
              "      <td>25.38</td>\n",
              "      <td>17.33</td>\n",
              "      <td>184.60</td>\n",
              "      <td>2019.0</td>\n",
              "      <td>0.1622</td>\n",
              "      <td>0.6656</td>\n",
              "      <td>0.7119</td>\n",
              "      <td>0.2654</td>\n",
              "      <td>0.4601</td>\n",
              "      <td>0.11890</td>\n",
              "    </tr>\n",
              "    <tr>\n",
              "      <th>1</th>\n",
              "      <td>842517</td>\n",
              "      <td>20.57</td>\n",
              "      <td>17.77</td>\n",
              "      <td>132.90</td>\n",
              "      <td>1326.0</td>\n",
              "      <td>0.08474</td>\n",
              "      <td>0.07864</td>\n",
              "      <td>0.0869</td>\n",
              "      <td>0.07017</td>\n",
              "      <td>0.1812</td>\n",
              "      <td>...</td>\n",
              "      <td>24.99</td>\n",
              "      <td>23.41</td>\n",
              "      <td>158.80</td>\n",
              "      <td>1956.0</td>\n",
              "      <td>0.1238</td>\n",
              "      <td>0.1866</td>\n",
              "      <td>0.2416</td>\n",
              "      <td>0.1860</td>\n",
              "      <td>0.2750</td>\n",
              "      <td>0.08902</td>\n",
              "    </tr>\n",
              "    <tr>\n",
              "      <th>2</th>\n",
              "      <td>84300903</td>\n",
              "      <td>19.69</td>\n",
              "      <td>21.25</td>\n",
              "      <td>130.00</td>\n",
              "      <td>1203.0</td>\n",
              "      <td>0.10960</td>\n",
              "      <td>0.15990</td>\n",
              "      <td>0.1974</td>\n",
              "      <td>0.12790</td>\n",
              "      <td>0.2069</td>\n",
              "      <td>...</td>\n",
              "      <td>23.57</td>\n",
              "      <td>25.53</td>\n",
              "      <td>152.50</td>\n",
              "      <td>1709.0</td>\n",
              "      <td>0.1444</td>\n",
              "      <td>0.4245</td>\n",
              "      <td>0.4504</td>\n",
              "      <td>0.2430</td>\n",
              "      <td>0.3613</td>\n",
              "      <td>0.08758</td>\n",
              "    </tr>\n",
              "    <tr>\n",
              "      <th>3</th>\n",
              "      <td>84348301</td>\n",
              "      <td>11.42</td>\n",
              "      <td>20.38</td>\n",
              "      <td>77.58</td>\n",
              "      <td>386.1</td>\n",
              "      <td>0.14250</td>\n",
              "      <td>0.28390</td>\n",
              "      <td>0.2414</td>\n",
              "      <td>0.10520</td>\n",
              "      <td>0.2597</td>\n",
              "      <td>...</td>\n",
              "      <td>14.91</td>\n",
              "      <td>26.50</td>\n",
              "      <td>98.87</td>\n",
              "      <td>567.7</td>\n",
              "      <td>0.2098</td>\n",
              "      <td>0.8663</td>\n",
              "      <td>0.6869</td>\n",
              "      <td>0.2575</td>\n",
              "      <td>0.6638</td>\n",
              "      <td>0.17300</td>\n",
              "    </tr>\n",
              "    <tr>\n",
              "      <th>4</th>\n",
              "      <td>84358402</td>\n",
              "      <td>20.29</td>\n",
              "      <td>14.34</td>\n",
              "      <td>135.10</td>\n",
              "      <td>1297.0</td>\n",
              "      <td>0.10030</td>\n",
              "      <td>0.13280</td>\n",
              "      <td>0.1980</td>\n",
              "      <td>0.10430</td>\n",
              "      <td>0.1809</td>\n",
              "      <td>...</td>\n",
              "      <td>22.54</td>\n",
              "      <td>16.67</td>\n",
              "      <td>152.20</td>\n",
              "      <td>1575.0</td>\n",
              "      <td>0.1374</td>\n",
              "      <td>0.2050</td>\n",
              "      <td>0.4000</td>\n",
              "      <td>0.1625</td>\n",
              "      <td>0.2364</td>\n",
              "      <td>0.07678</td>\n",
              "    </tr>\n",
              "  </tbody>\n",
              "</table>\n",
              "<p>5 rows × 31 columns</p>\n",
              "</div>\n",
              "      <button class=\"colab-df-convert\" onclick=\"convertToInteractive('df-76e42356-4711-4879-992d-79ee2933fc30')\"\n",
              "              title=\"Convert this dataframe to an interactive table.\"\n",
              "              style=\"display:none;\">\n",
              "        \n",
              "  <svg xmlns=\"http://www.w3.org/2000/svg\" height=\"24px\"viewBox=\"0 0 24 24\"\n",
              "       width=\"24px\">\n",
              "    <path d=\"M0 0h24v24H0V0z\" fill=\"none\"/>\n",
              "    <path d=\"M18.56 5.44l.94 2.06.94-2.06 2.06-.94-2.06-.94-.94-2.06-.94 2.06-2.06.94zm-11 1L8.5 8.5l.94-2.06 2.06-.94-2.06-.94L8.5 2.5l-.94 2.06-2.06.94zm10 10l.94 2.06.94-2.06 2.06-.94-2.06-.94-.94-2.06-.94 2.06-2.06.94z\"/><path d=\"M17.41 7.96l-1.37-1.37c-.4-.4-.92-.59-1.43-.59-.52 0-1.04.2-1.43.59L10.3 9.45l-7.72 7.72c-.78.78-.78 2.05 0 2.83L4 21.41c.39.39.9.59 1.41.59.51 0 1.02-.2 1.41-.59l7.78-7.78 2.81-2.81c.8-.78.8-2.07 0-2.86zM5.41 20L4 18.59l7.72-7.72 1.47 1.35L5.41 20z\"/>\n",
              "  </svg>\n",
              "      </button>\n",
              "      \n",
              "  <style>\n",
              "    .colab-df-container {\n",
              "      display:flex;\n",
              "      flex-wrap:wrap;\n",
              "      gap: 12px;\n",
              "    }\n",
              "\n",
              "    .colab-df-convert {\n",
              "      background-color: #E8F0FE;\n",
              "      border: none;\n",
              "      border-radius: 50%;\n",
              "      cursor: pointer;\n",
              "      display: none;\n",
              "      fill: #1967D2;\n",
              "      height: 32px;\n",
              "      padding: 0 0 0 0;\n",
              "      width: 32px;\n",
              "    }\n",
              "\n",
              "    .colab-df-convert:hover {\n",
              "      background-color: #E2EBFA;\n",
              "      box-shadow: 0px 1px 2px rgba(60, 64, 67, 0.3), 0px 1px 3px 1px rgba(60, 64, 67, 0.15);\n",
              "      fill: #174EA6;\n",
              "    }\n",
              "\n",
              "    [theme=dark] .colab-df-convert {\n",
              "      background-color: #3B4455;\n",
              "      fill: #D2E3FC;\n",
              "    }\n",
              "\n",
              "    [theme=dark] .colab-df-convert:hover {\n",
              "      background-color: #434B5C;\n",
              "      box-shadow: 0px 1px 3px 1px rgba(0, 0, 0, 0.15);\n",
              "      filter: drop-shadow(0px 1px 2px rgba(0, 0, 0, 0.3));\n",
              "      fill: #FFFFFF;\n",
              "    }\n",
              "  </style>\n",
              "\n",
              "      <script>\n",
              "        const buttonEl =\n",
              "          document.querySelector('#df-76e42356-4711-4879-992d-79ee2933fc30 button.colab-df-convert');\n",
              "        buttonEl.style.display =\n",
              "          google.colab.kernel.accessAllowed ? 'block' : 'none';\n",
              "\n",
              "        async function convertToInteractive(key) {\n",
              "          const element = document.querySelector('#df-76e42356-4711-4879-992d-79ee2933fc30');\n",
              "          const dataTable =\n",
              "            await google.colab.kernel.invokeFunction('convertToInteractive',\n",
              "                                                     [key], {});\n",
              "          if (!dataTable) return;\n",
              "\n",
              "          const docLinkHtml = 'Like what you see? Visit the ' +\n",
              "            '<a target=\"_blank\" href=https://colab.research.google.com/notebooks/data_table.ipynb>data table notebook</a>'\n",
              "            + ' to learn more about interactive tables.';\n",
              "          element.innerHTML = '';\n",
              "          dataTable['output_type'] = 'display_data';\n",
              "          await google.colab.output.renderOutput(dataTable, element);\n",
              "          const docLink = document.createElement('div');\n",
              "          docLink.innerHTML = docLinkHtml;\n",
              "          element.appendChild(docLink);\n",
              "        }\n",
              "      </script>\n",
              "    </div>\n",
              "  </div>\n",
              "  "
            ]
          },
          "metadata": {},
          "execution_count": 330
        }
      ]
    },
    {
      "cell_type": "markdown",
      "source": [
        "We confirm that the `diagnosis_M` variable has been dropped, and now we look to create a bar plot to visualize the correlation between each feature in the dataset and the target variable, diagnosis_M. \n",
        "\n",
        "By plotting the correlation values in this way, we can see at a high level which features are most strongly related to the target variable, allowing us to determine which features are the most important for our analysis. \n",
        "\n",
        "This visualization provides a clear and easily interpretable representation of the relationships between the features and target, helping us to make informed decisions about how to proceed with our analysis."
      ],
      "metadata": {
        "id": "U3Ju0Hx5-DaI"
      }
    },
    {
      "cell_type": "code",
      "source": [
        "# Creating a bat plot with correlations to diagnosis_M\n",
        "dataset_temp.corrwith(dataset['diagnosis_M']).plot.bar(\n",
        "    figsize = (20,10), title = 'Correlated with diagnosis_M', rot = 45, grid = True\n",
        ")"
      ],
      "metadata": {
        "colab": {
          "base_uri": "https://localhost:8080/",
          "height": 709
        },
        "id": "xEAvQs1fruhZ",
        "outputId": "be716d1d-1e28-4bd6-aac4-c0bb0ee8859f"
      },
      "execution_count": 331,
      "outputs": [
        {
          "output_type": "execute_result",
          "data": {
            "text/plain": [
              "<AxesSubplot:title={'center':'Correlated with diagnosis_M'}>"
            ]
          },
          "metadata": {},
          "execution_count": 331
        },
        {
          "output_type": "display_data",
          "data": {
            "text/plain": [
              "<Figure size 1440x720 with 1 Axes>"
            ],
            "image/png": "[encoded data removed]"
          },
          "metadata": {
            "needs_background": "light"
          }
        }
      ]
    },
    {
      "cell_type": "markdown",
      "source": [
        "This bar plot visualizes the correlation between each feature in the dataset and the target variable diagnosis_M. \n",
        "\n",
        "Features with a high correlation to diagnosis_M are represented by the bars with larger heights, while those with lower correlation are represented by smaller bars. \n",
        "\n",
        "The height of each bar represents the strength of the correlation, with positive correlations (features increasing as the target variable increases) represented by bars on the right side of the plot and negative correlations (features decreasing as the target variable increases) represented by bars on the left side. \n",
        "\n",
        "By identifying the features with high correlation to the target variable, we can gain insights into which features are most relevant for predicting the diagnosis of breast cancer.\n",
        "\n",
        "We'll now look at creating a correlation matrix."
      ],
      "metadata": {
        "id": "hK73NjwLAYt8"
      }
    },
    {
      "cell_type": "code",
      "source": [
        "# Creating a correlation matrix\n",
        "corr = dataset.corr()\n",
        "corr"
      ],
      "metadata": {
        "colab": {
          "base_uri": "https://localhost:8080/",
          "height": 1000
        },
        "id": "ECB0fNShsSLl",
        "outputId": "6826bf66-5caa-4300-bb19-5eff919a5115"
      },
      "execution_count": 332,
      "outputs": [
        {
          "output_type": "execute_result",
          "data": {
            "text/plain": [
              "                               id  radius_mean  texture_mean  perimeter_mean  \\\n",
              "id                       1.000000     0.074626      0.099770        0.073159   \n",
              "radius_mean              0.074626     1.000000      0.323782        0.997855   \n",
              "texture_mean             0.099770     0.323782      1.000000        0.329533   \n",
              "perimeter_mean           0.073159     0.997855      0.329533        1.000000   \n",
              "area_mean                0.096893     0.987357      0.321086        0.986507   \n",
              "smoothness_mean         -0.012968     0.170581     -0.023389        0.207278   \n",
              "compactness_mean         0.000096     0.506124      0.236702        0.556936   \n",
              "concavity_mean           0.050080     0.676764      0.302418        0.716136   \n",
              "concave points_mean      0.044158     0.822529      0.293464        0.850977   \n",
              "symmetry_mean           -0.022114     0.147741      0.071401        0.183027   \n",
              "fractal_dimension_mean  -0.052511    -0.311631     -0.076437       -0.261477   \n",
              "radius_se                0.143048     0.679090      0.275869        0.691765   \n",
              "texture_se              -0.007526    -0.097317      0.386358       -0.086761   \n",
              "perimeter_se             0.137331     0.674172      0.281673        0.693135   \n",
              "area_se                  0.177742     0.735864      0.259845        0.744983   \n",
              "smoothness_se            0.096781    -0.222600      0.006614       -0.202694   \n",
              "compactness_se           0.033961     0.206000      0.191975        0.250744   \n",
              "concavity_se             0.055239     0.194204      0.143293        0.228082   \n",
              "concave points_se        0.078768     0.376169      0.163851        0.407217   \n",
              "symmetry_se             -0.017306    -0.104321      0.009127       -0.081629   \n",
              "fractal_dimension_se     0.025725    -0.042641      0.054458       -0.005523   \n",
              "radius_worst             0.082405     0.969539      0.352573        0.969476   \n",
              "texture_worst            0.064720     0.297008      0.912045        0.303038   \n",
              "perimeter_worst          0.079986     0.965137      0.358040        0.970387   \n",
              "area_worst               0.107187     0.941082      0.343546        0.941550   \n",
              "smoothness_worst         0.010338     0.119616      0.077503        0.150549   \n",
              "compactness_worst       -0.002968     0.413463      0.277830        0.455774   \n",
              "concavity_worst          0.023203     0.526911      0.301025        0.563879   \n",
              "concave points_worst     0.035174     0.744214      0.295316        0.771241   \n",
              "symmetry_worst          -0.044224     0.163953      0.105008        0.189115   \n",
              "fractal_dimension_worst -0.029866     0.007066      0.119205        0.051019   \n",
              "diagnosis_M              0.039769     0.730029      0.415185        0.742636   \n",
              "\n",
              "                         area_mean  smoothness_mean  compactness_mean  \\\n",
              "id                        0.096893        -0.012968          0.000096   \n",
              "radius_mean               0.987357         0.170581          0.506124   \n",
              "texture_mean              0.321086        -0.023389          0.236702   \n",
              "perimeter_mean            0.986507         0.207278          0.556936   \n",
              "area_mean                 1.000000         0.177028          0.498502   \n",
              "smoothness_mean           0.177028         1.000000          0.659123   \n",
              "compactness_mean          0.498502         0.659123          1.000000   \n",
              "concavity_mean            0.685983         0.521984          0.883121   \n",
              "concave points_mean       0.823269         0.553695          0.831135   \n",
              "symmetry_mean             0.151293         0.557775          0.602641   \n",
              "fractal_dimension_mean   -0.283110         0.584792          0.565369   \n",
              "radius_se                 0.732562         0.301467          0.497473   \n",
              "texture_se               -0.066280         0.068406          0.046205   \n",
              "perimeter_se              0.726628         0.296092          0.548905   \n",
              "area_se                   0.800086         0.246552          0.455653   \n",
              "smoothness_se            -0.166777         0.332375          0.135299   \n",
              "compactness_se            0.212583         0.318943          0.738722   \n",
              "concavity_se              0.207660         0.248396          0.570517   \n",
              "concave points_se         0.372320         0.380676          0.642262   \n",
              "symmetry_se              -0.072497         0.200774          0.229977   \n",
              "fractal_dimension_se     -0.019887         0.283607          0.507318   \n",
              "radius_worst              0.962746         0.213120          0.535315   \n",
              "texture_worst             0.287489         0.036072          0.248133   \n",
              "perimeter_worst           0.959120         0.238853          0.590210   \n",
              "area_worst                0.959213         0.206718          0.509604   \n",
              "smoothness_worst          0.123523         0.805324          0.565541   \n",
              "compactness_worst         0.390410         0.472468          0.865809   \n",
              "concavity_worst           0.512606         0.434926          0.816275   \n",
              "concave points_worst      0.722017         0.503053          0.815573   \n",
              "symmetry_worst            0.143570         0.394309          0.510223   \n",
              "fractal_dimension_worst   0.003738         0.499316          0.687382   \n",
              "diagnosis_M               0.708984         0.358560          0.596534   \n",
              "\n",
              "                         concavity_mean  concave points_mean  symmetry_mean  \\\n",
              "id                             0.050080             0.044158      -0.022114   \n",
              "radius_mean                    0.676764             0.822529       0.147741   \n",
              "texture_mean                   0.302418             0.293464       0.071401   \n",
              "perimeter_mean                 0.716136             0.850977       0.183027   \n",
              "area_mean                      0.685983             0.823269       0.151293   \n",
              "smoothness_mean                0.521984             0.553695       0.557775   \n",
              "compactness_mean               0.883121             0.831135       0.602641   \n",
              "concavity_mean                 1.000000             0.921391       0.500667   \n",
              "concave points_mean            0.921391             1.000000       0.462497   \n",
              "symmetry_mean                  0.500667             0.462497       1.000000   \n",
              "fractal_dimension_mean         0.336783             0.166917       0.479921   \n",
              "radius_se                      0.631925             0.698050       0.303379   \n",
              "texture_se                     0.076218             0.021480       0.128053   \n",
              "perimeter_se                   0.660391             0.710650       0.313893   \n",
              "area_se                        0.617427             0.690299       0.223970   \n",
              "smoothness_se                  0.098564             0.027653       0.187321   \n",
              "compactness_se                 0.670279             0.490424       0.421659   \n",
              "concavity_se                   0.691270             0.439167       0.342627   \n",
              "concave points_se              0.683260             0.615634       0.393298   \n",
              "symmetry_se                    0.178009             0.095351       0.449137   \n",
              "fractal_dimension_se           0.449301             0.257584       0.331786   \n",
              "radius_worst                   0.688236             0.830318       0.185728   \n",
              "texture_worst                  0.299879             0.292752       0.090651   \n",
              "perimeter_worst                0.729565             0.855923       0.219169   \n",
              "area_worst                     0.675987             0.809630       0.177193   \n",
              "smoothness_worst               0.448822             0.452753       0.426675   \n",
              "compactness_worst              0.754968             0.667454       0.473200   \n",
              "concavity_worst                0.884103             0.752399       0.433721   \n",
              "concave points_worst           0.861323             0.910155       0.430297   \n",
              "symmetry_worst                 0.409464             0.375744       0.699826   \n",
              "fractal_dimension_worst        0.514930             0.368661       0.438413   \n",
              "diagnosis_M                    0.696360             0.776614       0.330499   \n",
              "\n",
              "                         ...  texture_worst  perimeter_worst  area_worst  \\\n",
              "id                       ...       0.064720         0.079986    0.107187   \n",
              "radius_mean              ...       0.297008         0.965137    0.941082   \n",
              "texture_mean             ...       0.912045         0.358040    0.343546   \n",
              "perimeter_mean           ...       0.303038         0.970387    0.941550   \n",
              "area_mean                ...       0.287489         0.959120    0.959213   \n",
              "smoothness_mean          ...       0.036072         0.238853    0.206718   \n",
              "compactness_mean         ...       0.248133         0.590210    0.509604   \n",
              "concavity_mean           ...       0.299879         0.729565    0.675987   \n",
              "concave points_mean      ...       0.292752         0.855923    0.809630   \n",
              "symmetry_mean            ...       0.090651         0.219169    0.177193   \n",
              "fractal_dimension_mean   ...      -0.051269        -0.205151   -0.231854   \n",
              "radius_se                ...       0.194799         0.719684    0.751548   \n",
              "texture_se               ...       0.409003        -0.102242   -0.083195   \n",
              "perimeter_se             ...       0.200371         0.721031    0.730713   \n",
              "area_se                  ...       0.196497         0.761213    0.811408   \n",
              "smoothness_se            ...      -0.074743        -0.217304   -0.182195   \n",
              "compactness_se           ...       0.143003         0.260516    0.199371   \n",
              "concavity_se             ...       0.100241         0.226680    0.188353   \n",
              "concave points_se        ...       0.086741         0.394999    0.342271   \n",
              "symmetry_se              ...      -0.077473        -0.103753   -0.110343   \n",
              "fractal_dimension_se     ...      -0.003195        -0.001000   -0.022736   \n",
              "radius_worst             ...       0.359921         0.993708    0.984015   \n",
              "texture_worst            ...       1.000000         0.365098    0.345842   \n",
              "perimeter_worst          ...       0.365098         1.000000    0.977578   \n",
              "area_worst               ...       0.345842         0.977578    1.000000   \n",
              "smoothness_worst         ...       0.225429         0.236775    0.209145   \n",
              "compactness_worst        ...       0.360832         0.529408    0.438296   \n",
              "concavity_worst          ...       0.368366         0.618344    0.543331   \n",
              "concave points_worst     ...       0.359755         0.816322    0.747419   \n",
              "symmetry_worst           ...       0.233027         0.269493    0.209146   \n",
              "fractal_dimension_worst  ...       0.219122         0.138957    0.079647   \n",
              "diagnosis_M              ...       0.456903         0.782914    0.733825   \n",
              "\n",
              "                         smoothness_worst  compactness_worst  concavity_worst  \\\n",
              "id                               0.010338          -0.002968         0.023203   \n",
              "radius_mean                      0.119616           0.413463         0.526911   \n",
              "texture_mean                     0.077503           0.277830         0.301025   \n",
              "perimeter_mean                   0.150549           0.455774         0.563879   \n",
              "area_mean                        0.123523           0.390410         0.512606   \n",
              "smoothness_mean                  0.805324           0.472468         0.434926   \n",
              "compactness_mean                 0.565541           0.865809         0.816275   \n",
              "concavity_mean                   0.448822           0.754968         0.884103   \n",
              "concave points_mean              0.452753           0.667454         0.752399   \n",
              "symmetry_mean                    0.426675           0.473200         0.433721   \n",
              "fractal_dimension_mean           0.504942           0.458798         0.346234   \n",
              "radius_se                        0.141919           0.287103         0.380585   \n",
              "texture_se                      -0.073658          -0.092439        -0.068956   \n",
              "perimeter_se                     0.130054           0.341919         0.418899   \n",
              "area_se                          0.125389           0.283257         0.385100   \n",
              "smoothness_se                    0.314457          -0.055558        -0.058298   \n",
              "compactness_se                   0.227394           0.678780         0.639147   \n",
              "concavity_se                     0.168481           0.484858         0.662564   \n",
              "concave points_se                0.215351           0.452888         0.549592   \n",
              "symmetry_se                     -0.012662           0.060255         0.037119   \n",
              "fractal_dimension_se             0.170568           0.390159         0.379975   \n",
              "radius_worst                     0.216574           0.475820         0.573975   \n",
              "texture_worst                    0.225429           0.360832         0.368366   \n",
              "perimeter_worst                  0.236775           0.529408         0.618344   \n",
              "area_worst                       0.209145           0.438296         0.543331   \n",
              "smoothness_worst                 1.000000           0.568187         0.518523   \n",
              "compactness_worst                0.568187           1.000000         0.892261   \n",
              "concavity_worst                  0.518523           0.892261         1.000000   \n",
              "concave points_worst             0.547691           0.801080         0.855434   \n",
              "symmetry_worst                   0.493838           0.614441         0.532520   \n",
              "fractal_dimension_worst          0.617624           0.810455         0.686511   \n",
              "diagnosis_M                      0.421465           0.590998         0.659610   \n",
              "\n",
              "                         concave points_worst  symmetry_worst  \\\n",
              "id                                   0.035174       -0.044224   \n",
              "radius_mean                          0.744214        0.163953   \n",
              "texture_mean                         0.295316        0.105008   \n",
              "perimeter_mean                       0.771241        0.189115   \n",
              "area_mean                            0.722017        0.143570   \n",
              "smoothness_mean                      0.503053        0.394309   \n",
              "compactness_mean                     0.815573        0.510223   \n",
              "concavity_mean                       0.861323        0.409464   \n",
              "concave points_mean                  0.910155        0.375744   \n",
              "symmetry_mean                        0.430297        0.699826   \n",
              "fractal_dimension_mean               0.175325        0.334019   \n",
              "radius_se                            0.531062        0.094543   \n",
              "texture_se                          -0.119638       -0.128215   \n",
              "perimeter_se                         0.554897        0.109930   \n",
              "area_se                              0.538166        0.074126   \n",
              "smoothness_se                       -0.102007       -0.107342   \n",
              "compactness_se                       0.483208        0.277878   \n",
              "concavity_se                         0.440472        0.197788   \n",
              "concave points_se                    0.602450        0.143116   \n",
              "symmetry_se                         -0.030413        0.389402   \n",
              "fractal_dimension_se                 0.215204        0.111094   \n",
              "radius_worst                         0.787424        0.243529   \n",
              "texture_worst                        0.359755        0.233027   \n",
              "perimeter_worst                      0.816322        0.269493   \n",
              "area_worst                           0.747419        0.209146   \n",
              "smoothness_worst                     0.547691        0.493838   \n",
              "compactness_worst                    0.801080        0.614441   \n",
              "concavity_worst                      0.855434        0.532520   \n",
              "concave points_worst                 1.000000        0.502528   \n",
              "symmetry_worst                       0.502528        1.000000   \n",
              "fractal_dimension_worst              0.511114        0.537848   \n",
              "diagnosis_M                          0.793566        0.416294   \n",
              "\n",
              "                         fractal_dimension_worst  diagnosis_M  \n",
              "id                                     -0.029866     0.039769  \n",
              "radius_mean                             0.007066     0.730029  \n",
              "texture_mean                            0.119205     0.415185  \n",
              "perimeter_mean                          0.051019     0.742636  \n",
              "area_mean                               0.003738     0.708984  \n",
              "smoothness_mean                         0.499316     0.358560  \n",
              "compactness_mean                        0.687382     0.596534  \n",
              "concavity_mean                          0.514930     0.696360  \n",
              "concave points_mean                     0.368661     0.776614  \n",
              "symmetry_mean                           0.438413     0.330499  \n",
              "fractal_dimension_mean                  0.767297    -0.012838  \n",
              "radius_se                               0.049559     0.567134  \n",
              "texture_se                             -0.045655    -0.008303  \n",
              "perimeter_se                            0.085433     0.556141  \n",
              "area_se                                 0.017539     0.548236  \n",
              "smoothness_se                           0.101480    -0.067016  \n",
              "compactness_se                          0.590973     0.292999  \n",
              "concavity_se                            0.439329     0.253730  \n",
              "concave points_se                       0.310655     0.408042  \n",
              "symmetry_se                             0.078079    -0.006522  \n",
              "fractal_dimension_se                    0.591328     0.077972  \n",
              "radius_worst                            0.093492     0.776454  \n",
              "texture_worst                           0.219122     0.456903  \n",
              "perimeter_worst                         0.138957     0.782914  \n",
              "area_worst                              0.079647     0.733825  \n",
              "smoothness_worst                        0.617624     0.421465  \n",
              "compactness_worst                       0.810455     0.590998  \n",
              "concavity_worst                         0.686511     0.659610  \n",
              "concave points_worst                    0.511114     0.793566  \n",
              "symmetry_worst                          0.537848     0.416294  \n",
              "fractal_dimension_worst                 1.000000     0.323872  \n",
              "diagnosis_M                             0.323872     1.000000  \n",
              "\n",
              "[32 rows x 32 columns]"
            ],
            "text/html": [
              "\n",
              "  <div id=\"df-17baa459-4b15-4832-9292-765c9915a6ea\">\n",
              "    <div class=\"colab-df-container\">\n",
              "      <div>\n",
              "<style scoped>\n",
              "    .dataframe tbody tr th:only-of-type {\n",
              "        vertical-align: middle;\n",
              "    }\n",
              "\n",
              "    .dataframe tbody tr th {\n",
              "        vertical-align: top;\n",
              "    }\n",
              "\n",
              "    .dataframe thead th {\n",
              "        text-align: right;\n",
              "    }\n",
              "</style>\n",
              "<table border=\"1\" class=\"dataframe\">\n",
              "  <thead>\n",
              "    <tr style=\"text-align: right;\">\n",
              "      <th></th>\n",
              "      <th>id</th>\n",
              "      <th>radius_mean</th>\n",
              "      <th>texture_mean</th>\n",
              "      <th>perimeter_mean</th>\n",
              "      <th>area_mean</th>\n",
              "      <th>smoothness_mean</th>\n",
              "      <th>compactness_mean</th>\n",
              "      <th>concavity_mean</th>\n",
              "      <th>concave points_mean</th>\n",
              "      <th>symmetry_mean</th>\n",
              "      <th>...</th>\n",
              "      <th>texture_worst</th>\n",
              "      <th>perimeter_worst</th>\n",
              "      <th>area_worst</th>\n",
              "      <th>smoothness_worst</th>\n",
              "      <th>compactness_worst</th>\n",
              "      <th>concavity_worst</th>\n",
              "      <th>concave points_worst</th>\n",
              "      <th>symmetry_worst</th>\n",
              "      <th>fractal_dimension_worst</th>\n",
              "      <th>diagnosis_M</th>\n",
              "    </tr>\n",
              "  </thead>\n",
              "  <tbody>\n",
              "    <tr>\n",
              "      <th>id</th>\n",
              "      <td>1.000000</td>\n",
              "      <td>0.074626</td>\n",
              "      <td>0.099770</td>\n",
              "      <td>0.073159</td>\n",
              "      <td>0.096893</td>\n",
              "      <td>-0.012968</td>\n",
              "      <td>0.000096</td>\n",
              "      <td>0.050080</td>\n",
              "      <td>0.044158</td>\n",
              "      <td>-0.022114</td>\n",
              "      <td>...</td>\n",
              "      <td>0.064720</td>\n",
              "      <td>0.079986</td>\n",
              "      <td>0.107187</td>\n",
              "      <td>0.010338</td>\n",
              "      <td>-0.002968</td>\n",
              "      <td>0.023203</td>\n",
              "      <td>0.035174</td>\n",
              "      <td>-0.044224</td>\n",
              "      <td>-0.029866</td>\n",
              "      <td>0.039769</td>\n",
              "    </tr>\n",
              "    <tr>\n",
              "      <th>radius_mean</th>\n",
              "      <td>0.074626</td>\n",
              "      <td>1.000000</td>\n",
              "      <td>0.323782</td>\n",
              "      <td>0.997855</td>\n",
              "      <td>0.987357</td>\n",
              "      <td>0.170581</td>\n",
              "      <td>0.506124</td>\n",
              "      <td>0.676764</td>\n",
              "      <td>0.822529</td>\n",
              "      <td>0.147741</td>\n",
              "      <td>...</td>\n",
              "      <td>0.297008</td>\n",
              "      <td>0.965137</td>\n",
              "      <td>0.941082</td>\n",
              "      <td>0.119616</td>\n",
              "      <td>0.413463</td>\n",
              "      <td>0.526911</td>\n",
              "      <td>0.744214</td>\n",
              "      <td>0.163953</td>\n",
              "      <td>0.007066</td>\n",
              "      <td>0.730029</td>\n",
              "    </tr>\n",
              "    <tr>\n",
              "      <th>texture_mean</th>\n",
              "      <td>0.099770</td>\n",
              "      <td>0.323782</td>\n",
              "      <td>1.000000</td>\n",
              "      <td>0.329533</td>\n",
              "      <td>0.321086</td>\n",
              "      <td>-0.023389</td>\n",
              "      <td>0.236702</td>\n",
              "      <td>0.302418</td>\n",
              "      <td>0.293464</td>\n",
              "      <td>0.071401</td>\n",
              "      <td>...</td>\n",
              "      <td>0.912045</td>\n",
              "      <td>0.358040</td>\n",
              "      <td>0.343546</td>\n",
              "      <td>0.077503</td>\n",
              "      <td>0.277830</td>\n",
              "      <td>0.301025</td>\n",
              "      <td>0.295316</td>\n",
              "      <td>0.105008</td>\n",
              "      <td>0.119205</td>\n",
              "      <td>0.415185</td>\n",
              "    </tr>\n",
              "    <tr>\n",
              "      <th>perimeter_mean</th>\n",
              "      <td>0.073159</td>\n",
              "      <td>0.997855</td>\n",
              "      <td>0.329533</td>\n",
              "      <td>1.000000</td>\n",
              "      <td>0.986507</td>\n",
              "      <td>0.207278</td>\n",
              "      <td>0.556936</td>\n",
              "      <td>0.716136</td>\n",
              "      <td>0.850977</td>\n",
              "      <td>0.183027</td>\n",
              "      <td>...</td>\n",
              "      <td>0.303038</td>\n",
              "      <td>0.970387</td>\n",
              "      <td>0.941550</td>\n",
              "      <td>0.150549</td>\n",
              "      <td>0.455774</td>\n",
              "      <td>0.563879</td>\n",
              "      <td>0.771241</td>\n",
              "      <td>0.189115</td>\n",
              "      <td>0.051019</td>\n",
              "      <td>0.742636</td>\n",
              "    </tr>\n",
              "    <tr>\n",
              "      <th>area_mean</th>\n",
              "      <td>0.096893</td>\n",
              "      <td>0.987357</td>\n",
              "      <td>0.321086</td>\n",
              "      <td>0.986507</td>\n",
              "      <td>1.000000</td>\n",
              "      <td>0.177028</td>\n",
              "      <td>0.498502</td>\n",
              "      <td>0.685983</td>\n",
              "      <td>0.823269</td>\n",
              "      <td>0.151293</td>\n",
              "      <td>...</td>\n",
              "      <td>0.287489</td>\n",
              "      <td>0.959120</td>\n",
              "      <td>0.959213</td>\n",
              "      <td>0.123523</td>\n",
              "      <td>0.390410</td>\n",
              "      <td>0.512606</td>\n",
              "      <td>0.722017</td>\n",
              "      <td>0.143570</td>\n",
              "      <td>0.003738</td>\n",
              "      <td>0.708984</td>\n",
              "    </tr>\n",
              "    <tr>\n",
              "      <th>smoothness_mean</th>\n",
              "      <td>-0.012968</td>\n",
              "      <td>0.170581</td>\n",
              "      <td>-0.023389</td>\n",
              "      <td>0.207278</td>\n",
              "      <td>0.177028</td>\n",
              "      <td>1.000000</td>\n",
              "      <td>0.659123</td>\n",
              "      <td>0.521984</td>\n",
              "      <td>0.553695</td>\n",
              "      <td>0.557775</td>\n",
              "      <td>...</td>\n",
              "      <td>0.036072</td>\n",
              "      <td>0.238853</td>\n",
              "      <td>0.206718</td>\n",
              "      <td>0.805324</td>\n",
              "      <td>0.472468</td>\n",
              "      <td>0.434926</td>\n",
              "      <td>0.503053</td>\n",
              "      <td>0.394309</td>\n",
              "      <td>0.499316</td>\n",
              "      <td>0.358560</td>\n",
              "    </tr>\n",
              "    <tr>\n",
              "      <th>compactness_mean</th>\n",
              "      <td>0.000096</td>\n",
              "      <td>0.506124</td>\n",
              "      <td>0.236702</td>\n",
              "      <td>0.556936</td>\n",
              "      <td>0.498502</td>\n",
              "      <td>0.659123</td>\n",
              "      <td>1.000000</td>\n",
              "      <td>0.883121</td>\n",
              "      <td>0.831135</td>\n",
              "      <td>0.602641</td>\n",
              "      <td>...</td>\n",
              "      <td>0.248133</td>\n",
              "      <td>0.590210</td>\n",
              "      <td>0.509604</td>\n",
              "      <td>0.565541</td>\n",
              "      <td>0.865809</td>\n",
              "      <td>0.816275</td>\n",
              "      <td>0.815573</td>\n",
              "      <td>0.510223</td>\n",
              "      <td>0.687382</td>\n",
              "      <td>0.596534</td>\n",
              "    </tr>\n",
              "    <tr>\n",
              "      <th>concavity_mean</th>\n",
              "      <td>0.050080</td>\n",
              "      <td>0.676764</td>\n",
              "      <td>0.302418</td>\n",
              "      <td>0.716136</td>\n",
              "      <td>0.685983</td>\n",
              "      <td>0.521984</td>\n",
              "      <td>0.883121</td>\n",
              "      <td>1.000000</td>\n",
              "      <td>0.921391</td>\n",
              "      <td>0.500667</td>\n",
              "      <td>...</td>\n",
              "      <td>0.299879</td>\n",
              "      <td>0.729565</td>\n",
              "      <td>0.675987</td>\n",
              "      <td>0.448822</td>\n",
              "      <td>0.754968</td>\n",
              "      <td>0.884103</td>\n",
              "      <td>0.861323</td>\n",
              "      <td>0.409464</td>\n",
              "      <td>0.514930</td>\n",
              "      <td>0.696360</td>\n",
              "    </tr>\n",
              "    <tr>\n",
              "      <th>concave points_mean</th>\n",
              "      <td>0.044158</td>\n",
              "      <td>0.822529</td>\n",
              "      <td>0.293464</td>\n",
              "      <td>0.850977</td>\n",
              "      <td>0.823269</td>\n",
              "      <td>0.553695</td>\n",
              "      <td>0.831135</td>\n",
              "      <td>0.921391</td>\n",
              "      <td>1.000000</td>\n",
              "      <td>0.462497</td>\n",
              "      <td>...</td>\n",
              "      <td>0.292752</td>\n",
              "      <td>0.855923</td>\n",
              "      <td>0.809630</td>\n",
              "      <td>0.452753</td>\n",
              "      <td>0.667454</td>\n",
              "      <td>0.752399</td>\n",
              "      <td>0.910155</td>\n",
              "      <td>0.375744</td>\n",
              "      <td>0.368661</td>\n",
              "      <td>0.776614</td>\n",
              "    </tr>\n",
              "    <tr>\n",
              "      <th>symmetry_mean</th>\n",
              "      <td>-0.022114</td>\n",
              "      <td>0.147741</td>\n",
              "      <td>0.071401</td>\n",
              "      <td>0.183027</td>\n",
              "      <td>0.151293</td>\n",
              "      <td>0.557775</td>\n",
              "      <td>0.602641</td>\n",
              "      <td>0.500667</td>\n",
              "      <td>0.462497</td>\n",
              "      <td>1.000000</td>\n",
              "      <td>...</td>\n",
              "      <td>0.090651</td>\n",
              "      <td>0.219169</td>\n",
              "      <td>0.177193</td>\n",
              "      <td>0.426675</td>\n",
              "      <td>0.473200</td>\n",
              "      <td>0.433721</td>\n",
              "      <td>0.430297</td>\n",
              "      <td>0.699826</td>\n",
              "      <td>0.438413</td>\n",
              "      <td>0.330499</td>\n",
              "    </tr>\n",
              "    <tr>\n",
              "      <th>fractal_dimension_mean</th>\n",
              "      <td>-0.052511</td>\n",
              "      <td>-0.311631</td>\n",
              "      <td>-0.076437</td>\n",
              "      <td>-0.261477</td>\n",
              "      <td>-0.283110</td>\n",
              "      <td>0.584792</td>\n",
              "      <td>0.565369</td>\n",
              "      <td>0.336783</td>\n",
              "      <td>0.166917</td>\n",
              "      <td>0.479921</td>\n",
              "      <td>...</td>\n",
              "      <td>-0.051269</td>\n",
              "      <td>-0.205151</td>\n",
              "      <td>-0.231854</td>\n",
              "      <td>0.504942</td>\n",
              "      <td>0.458798</td>\n",
              "      <td>0.346234</td>\n",
              "      <td>0.175325</td>\n",
              "      <td>0.334019</td>\n",
              "      <td>0.767297</td>\n",
              "      <td>-0.012838</td>\n",
              "    </tr>\n",
              "    <tr>\n",
              "      <th>radius_se</th>\n",
              "      <td>0.143048</td>\n",
              "      <td>0.679090</td>\n",
              "      <td>0.275869</td>\n",
              "      <td>0.691765</td>\n",
              "      <td>0.732562</td>\n",
              "      <td>0.301467</td>\n",
              "      <td>0.497473</td>\n",
              "      <td>0.631925</td>\n",
              "      <td>0.698050</td>\n",
              "      <td>0.303379</td>\n",
              "      <td>...</td>\n",
              "      <td>0.194799</td>\n",
              "      <td>0.719684</td>\n",
              "      <td>0.751548</td>\n",
              "      <td>0.141919</td>\n",
              "      <td>0.287103</td>\n",
              "      <td>0.380585</td>\n",
              "      <td>0.531062</td>\n",
              "      <td>0.094543</td>\n",
              "      <td>0.049559</td>\n",
              "      <td>0.567134</td>\n",
              "    </tr>\n",
              "    <tr>\n",
              "      <th>texture_se</th>\n",
              "      <td>-0.007526</td>\n",
              "      <td>-0.097317</td>\n",
              "      <td>0.386358</td>\n",
              "      <td>-0.086761</td>\n",
              "      <td>-0.066280</td>\n",
              "      <td>0.068406</td>\n",
              "      <td>0.046205</td>\n",
              "      <td>0.076218</td>\n",
              "      <td>0.021480</td>\n",
              "      <td>0.128053</td>\n",
              "      <td>...</td>\n",
              "      <td>0.409003</td>\n",
              "      <td>-0.102242</td>\n",
              "      <td>-0.083195</td>\n",
              "      <td>-0.073658</td>\n",
              "      <td>-0.092439</td>\n",
              "      <td>-0.068956</td>\n",
              "      <td>-0.119638</td>\n",
              "      <td>-0.128215</td>\n",
              "      <td>-0.045655</td>\n",
              "      <td>-0.008303</td>\n",
              "    </tr>\n",
              "    <tr>\n",
              "      <th>perimeter_se</th>\n",
              "      <td>0.137331</td>\n",
              "      <td>0.674172</td>\n",
              "      <td>0.281673</td>\n",
              "      <td>0.693135</td>\n",
              "      <td>0.726628</td>\n",
              "      <td>0.296092</td>\n",
              "      <td>0.548905</td>\n",
              "      <td>0.660391</td>\n",
              "      <td>0.710650</td>\n",
              "      <td>0.313893</td>\n",
              "      <td>...</td>\n",
              "      <td>0.200371</td>\n",
              "      <td>0.721031</td>\n",
              "      <td>0.730713</td>\n",
              "      <td>0.130054</td>\n",
              "      <td>0.341919</td>\n",
              "      <td>0.418899</td>\n",
              "      <td>0.554897</td>\n",
              "      <td>0.109930</td>\n",
              "      <td>0.085433</td>\n",
              "      <td>0.556141</td>\n",
              "    </tr>\n",
              "    <tr>\n",
              "      <th>area_se</th>\n",
              "      <td>0.177742</td>\n",
              "      <td>0.735864</td>\n",
              "      <td>0.259845</td>\n",
              "      <td>0.744983</td>\n",
              "      <td>0.800086</td>\n",
              "      <td>0.246552</td>\n",
              "      <td>0.455653</td>\n",
              "      <td>0.617427</td>\n",
              "      <td>0.690299</td>\n",
              "      <td>0.223970</td>\n",
              "      <td>...</td>\n",
              "      <td>0.196497</td>\n",
              "      <td>0.761213</td>\n",
              "      <td>0.811408</td>\n",
              "      <td>0.125389</td>\n",
              "      <td>0.283257</td>\n",
              "      <td>0.385100</td>\n",
              "      <td>0.538166</td>\n",
              "      <td>0.074126</td>\n",
              "      <td>0.017539</td>\n",
              "      <td>0.548236</td>\n",
              "    </tr>\n",
              "    <tr>\n",
              "      <th>smoothness_se</th>\n",
              "      <td>0.096781</td>\n",
              "      <td>-0.222600</td>\n",
              "      <td>0.006614</td>\n",
              "      <td>-0.202694</td>\n",
              "      <td>-0.166777</td>\n",
              "      <td>0.332375</td>\n",
              "      <td>0.135299</td>\n",
              "      <td>0.098564</td>\n",
              "      <td>0.027653</td>\n",
              "      <td>0.187321</td>\n",
              "      <td>...</td>\n",
              "      <td>-0.074743</td>\n",
              "      <td>-0.217304</td>\n",
              "      <td>-0.182195</td>\n",
              "      <td>0.314457</td>\n",
              "      <td>-0.055558</td>\n",
              "      <td>-0.058298</td>\n",
              "      <td>-0.102007</td>\n",
              "      <td>-0.107342</td>\n",
              "      <td>0.101480</td>\n",
              "      <td>-0.067016</td>\n",
              "    </tr>\n",
              "    <tr>\n",
              "      <th>compactness_se</th>\n",
              "      <td>0.033961</td>\n",
              "      <td>0.206000</td>\n",
              "      <td>0.191975</td>\n",
              "      <td>0.250744</td>\n",
              "      <td>0.212583</td>\n",
              "      <td>0.318943</td>\n",
              "      <td>0.738722</td>\n",
              "      <td>0.670279</td>\n",
              "      <td>0.490424</td>\n",
              "      <td>0.421659</td>\n",
              "      <td>...</td>\n",
              "      <td>0.143003</td>\n",
              "      <td>0.260516</td>\n",
              "      <td>0.199371</td>\n",
              "      <td>0.227394</td>\n",
              "      <td>0.678780</td>\n",
              "      <td>0.639147</td>\n",
              "      <td>0.483208</td>\n",
              "      <td>0.277878</td>\n",
              "      <td>0.590973</td>\n",
              "      <td>0.292999</td>\n",
              "    </tr>\n",
              "    <tr>\n",
              "      <th>concavity_se</th>\n",
              "      <td>0.055239</td>\n",
              "      <td>0.194204</td>\n",
              "      <td>0.143293</td>\n",
              "      <td>0.228082</td>\n",
              "      <td>0.207660</td>\n",
              "      <td>0.248396</td>\n",
              "      <td>0.570517</td>\n",
              "      <td>0.691270</td>\n",
              "      <td>0.439167</td>\n",
              "      <td>0.342627</td>\n",
              "      <td>...</td>\n",
              "      <td>0.100241</td>\n",
              "      <td>0.226680</td>\n",
              "      <td>0.188353</td>\n",
              "      <td>0.168481</td>\n",
              "      <td>0.484858</td>\n",
              "      <td>0.662564</td>\n",
              "      <td>0.440472</td>\n",
              "      <td>0.197788</td>\n",
              "      <td>0.439329</td>\n",
              "      <td>0.253730</td>\n",
              "    </tr>\n",
              "    <tr>\n",
              "      <th>concave points_se</th>\n",
              "      <td>0.078768</td>\n",
              "      <td>0.376169</td>\n",
              "      <td>0.163851</td>\n",
              "      <td>0.407217</td>\n",
              "      <td>0.372320</td>\n",
              "      <td>0.380676</td>\n",
              "      <td>0.642262</td>\n",
              "      <td>0.683260</td>\n",
              "      <td>0.615634</td>\n",
              "      <td>0.393298</td>\n",
              "      <td>...</td>\n",
              "      <td>0.086741</td>\n",
              "      <td>0.394999</td>\n",
              "      <td>0.342271</td>\n",
              "      <td>0.215351</td>\n",
              "      <td>0.452888</td>\n",
              "      <td>0.549592</td>\n",
              "      <td>0.602450</td>\n",
              "      <td>0.143116</td>\n",
              "      <td>0.310655</td>\n",
              "      <td>0.408042</td>\n",
              "    </tr>\n",
              "    <tr>\n",
              "      <th>symmetry_se</th>\n",
              "      <td>-0.017306</td>\n",
              "      <td>-0.104321</td>\n",
              "      <td>0.009127</td>\n",
              "      <td>-0.081629</td>\n",
              "      <td>-0.072497</td>\n",
              "      <td>0.200774</td>\n",
              "      <td>0.229977</td>\n",
              "      <td>0.178009</td>\n",
              "      <td>0.095351</td>\n",
              "      <td>0.449137</td>\n",
              "      <td>...</td>\n",
              "      <td>-0.077473</td>\n",
              "      <td>-0.103753</td>\n",
              "      <td>-0.110343</td>\n",
              "      <td>-0.012662</td>\n",
              "      <td>0.060255</td>\n",
              "      <td>0.037119</td>\n",
              "      <td>-0.030413</td>\n",
              "      <td>0.389402</td>\n",
              "      <td>0.078079</td>\n",
              "      <td>-0.006522</td>\n",
              "    </tr>\n",
              "    <tr>\n",
              "      <th>fractal_dimension_se</th>\n",
              "      <td>0.025725</td>\n",
              "      <td>-0.042641</td>\n",
              "      <td>0.054458</td>\n",
              "      <td>-0.005523</td>\n",
              "      <td>-0.019887</td>\n",
              "      <td>0.283607</td>\n",
              "      <td>0.507318</td>\n",
              "      <td>0.449301</td>\n",
              "      <td>0.257584</td>\n",
              "      <td>0.331786</td>\n",
              "      <td>...</td>\n",
              "      <td>-0.003195</td>\n",
              "      <td>-0.001000</td>\n",
              "      <td>-0.022736</td>\n",
              "      <td>0.170568</td>\n",
              "      <td>0.390159</td>\n",
              "      <td>0.379975</td>\n",
              "      <td>0.215204</td>\n",
              "      <td>0.111094</td>\n",
              "      <td>0.591328</td>\n",
              "      <td>0.077972</td>\n",
              "    </tr>\n",
              "    <tr>\n",
              "      <th>radius_worst</th>\n",
              "      <td>0.082405</td>\n",
              "      <td>0.969539</td>\n",
              "      <td>0.352573</td>\n",
              "      <td>0.969476</td>\n",
              "      <td>0.962746</td>\n",
              "      <td>0.213120</td>\n",
              "      <td>0.535315</td>\n",
              "      <td>0.688236</td>\n",
              "      <td>0.830318</td>\n",
              "      <td>0.185728</td>\n",
              "      <td>...</td>\n",
              "      <td>0.359921</td>\n",
              "      <td>0.993708</td>\n",
              "      <td>0.984015</td>\n",
              "      <td>0.216574</td>\n",
              "      <td>0.475820</td>\n",
              "      <td>0.573975</td>\n",
              "      <td>0.787424</td>\n",
              "      <td>0.243529</td>\n",
              "      <td>0.093492</td>\n",
              "      <td>0.776454</td>\n",
              "    </tr>\n",
              "    <tr>\n",
              "      <th>texture_worst</th>\n",
              "      <td>0.064720</td>\n",
              "      <td>0.297008</td>\n",
              "      <td>0.912045</td>\n",
              "      <td>0.303038</td>\n",
              "      <td>0.287489</td>\n",
              "      <td>0.036072</td>\n",
              "      <td>0.248133</td>\n",
              "      <td>0.299879</td>\n",
              "      <td>0.292752</td>\n",
              "      <td>0.090651</td>\n",
              "      <td>...</td>\n",
              "      <td>1.000000</td>\n",
              "      <td>0.365098</td>\n",
              "      <td>0.345842</td>\n",
              "      <td>0.225429</td>\n",
              "      <td>0.360832</td>\n",
              "      <td>0.368366</td>\n",
              "      <td>0.359755</td>\n",
              "      <td>0.233027</td>\n",
              "      <td>0.219122</td>\n",
              "      <td>0.456903</td>\n",
              "    </tr>\n",
              "    <tr>\n",
              "      <th>perimeter_worst</th>\n",
              "      <td>0.079986</td>\n",
              "      <td>0.965137</td>\n",
              "      <td>0.358040</td>\n",
              "      <td>0.970387</td>\n",
              "      <td>0.959120</td>\n",
              "      <td>0.238853</td>\n",
              "      <td>0.590210</td>\n",
              "      <td>0.729565</td>\n",
              "      <td>0.855923</td>\n",
              "      <td>0.219169</td>\n",
              "      <td>...</td>\n",
              "      <td>0.365098</td>\n",
              "      <td>1.000000</td>\n",
              "      <td>0.977578</td>\n",
              "      <td>0.236775</td>\n",
              "      <td>0.529408</td>\n",
              "      <td>0.618344</td>\n",
              "      <td>0.816322</td>\n",
              "      <td>0.269493</td>\n",
              "      <td>0.138957</td>\n",
              "      <td>0.782914</td>\n",
              "    </tr>\n",
              "    <tr>\n",
              "      <th>area_worst</th>\n",
              "      <td>0.107187</td>\n",
              "      <td>0.941082</td>\n",
              "      <td>0.343546</td>\n",
              "      <td>0.941550</td>\n",
              "      <td>0.959213</td>\n",
              "      <td>0.206718</td>\n",
              "      <td>0.509604</td>\n",
              "      <td>0.675987</td>\n",
              "      <td>0.809630</td>\n",
              "      <td>0.177193</td>\n",
              "      <td>...</td>\n",
              "      <td>0.345842</td>\n",
              "      <td>0.977578</td>\n",
              "      <td>1.000000</td>\n",
              "      <td>0.209145</td>\n",
              "      <td>0.438296</td>\n",
              "      <td>0.543331</td>\n",
              "      <td>0.747419</td>\n",
              "      <td>0.209146</td>\n",
              "      <td>0.079647</td>\n",
              "      <td>0.733825</td>\n",
              "    </tr>\n",
              "    <tr>\n",
              "      <th>smoothness_worst</th>\n",
              "      <td>0.010338</td>\n",
              "      <td>0.119616</td>\n",
              "      <td>0.077503</td>\n",
              "      <td>0.150549</td>\n",
              "      <td>0.123523</td>\n",
              "      <td>0.805324</td>\n",
              "      <td>0.565541</td>\n",
              "      <td>0.448822</td>\n",
              "      <td>0.452753</td>\n",
              "      <td>0.426675</td>\n",
              "      <td>...</td>\n",
              "      <td>0.225429</td>\n",
              "      <td>0.236775</td>\n",
              "      <td>0.209145</td>\n",
              "      <td>1.000000</td>\n",
              "      <td>0.568187</td>\n",
              "      <td>0.518523</td>\n",
              "      <td>0.547691</td>\n",
              "      <td>0.493838</td>\n",
              "      <td>0.617624</td>\n",
              "      <td>0.421465</td>\n",
              "    </tr>\n",
              "    <tr>\n",
              "      <th>compactness_worst</th>\n",
              "      <td>-0.002968</td>\n",
              "      <td>0.413463</td>\n",
              "      <td>0.277830</td>\n",
              "      <td>0.455774</td>\n",
              "      <td>0.390410</td>\n",
              "      <td>0.472468</td>\n",
              "      <td>0.865809</td>\n",
              "      <td>0.754968</td>\n",
              "      <td>0.667454</td>\n",
              "      <td>0.473200</td>\n",
              "      <td>...</td>\n",
              "      <td>0.360832</td>\n",
              "      <td>0.529408</td>\n",
              "      <td>0.438296</td>\n",
              "      <td>0.568187</td>\n",
              "      <td>1.000000</td>\n",
              "      <td>0.892261</td>\n",
              "      <td>0.801080</td>\n",
              "      <td>0.614441</td>\n",
              "      <td>0.810455</td>\n",
              "      <td>0.590998</td>\n",
              "    </tr>\n",
              "    <tr>\n",
              "      <th>concavity_worst</th>\n",
              "      <td>0.023203</td>\n",
              "      <td>0.526911</td>\n",
              "      <td>0.301025</td>\n",
              "      <td>0.563879</td>\n",
              "      <td>0.512606</td>\n",
              "      <td>0.434926</td>\n",
              "      <td>0.816275</td>\n",
              "      <td>0.884103</td>\n",
              "      <td>0.752399</td>\n",
              "      <td>0.433721</td>\n",
              "      <td>...</td>\n",
              "      <td>0.368366</td>\n",
              "      <td>0.618344</td>\n",
              "      <td>0.543331</td>\n",
              "      <td>0.518523</td>\n",
              "      <td>0.892261</td>\n",
              "      <td>1.000000</td>\n",
              "      <td>0.855434</td>\n",
              "      <td>0.532520</td>\n",
              "      <td>0.686511</td>\n",
              "      <td>0.659610</td>\n",
              "    </tr>\n",
              "    <tr>\n",
              "      <th>concave points_worst</th>\n",
              "      <td>0.035174</td>\n",
              "      <td>0.744214</td>\n",
              "      <td>0.295316</td>\n",
              "      <td>0.771241</td>\n",
              "      <td>0.722017</td>\n",
              "      <td>0.503053</td>\n",
              "      <td>0.815573</td>\n",
              "      <td>0.861323</td>\n",
              "      <td>0.910155</td>\n",
              "      <td>0.430297</td>\n",
              "      <td>...</td>\n",
              "      <td>0.359755</td>\n",
              "      <td>0.816322</td>\n",
              "      <td>0.747419</td>\n",
              "      <td>0.547691</td>\n",
              "      <td>0.801080</td>\n",
              "      <td>0.855434</td>\n",
              "      <td>1.000000</td>\n",
              "      <td>0.502528</td>\n",
              "      <td>0.511114</td>\n",
              "      <td>0.793566</td>\n",
              "    </tr>\n",
              "    <tr>\n",
              "      <th>symmetry_worst</th>\n",
              "      <td>-0.044224</td>\n",
              "      <td>0.163953</td>\n",
              "      <td>0.105008</td>\n",
              "      <td>0.189115</td>\n",
              "      <td>0.143570</td>\n",
              "      <td>0.394309</td>\n",
              "      <td>0.510223</td>\n",
              "      <td>0.409464</td>\n",
              "      <td>0.375744</td>\n",
              "      <td>0.699826</td>\n",
              "      <td>...</td>\n",
              "      <td>0.233027</td>\n",
              "      <td>0.269493</td>\n",
              "      <td>0.209146</td>\n",
              "      <td>0.493838</td>\n",
              "      <td>0.614441</td>\n",
              "      <td>0.532520</td>\n",
              "      <td>0.502528</td>\n",
              "      <td>1.000000</td>\n",
              "      <td>0.537848</td>\n",
              "      <td>0.416294</td>\n",
              "    </tr>\n",
              "    <tr>\n",
              "      <th>fractal_dimension_worst</th>\n",
              "      <td>-0.029866</td>\n",
              "      <td>0.007066</td>\n",
              "      <td>0.119205</td>\n",
              "      <td>0.051019</td>\n",
              "      <td>0.003738</td>\n",
              "      <td>0.499316</td>\n",
              "      <td>0.687382</td>\n",
              "      <td>0.514930</td>\n",
              "      <td>0.368661</td>\n",
              "      <td>0.438413</td>\n",
              "      <td>...</td>\n",
              "      <td>0.219122</td>\n",
              "      <td>0.138957</td>\n",
              "      <td>0.079647</td>\n",
              "      <td>0.617624</td>\n",
              "      <td>0.810455</td>\n",
              "      <td>0.686511</td>\n",
              "      <td>0.511114</td>\n",
              "      <td>0.537848</td>\n",
              "      <td>1.000000</td>\n",
              "      <td>0.323872</td>\n",
              "    </tr>\n",
              "    <tr>\n",
              "      <th>diagnosis_M</th>\n",
              "      <td>0.039769</td>\n",
              "      <td>0.730029</td>\n",
              "      <td>0.415185</td>\n",
              "      <td>0.742636</td>\n",
              "      <td>0.708984</td>\n",
              "      <td>0.358560</td>\n",
              "      <td>0.596534</td>\n",
              "      <td>0.696360</td>\n",
              "      <td>0.776614</td>\n",
              "      <td>0.330499</td>\n",
              "      <td>...</td>\n",
              "      <td>0.456903</td>\n",
              "      <td>0.782914</td>\n",
              "      <td>0.733825</td>\n",
              "      <td>0.421465</td>\n",
              "      <td>0.590998</td>\n",
              "      <td>0.659610</td>\n",
              "      <td>0.793566</td>\n",
              "      <td>0.416294</td>\n",
              "      <td>0.323872</td>\n",
              "      <td>1.000000</td>\n",
              "    </tr>\n",
              "  </tbody>\n",
              "</table>\n",
              "<p>32 rows × 32 columns</p>\n",
              "</div>\n",
              "      <button class=\"colab-df-convert\" onclick=\"convertToInteractive('df-17baa459-4b15-4832-9292-765c9915a6ea')\"\n",
              "              title=\"Convert this dataframe to an interactive table.\"\n",
              "              style=\"display:none;\">\n",
              "        \n",
              "  <svg xmlns=\"http://www.w3.org/2000/svg\" height=\"24px\"viewBox=\"0 0 24 24\"\n",
              "       width=\"24px\">\n",
              "    <path d=\"M0 0h24v24H0V0z\" fill=\"none\"/>\n",
              "    <path d=\"M18.56 5.44l.94 2.06.94-2.06 2.06-.94-2.06-.94-.94-2.06-.94 2.06-2.06.94zm-11 1L8.5 8.5l.94-2.06 2.06-.94-2.06-.94L8.5 2.5l-.94 2.06-2.06.94zm10 10l.94 2.06.94-2.06 2.06-.94-2.06-.94-.94-2.06-.94 2.06-2.06.94z\"/><path d=\"M17.41 7.96l-1.37-1.37c-.4-.4-.92-.59-1.43-.59-.52 0-1.04.2-1.43.59L10.3 9.45l-7.72 7.72c-.78.78-.78 2.05 0 2.83L4 21.41c.39.39.9.59 1.41.59.51 0 1.02-.2 1.41-.59l7.78-7.78 2.81-2.81c.8-.78.8-2.07 0-2.86zM5.41 20L4 18.59l7.72-7.72 1.47 1.35L5.41 20z\"/>\n",
              "  </svg>\n",
              "      </button>\n",
              "      \n",
              "  <style>\n",
              "    .colab-df-container {\n",
              "      display:flex;\n",
              "      flex-wrap:wrap;\n",
              "      gap: 12px;\n",
              "    }\n",
              "\n",
              "    .colab-df-convert {\n",
              "      background-color: #E8F0FE;\n",
              "      border: none;\n",
              "      border-radius: 50%;\n",
              "      cursor: pointer;\n",
              "      display: none;\n",
              "      fill: #1967D2;\n",
              "      height: 32px;\n",
              "      padding: 0 0 0 0;\n",
              "      width: 32px;\n",
              "    }\n",
              "\n",
              "    .colab-df-convert:hover {\n",
              "      background-color: #E2EBFA;\n",
              "      box-shadow: 0px 1px 2px rgba(60, 64, 67, 0.3), 0px 1px 3px 1px rgba(60, 64, 67, 0.15);\n",
              "      fill: #174EA6;\n",
              "    }\n",
              "\n",
              "    [theme=dark] .colab-df-convert {\n",
              "      background-color: #3B4455;\n",
              "      fill: #D2E3FC;\n",
              "    }\n",
              "\n",
              "    [theme=dark] .colab-df-convert:hover {\n",
              "      background-color: #434B5C;\n",
              "      box-shadow: 0px 1px 3px 1px rgba(0, 0, 0, 0.15);\n",
              "      filter: drop-shadow(0px 1px 2px rgba(0, 0, 0, 0.3));\n",
              "      fill: #FFFFFF;\n",
              "    }\n",
              "  </style>\n",
              "\n",
              "      <script>\n",
              "        const buttonEl =\n",
              "          document.querySelector('#df-17baa459-4b15-4832-9292-765c9915a6ea button.colab-df-convert');\n",
              "        buttonEl.style.display =\n",
              "          google.colab.kernel.accessAllowed ? 'block' : 'none';\n",
              "\n",
              "        async function convertToInteractive(key) {\n",
              "          const element = document.querySelector('#df-17baa459-4b15-4832-9292-765c9915a6ea');\n",
              "          const dataTable =\n",
              "            await google.colab.kernel.invokeFunction('convertToInteractive',\n",
              "                                                     [key], {});\n",
              "          if (!dataTable) return;\n",
              "\n",
              "          const docLinkHtml = 'Like what you see? Visit the ' +\n",
              "            '<a target=\"_blank\" href=https://colab.research.google.com/notebooks/data_table.ipynb>data table notebook</a>'\n",
              "            + ' to learn more about interactive tables.';\n",
              "          element.innerHTML = '';\n",
              "          dataTable['output_type'] = 'display_data';\n",
              "          await google.colab.output.renderOutput(dataTable, element);\n",
              "          const docLink = document.createElement('div');\n",
              "          docLink.innerHTML = docLinkHtml;\n",
              "          element.appendChild(docLink);\n",
              "        }\n",
              "      </script>\n",
              "    </div>\n",
              "  </div>\n",
              "  "
            ]
          },
          "metadata": {},
          "execution_count": 332
        }
      ]
    },
    {
      "cell_type": "markdown",
      "source": [
        "Analyzing a large set of numerical data for correlation with like this can be challenging, as it can be difficult to make sense of the patterns and relationships within the data. \n",
        "\n",
        "To simplify this process and make it easier to identify correlations, we will create a heatmap. A heatmap is a graphical representation of data where individual values are represented as colors, making it easier to spot trends and relationships. \n",
        "\n",
        "By creating a heatmap of our dataset, we can quickly visualize the correlations between the different features, allowing us to gain insights into which features are most important for our analysis. \n",
        "\n",
        "This graphical representation provides a powerful tool for exploring and understanding complex datasets, making it a valuable addition to our data preprocessing pipeline."
      ],
      "metadata": {
        "id": "wHwal7jzEqna"
      }
    },
    {
      "cell_type": "code",
      "source": [
        "# Creating a heatmap\n",
        "plt.figure(figsize=(20,10))\n",
        "sns.heatmap(corr, annot=True)"
      ],
      "metadata": {
        "colab": {
          "base_uri": "https://localhost:8080/",
          "height": 725
        },
        "id": "AVpSEJOpDnuM",
        "outputId": "1cbef874-c99e-419b-f05d-ff23afc5341a"
      },
      "execution_count": 333,
      "outputs": [
        {
          "output_type": "execute_result",
          "data": {
            "text/plain": [
              "<AxesSubplot:>"
            ]
          },
          "metadata": {},
          "execution_count": 333
        },
        {
          "output_type": "display_data",
          "data": {
            "text/plain": [
              "<Figure size 1440x720 with 2 Axes>"
            ],
            "image/png": "[encoded data removed]"
          },
          "metadata": {
            "needs_background": "light"
          }
        }
      ]
    },
    {
      "cell_type": "markdown",
      "source": [
        "In this heatmap, we can observe that the lighter colors indicate a strong correlation between two features, while the darker colors indicate a weaker correlation.\n",
        "\n",
        "By understanding the correlations between the features and the target variable, we can now move forward with preparing the data for analysis. One crucial step in this process is splitting the dataset into two parts: a training set and a testing set. \n",
        "\n",
        "The training set is used to train the machine learning model, while the testing set is used to evaluate its performance. This step is important because it helps to prevent overfitting, where the model becomes too closely tied to the training data and does not generalize well to new, unseen data. \n",
        "\n",
        "By splitting the data into training and testing sets, we can ensure that our model is accurate and reliable, making it a crucial step in the data preprocessing pipeline."
      ],
      "metadata": {
        "id": "06LsHmlNF9UV"
      }
    },
    {
      "cell_type": "markdown",
      "source": [
        "## Splitting the Data into Training and Testing Sets"
      ],
      "metadata": {
        "id": "QUgTCbMDLZt6"
      }
    },
    {
      "cell_type": "markdown",
      "source": [
        "We'll first begin by creating a new variable x that contains the input features for our machine learning model. The `iloc` method is used to select a subset of columns from the dataset, which are then converted to a Numpy array using the values attribute. \n",
        "\n",
        "In this case, we are selecting all rows and all columns except for the first and last columns, which represent the unique ID of each sample and the target variable (`diagnosis_M`) respectively. \n",
        "\n",
        "By selecting only the relevant features, we can reduce the complexity of the data and improve the performance of our machine learning model. The resulting x variable can then be used as input to our model training process.\n",
        "\n",
        "We'll also use `iloc` function to create a y vector with `diagnosis_M` variable for our dependent variable. "
      ],
      "metadata": {
        "id": "bwPb1shDhHRf"
      }
    },
    {
      "cell_type": "code",
      "source": [
        "# Selecting matrix of features / independent variables\n",
        "x = dataset.iloc[:, 1:-1].values"
      ],
      "metadata": {
        "id": "k35fu7IDFl00"
      },
      "execution_count": 334,
      "outputs": []
    },
    {
      "cell_type": "code",
      "source": [
        "# Confirming rows and columns saved in x\n",
        "x.shape"
      ],
      "metadata": {
        "colab": {
          "base_uri": "https://localhost:8080/"
        },
        "id": "_Il6qgQukARh",
        "outputId": "99ae6110-3459-41f0-8a3d-12c2a9ca7321"
      },
      "execution_count": 335,
      "outputs": [
        {
          "output_type": "execute_result",
          "data": {
            "text/plain": [
              "(569, 30)"
            ]
          },
          "metadata": {},
          "execution_count": 335
        }
      ]
    },
    {
      "cell_type": "code",
      "source": [
        "# Predictor variable / dependent variable\n",
        "y = dataset.iloc[:, -1].values"
      ],
      "metadata": {
        "id": "4w1Sq_tzkAqQ"
      },
      "execution_count": 336,
      "outputs": []
    },
    {
      "cell_type": "code",
      "source": [
        "# Confirming this is only 1 column with 569 entries\n",
        "y.shape"
      ],
      "metadata": {
        "colab": {
          "base_uri": "https://localhost:8080/"
        },
        "id": "ZwiAZ7xsu0S2",
        "outputId": "e344639e-5ad1-432e-aeeb-1b1ab3dc4395"
      },
      "execution_count": 337,
      "outputs": [
        {
          "output_type": "execute_result",
          "data": {
            "text/plain": [
              "(569,)"
            ]
          },
          "metadata": {},
          "execution_count": 337
        }
      ]
    },
    {
      "cell_type": "markdown",
      "source": [
        "We have an x matrix with features, and a y matrix with our predictor, so let's split our data now.\n",
        "\n",
        "First, we'll import the `train_test_split` function from the `model_selection` module of the scikit-learn library. \n",
        "\n",
        "This function is commonly used to split the dataset into training and testing sets, allowing for the creation of separate datasets to train and test a machine learning model. \n",
        "\n",
        "By using `train_test_split`, we can randomly split the dataset into two separate parts, one for training and one for testing, with the ability to specify the proportion of the data to be used for each part. \n",
        "\n",
        "The resulting datasets can then be used for training and testing our machine learning model."
      ],
      "metadata": {
        "id": "eEeYkr1QyhXd"
      }
    },
    {
      "cell_type": "code",
      "source": [
        "# Importing train_test_split function\n",
        "from sklearn.model_selection import train_test_split"
      ],
      "metadata": {
        "id": "zycUMoKzu2O-"
      },
      "execution_count": 338,
      "outputs": []
    },
    {
      "cell_type": "markdown",
      "source": [
        "The following code uses the train_test_split function to split the input features and target variable into training and testing sets. The function takes four parameters:\n",
        "\n",
        "\n",
        "\n",
        "*   x: the input features or independent variables.\n",
        "*   y: the target variable or dependent variable.\n",
        "*   test_size: the proportion of the dataset to include in the testing set, which is set to 0.2 or 20% in this case.\n",
        "*   random_state: an optional parameter that allows us to specify the random seed used for splitting the data, ensuring that the results are reproducible.\n",
        "\n",
        "\n",
        "\n",
        "\n",
        "The function returns four variables, which represent the training and testing sets for the input features and target variable respectively. These variables are assigned to x_train, x_test, y_train, and y_test, which can then be used to train and evaluate our machine learning model. By splitting the data into separate training and testing sets, we can evaluate how well the model is able to generalize to new, unseen data."
      ],
      "metadata": {
        "id": "o-BQ31nIB6i_"
      }
    },
    {
      "cell_type": "code",
      "source": [
        "# Splitting data with function\n",
        "x_train, x_test, y_train, y_test = train_test_split(x, y, test_size = 0.2, random_state = 1)"
      ],
      "metadata": {
        "id": "LRSg-XuyyWR8"
      },
      "execution_count": 339,
      "outputs": []
    },
    {
      "cell_type": "code",
      "source": [
        "# Checking x_train dimensions\n",
        "x_train.shape"
      ],
      "metadata": {
        "colab": {
          "base_uri": "https://localhost:8080/"
        },
        "id": "cFu9Nbam-emD",
        "outputId": "17505dab-8c3e-4aaa-af47-bdc5c6bcd276"
      },
      "execution_count": 340,
      "outputs": [
        {
          "output_type": "execute_result",
          "data": {
            "text/plain": [
              "(455, 30)"
            ]
          },
          "metadata": {},
          "execution_count": 340
        }
      ]
    },
    {
      "cell_type": "code",
      "source": [
        "# Checking x_test dimensions\n",
        "x_test.shape"
      ],
      "metadata": {
        "colab": {
          "base_uri": "https://localhost:8080/"
        },
        "id": "FhvdLC41FK-2",
        "outputId": "b83f9052-0842-4a3e-b5de-d1e03633a6d0"
      },
      "execution_count": 341,
      "outputs": [
        {
          "output_type": "execute_result",
          "data": {
            "text/plain": [
              "(114, 30)"
            ]
          },
          "metadata": {},
          "execution_count": 341
        }
      ]
    },
    {
      "cell_type": "code",
      "source": [
        "# Checking y_train dimensions\n",
        "y_train.shape"
      ],
      "metadata": {
        "colab": {
          "base_uri": "https://localhost:8080/"
        },
        "id": "vLLBEXsHFVwQ",
        "outputId": "6c7393e1-200d-4f7f-b596-d7c6dcdd1fc6"
      },
      "execution_count": 342,
      "outputs": [
        {
          "output_type": "execute_result",
          "data": {
            "text/plain": [
              "(455,)"
            ]
          },
          "metadata": {},
          "execution_count": 342
        }
      ]
    },
    {
      "cell_type": "code",
      "source": [
        "# Checking y_test dimensions\n",
        "y_test.shape"
      ],
      "metadata": {
        "colab": {
          "base_uri": "https://localhost:8080/"
        },
        "id": "6HMtKkEtFxXi",
        "outputId": "a9cd13e4-a4ea-45dc-dac8-5873c7a791e9"
      },
      "execution_count": 343,
      "outputs": [
        {
          "output_type": "execute_result",
          "data": {
            "text/plain": [
              "(114,)"
            ]
          },
          "metadata": {},
          "execution_count": 343
        }
      ]
    },
    {
      "cell_type": "markdown",
      "source": [
        "## Feature Scaling\n"
      ],
      "metadata": {
        "id": "xLx2Xl8LF4ct"
      }
    },
    {
      "cell_type": "markdown",
      "source": [
        "We will now import the `StandardScaler` class from the `preprocessing` module of the scikit-learn library. This class is used for feature scaling, which is an important preprocessing step in many machine learning algorithms.\n",
        "\n",
        "`StandardScaler` is a normalization technique that scales the input features so that they have zero mean and unit variance. This helps to center the data and ensure that features with different scales are treated equally. `StandardScaler` works by calculating the mean and standard deviation of each feature in the training set, and then subtracting the mean and dividing by the standard deviation for each feature. The resulting scaled features have a mean of 0 and a standard deviation of 1."
      ],
      "metadata": {
        "id": "_msb0-DcGVCm"
      }
    },
    {
      "cell_type": "code",
      "source": [
        "# Importing StandardScaler from sklearn.preprocessing\n",
        "from sklearn.preprocessing import StandardScaler"
      ],
      "metadata": {
        "id": "qhRt2bakF6sH"
      },
      "execution_count": 344,
      "outputs": []
    },
    {
      "cell_type": "code",
      "source": [
        "# Initializing an instance of StandardScaler \n",
        "sc = StandardScaler()"
      ],
      "metadata": {
        "id": "sEZd6CI6H8k-"
      },
      "execution_count": 345,
      "outputs": []
    },
    {
      "cell_type": "markdown",
      "source": [
        "We are now going to apply feature scaling to the training and testing datasets using the StandardScaler instance that we previously imported from the scikit-learn library.\n",
        "\n",
        "\n",
        "\n",
        "*   `sc.fit_transform(x_train)` calculates the mean and standard deviation of each feature in x_train and scales the features accordingly. The resulting scaled values are stored in `x_train`.\n",
        "*   `sc.transform(x_test)` applies the same transformation to the testing set `x_test`. The mean and standard deviation of each feature are calculated based on the training set, so the transformation ensures that the same scaling is applied to both the training and testing sets.\n",
        "\n",
        "\n",
        "\n",
        "\n",
        "\n",
        "\n",
        "\n",
        "By scaling the features in both the training and testing sets, we ensure that the features are on the same scale and that they have zero mean and unit variance. This helps to prevent bias in the model and improve the accuracy of the machine learning algorithm."
      ],
      "metadata": {
        "id": "pG8BrGr5JBK5"
      }
    },
    {
      "cell_type": "code",
      "source": [
        "# Applying transformations\n",
        "x_train = sc.fit_transform(x_train)\n",
        "x_test = sc.transform(x_test)"
      ],
      "metadata": {
        "id": "BRPlIPpAIOes"
      },
      "execution_count": 346,
      "outputs": []
    },
    {
      "cell_type": "code",
      "source": [
        "# Checking that the x_train variable has been transformed\n",
        "x_train"
      ],
      "metadata": {
        "colab": {
          "base_uri": "https://localhost:8080/"
        },
        "id": "34_aTYxzIips",
        "outputId": "57508046-7976-497b-fbb5-6117f0e505ed"
      },
      "execution_count": 347,
      "outputs": [
        {
          "output_type": "execute_result",
          "data": {
            "text/plain": [
              "array([[ 1.0449852 ,  0.29708512,  1.01044815, ...,  1.21839781,\n",
              "         0.29811854,  0.08380738],\n",
              "       [ 1.68141074, -1.14098169,  1.70338066, ...,  0.69716372,\n",
              "        -0.88595033, -0.41234747],\n",
              "       [-1.44260855, -1.12732916, -1.4504636 , ..., -1.52233766,\n",
              "         0.1807324 , -0.33657109],\n",
              "       ...,\n",
              "       [ 0.82638686,  1.17539807,  0.86625411, ...,  1.10638475,\n",
              "         0.72853438,  3.02284824],\n",
              "       [-0.05077356,  0.43133503, -0.11146165, ..., -0.54050588,\n",
              "        -1.1207226 , -0.44903285],\n",
              "       [-0.32748032, -0.21260945, -0.39904866, ..., -0.98109057,\n",
              "        -1.52732096, -1.31985978]])"
            ]
          },
          "metadata": {},
          "execution_count": 347
        }
      ]
    },
    {
      "cell_type": "code",
      "source": [
        "# Checking that the x_test variable has been transformed\n",
        "x_test"
      ],
      "metadata": {
        "colab": {
          "base_uri": "https://localhost:8080/"
        },
        "id": "6Bmi_appJy_G",
        "outputId": "66b22105-8fa8-44ee-a955-975ce8300a7e"
      },
      "execution_count": 348,
      "outputs": [
        {
          "output_type": "execute_result",
          "data": {
            "text/plain": [
              "array([[ 0.1318529 , -1.22289689,  0.22619275, ..., -0.07497962,\n",
              "        -0.09827233,  0.50779424],\n",
              "       [-0.28874137, -0.15799931, -0.26406701, ...,  1.38865765,\n",
              "         1.72716717,  2.06060854],\n",
              "       [-0.34961686, -0.75871076, -0.3778201 , ..., -0.15264201,\n",
              "         0.84251802,  0.73392057],\n",
              "       ...,\n",
              "       [-1.43458406, -0.46063046, -1.35313261, ...,  0.88385214,\n",
              "         2.28517664,  2.03655255],\n",
              "       [ 0.08757982, -0.00327061,  0.06717876, ..., -0.29691482,\n",
              "        -0.70391675, -0.54164842],\n",
              "       [-0.11995025, -0.81104547, -0.16833819, ..., -1.23513619,\n",
              "        -1.74508076, -0.9343625 ]])"
            ]
          },
          "metadata": {},
          "execution_count": 348
        }
      ]
    },
    {
      "cell_type": "markdown",
      "source": [
        "We can see that both `x_train` and `x_test` have been transformed, so now we are done with the data preprocessing step."
      ],
      "metadata": {
        "id": "AOpulYZ6J6ay"
      }
    },
    {
      "cell_type": "markdown",
      "source": [
        "# Part 2: Building the Model"
      ],
      "metadata": {
        "id": "6Mv3KfsQKnls"
      }
    },
    {
      "cell_type": "markdown",
      "source": [
        "Choosing an appropriate machine learning algorithm is an important step in building a predictive model. In this case, the intuition is that two different classification algorithms, logistic regression and random forest classifier, could be suitable for this dataset.\n",
        "\n",
        "* **Logistic regression** is a simple but powerful linear model that can be used to predict binary outcomes. It is easy to implement, interpret and has good performance on small datasets. Since our target variable is binary (diagnosis is either malignant or benign), logistic regression could be a good choice for this task.\n",
        "\n",
        "* **Random forest**, on the other hand, is an ensemble learning algorithm that combines multiple decision trees to create a more accurate and robust model. It can handle a mix of categorical and numerical features, and can deal with missing values and outliers. It also tends to perform well on high-dimensional datasets with many features, which is the case for our breast cancer dataset.\n",
        "\n",
        "By applying both of these algorithms, we can compare their performance and select the one that gives the best accuracy and precision in predicting the diagnosis of breast cancer."
      ],
      "metadata": {
        "id": "cNE4wYJTKvOU"
      }
    },
    {
      "cell_type": "markdown",
      "source": [
        "## 1) Logistic Regression"
      ],
      "metadata": {
        "id": "p04jAe0kLZT9"
      }
    },
    {
      "cell_type": "markdown",
      "source": [
        "We'll first import `LogisticRegression` class from the `linear_model` module of the scikit-learn library. Logistic regression is a supervised learning algorithm used for binary classification problems, where the target variable takes only two values, 0 and 1.\n",
        "\n",
        "In our case, we have a binary classification problem, where the target variable is either malignant or benign. We can use the `LogisticRegression` class to train a model on our breast cancer dataset and predict whether the cancer is malignant or benign."
      ],
      "metadata": {
        "id": "sVDcxpnUNst5"
      }
    },
    {
      "cell_type": "code",
      "source": [
        "# Importing LogisticRegression from sklearn.linear_model\n",
        "from sklearn.linear_model import LogisticRegression"
      ],
      "metadata": {
        "id": "-SZlOXHZLd2C"
      },
      "execution_count": 349,
      "outputs": []
    },
    {
      "cell_type": "code",
      "source": [
        "# Initializing an instance of LogisticRegression\n",
        "classifier_lr = LogisticRegression(random_state=1)"
      ],
      "metadata": {
        "id": "2SopmTqYMBTV"
      },
      "execution_count": 350,
      "outputs": []
    },
    {
      "cell_type": "code",
      "source": [
        "# Fitting the training data to our logistic regression\n",
        "classifier_lr.fit(x_train, y_train)"
      ],
      "metadata": {
        "colab": {
          "base_uri": "https://localhost:8080/"
        },
        "id": "tAb0T9wuNG3O",
        "outputId": "aa053dfb-eaf1-46c6-fd66-9373df1b4418"
      },
      "execution_count": 351,
      "outputs": [
        {
          "output_type": "execute_result",
          "data": {
            "text/plain": [
              "LogisticRegression(random_state=1)"
            ]
          },
          "metadata": {},
          "execution_count": 351
        }
      ]
    },
    {
      "cell_type": "markdown",
      "source": [
        "After training the logistic regression model on the training set, we can use the `predict()` method of the classifier object to generate predictions on the test set. The `predict()` method takes the test set as input and returns the predicted class labels for each sample in the test set.\n",
        "\n",
        "Once we have the predicted class labels for the test set, we can compare them to the actual class labels of the test set to evaluate the performance of our logistic regression model. "
      ],
      "metadata": {
        "id": "bq8we8afOjZs"
      }
    },
    {
      "cell_type": "code",
      "source": [
        "# Calculating predicted values from our test dataset using our logistic model\n",
        "y_pred = classifier_lr.predict(x_test)"
      ],
      "metadata": {
        "id": "tX02wo4jNOty"
      },
      "execution_count": 352,
      "outputs": []
    },
    {
      "cell_type": "markdown",
      "source": [
        "In following code, we are importing several functions from the `sklearn.metrics` module, which will allow us to evaluate the performance of our machine learning models.\n",
        "\n",
        "* `accuracy_score`: computes the accuracy of the predicted labels compared to the true labels.\n",
        "\n",
        "* `precision_score`: computes the precision of the predicted labels, which is the proportion of true positives among all positive predictions.\n",
        "\n",
        "* `recall_score`: computes the recall of the predicted labels, which is the proportion of true positives among all actual positives.\n",
        "\n",
        "* `f1_score`: computes the F1 score, which is the harmonic mean of precision and recall.\n",
        "\n",
        "* `confusion_matrix`: computes a confusion matrix, which is a table that summarizes the performance of a binary classification model by counting the number of true positives, true negatives, false positives, and false negatives.\n",
        "\n",
        "We will use these functions to evaluate the performance of our logistic regression and random forest classifier models."
      ],
      "metadata": {
        "id": "sfj52Kp6PVYA"
      }
    },
    {
      "cell_type": "code",
      "source": [
        "# Importing all classes needed from sklearn.metrics\n",
        "from sklearn.metrics import accuracy_score, precision_score, recall_score, f1_score, confusion_matrix"
      ],
      "metadata": {
        "id": "me-y-mquNXAi"
      },
      "execution_count": 353,
      "outputs": []
    },
    {
      "cell_type": "code",
      "source": [
        "# Initializing metrics\n",
        "acc = accuracy_score(y_test, y_pred)\n",
        "f1 = f1_score(y_test, y_pred)\n",
        "prec = precision_score(y_test, y_pred)\n",
        "rec = recall_score(y_test, y_pred)"
      ],
      "metadata": {
        "id": "vgi7xjjxPd7U"
      },
      "execution_count": 354,
      "outputs": []
    },
    {
      "cell_type": "code",
      "source": [
        "# Creating a dataframe for our results\n",
        "lr_results = pd.DataFrame([['Logistic Regression', acc, f1, prec, rec]],\n",
        "                       columns = ['Model', 'Accuracy', 'F1 Score', 'Precision', 'Recall'])"
      ],
      "metadata": {
        "id": "5qrGMwwfQygU"
      },
      "execution_count": 355,
      "outputs": []
    },
    {
      "cell_type": "code",
      "source": [
        "# Printing the results dataframe\n",
        "lr_results"
      ],
      "metadata": {
        "colab": {
          "base_uri": "https://localhost:8080/",
          "height": 81
        },
        "id": "2s8dfvlXRUil",
        "outputId": "509bbdeb-ef04-46f2-e4d5-e34918c5c152"
      },
      "execution_count": 356,
      "outputs": [
        {
          "output_type": "execute_result",
          "data": {
            "text/plain": [
              "                 Model  Accuracy  F1 Score  Precision    Recall\n",
              "0  Logistic Regression  0.973684  0.963855    0.97561  0.952381"
            ],
            "text/html": [
              "\n",
              "  <div id=\"df-53c182d7-4edc-436e-849e-f7c08f51462e\">\n",
              "    <div class=\"colab-df-container\">\n",
              "      <div>\n",
              "<style scoped>\n",
              "    .dataframe tbody tr th:only-of-type {\n",
              "        vertical-align: middle;\n",
              "    }\n",
              "\n",
              "    .dataframe tbody tr th {\n",
              "        vertical-align: top;\n",
              "    }\n",
              "\n",
              "    .dataframe thead th {\n",
              "        text-align: right;\n",
              "    }\n",
              "</style>\n",
              "<table border=\"1\" class=\"dataframe\">\n",
              "  <thead>\n",
              "    <tr style=\"text-align: right;\">\n",
              "      <th></th>\n",
              "      <th>Model</th>\n",
              "      <th>Accuracy</th>\n",
              "      <th>F1 Score</th>\n",
              "      <th>Precision</th>\n",
              "      <th>Recall</th>\n",
              "    </tr>\n",
              "  </thead>\n",
              "  <tbody>\n",
              "    <tr>\n",
              "      <th>0</th>\n",
              "      <td>Logistic Regression</td>\n",
              "      <td>0.973684</td>\n",
              "      <td>0.963855</td>\n",
              "      <td>0.97561</td>\n",
              "      <td>0.952381</td>\n",
              "    </tr>\n",
              "  </tbody>\n",
              "</table>\n",
              "</div>\n",
              "      <button class=\"colab-df-convert\" onclick=\"convertToInteractive('df-53c182d7-4edc-436e-849e-f7c08f51462e')\"\n",
              "              title=\"Convert this dataframe to an interactive table.\"\n",
              "              style=\"display:none;\">\n",
              "        \n",
              "  <svg xmlns=\"http://www.w3.org/2000/svg\" height=\"24px\"viewBox=\"0 0 24 24\"\n",
              "       width=\"24px\">\n",
              "    <path d=\"M0 0h24v24H0V0z\" fill=\"none\"/>\n",
              "    <path d=\"M18.56 5.44l.94 2.06.94-2.06 2.06-.94-2.06-.94-.94-2.06-.94 2.06-2.06.94zm-11 1L8.5 8.5l.94-2.06 2.06-.94-2.06-.94L8.5 2.5l-.94 2.06-2.06.94zm10 10l.94 2.06.94-2.06 2.06-.94-2.06-.94-.94-2.06-.94 2.06-2.06.94z\"/><path d=\"M17.41 7.96l-1.37-1.37c-.4-.4-.92-.59-1.43-.59-.52 0-1.04.2-1.43.59L10.3 9.45l-7.72 7.72c-.78.78-.78 2.05 0 2.83L4 21.41c.39.39.9.59 1.41.59.51 0 1.02-.2 1.41-.59l7.78-7.78 2.81-2.81c.8-.78.8-2.07 0-2.86zM5.41 20L4 18.59l7.72-7.72 1.47 1.35L5.41 20z\"/>\n",
              "  </svg>\n",
              "      </button>\n",
              "      \n",
              "  <style>\n",
              "    .colab-df-container {\n",
              "      display:flex;\n",
              "      flex-wrap:wrap;\n",
              "      gap: 12px;\n",
              "    }\n",
              "\n",
              "    .colab-df-convert {\n",
              "      background-color: #E8F0FE;\n",
              "      border: none;\n",
              "      border-radius: 50%;\n",
              "      cursor: pointer;\n",
              "      display: none;\n",
              "      fill: #1967D2;\n",
              "      height: 32px;\n",
              "      padding: 0 0 0 0;\n",
              "      width: 32px;\n",
              "    }\n",
              "\n",
              "    .colab-df-convert:hover {\n",
              "      background-color: #E2EBFA;\n",
              "      box-shadow: 0px 1px 2px rgba(60, 64, 67, 0.3), 0px 1px 3px 1px rgba(60, 64, 67, 0.15);\n",
              "      fill: #174EA6;\n",
              "    }\n",
              "\n",
              "    [theme=dark] .colab-df-convert {\n",
              "      background-color: #3B4455;\n",
              "      fill: #D2E3FC;\n",
              "    }\n",
              "\n",
              "    [theme=dark] .colab-df-convert:hover {\n",
              "      background-color: #434B5C;\n",
              "      box-shadow: 0px 1px 3px 1px rgba(0, 0, 0, 0.15);\n",
              "      filter: drop-shadow(0px 1px 2px rgba(0, 0, 0, 0.3));\n",
              "      fill: #FFFFFF;\n",
              "    }\n",
              "  </style>\n",
              "\n",
              "      <script>\n",
              "        const buttonEl =\n",
              "          document.querySelector('#df-53c182d7-4edc-436e-849e-f7c08f51462e button.colab-df-convert');\n",
              "        buttonEl.style.display =\n",
              "          google.colab.kernel.accessAllowed ? 'block' : 'none';\n",
              "\n",
              "        async function convertToInteractive(key) {\n",
              "          const element = document.querySelector('#df-53c182d7-4edc-436e-849e-f7c08f51462e');\n",
              "          const dataTable =\n",
              "            await google.colab.kernel.invokeFunction('convertToInteractive',\n",
              "                                                     [key], {});\n",
              "          if (!dataTable) return;\n",
              "\n",
              "          const docLinkHtml = 'Like what you see? Visit the ' +\n",
              "            '<a target=\"_blank\" href=https://colab.research.google.com/notebooks/data_table.ipynb>data table notebook</a>'\n",
              "            + ' to learn more about interactive tables.';\n",
              "          element.innerHTML = '';\n",
              "          dataTable['output_type'] = 'display_data';\n",
              "          await google.colab.output.renderOutput(dataTable, element);\n",
              "          const docLink = document.createElement('div');\n",
              "          docLink.innerHTML = docLinkHtml;\n",
              "          element.appendChild(docLink);\n",
              "        }\n",
              "      </script>\n",
              "    </div>\n",
              "  </div>\n",
              "  "
            ]
          },
          "metadata": {},
          "execution_count": 356
        }
      ]
    },
    {
      "cell_type": "markdown",
      "source": [
        "This table presents the results of evaluating our logistic regression model, which includes the accuracy, F1 score, precision, and recall metrics. We can observe that all of the metrics are high, with values greater than 0.95.\n",
        "\n",
        "Therefore, these high values suggest that our logistic regression model is performing well in predicting the class labels of the test set.\n",
        "\n",
        "We'll also look at a confusion matrix next."
      ],
      "metadata": {
        "id": "EYQyExibRqFK"
      }
    },
    {
      "cell_type": "code",
      "source": [
        "# Creating a confusion matrix\n",
        "cm = confusion_matrix(y_test, y_pred)\n",
        "sns.heatmap(cm, annot=True, cmap='Blues')\n",
        "plt.title('Confusion Matrix')\n",
        "plt.xlabel('Predicted')\n",
        "plt.ylabel('Actual')\n",
        "plt.show()"
      ],
      "metadata": {
        "colab": {
          "base_uri": "https://localhost:8080/",
          "height": 295
        },
        "id": "BfG8mAqIRoZZ",
        "outputId": "65f21ac6-97ff-462d-c745-e5b5d4cf1cf3"
      },
      "execution_count": 357,
      "outputs": [
        {
          "output_type": "display_data",
          "data": {
            "text/plain": [
              "<Figure size 432x288 with 2 Axes>"
            ],
            "image/png": "[encoded data removed]"
          },
          "metadata": {
            "needs_background": "light"
          }
        }
      ]
    },
    {
      "cell_type": "markdown",
      "source": [
        "In the case of the confusion matrix printed in the code snippet, we can see that there are two classes: 0 (benign) and 1 (malignant) and the matrix shows the number of true positive (TP), true negative (TN), false positive (FP) and false negative (FN) predictions made by the model.\n",
        "\n",
        "Specifically, the confusion matrix shows that 71 cases were correctly predicted to be 'B' (TP), 40 cases were correctly predicted to be 'M' (TN), 1 case was incorrectly predicted to be 'B' when it was actually 'M' (FP) and 2 cases were incorrectly predicted to be 'M' when they were actually 'B' (FN). This information can be used to calculate various performance metrics of the classification model."
      ],
      "metadata": {
        "id": "yN7IWwuyVVaW"
      }
    },
    {
      "cell_type": "markdown",
      "source": [
        "### Cross-Validation"
      ],
      "metadata": {
        "id": "eLuKrOlseHuk"
      }
    },
    {
      "cell_type": "markdown",
      "source": [
        "Cross-validation is a technique used to evaluate machine learning models and to assess their performance in a more reliable way. \n",
        "\n",
        "It helps to prevent overfitting, which is when the model performs very well on the data it was trained on but poorly on new, unseen data. \n",
        "\n",
        "Cross-validation involves dividing the data into several subsets, training the model on different combinations of those subsets, and evaluating the performance of the model on each of the subsets. \n",
        "\n",
        "By doing this, we can get a more accurate assessment of the model's performance and identify potential issues such as overfitting or underfitting."
      ],
      "metadata": {
        "id": "03VyumIoGRsO"
      }
    },
    {
      "cell_type": "code",
      "source": [
        "# Importing cross_val_score from sklearn.model_selection\n",
        "from sklearn.model_selection import cross_val_score"
      ],
      "metadata": {
        "id": "BYq2fJc2eIn7"
      },
      "execution_count": 358,
      "outputs": []
    },
    {
      "cell_type": "markdown",
      "source": [
        "Here, we are performing 10-fold cross-validation using the `cross_val_score()` function from scikit-learn.\n",
        "\n",
        "* The estimator parameter specifies the classification algorithm that we are using, which is classifier_lr in this case.\n",
        "* `X` and `y` parameters represent the training data and labels respectively.\n",
        "* `cv` parameter represents the number of folds we want to use in cross-validation.\n",
        "\n",
        "The output of the `cross_val_score()` function is an array of accuracies, where each accuracy is computed from one of the folds."
      ],
      "metadata": {
        "id": "pC6ZFNE8KKuK"
      }
    },
    {
      "cell_type": "code",
      "source": [
        "# Creating vector of accuracies\n",
        "accuracies = cross_val_score(estimator = classifier_lr, X = x_train, y = y_train, cv = 10)"
      ],
      "metadata": {
        "id": "gwFcuSkRHFjv"
      },
      "execution_count": 359,
      "outputs": []
    },
    {
      "cell_type": "code",
      "source": [
        "# Printing accuracy and standard deviation\n",
        "print(\"Accuracy is {:.2f} %\".format(accuracies.mean()*100))\n",
        "print(\"Standard Deviation is {:.2f} %\".format(accuracies.std()*100))"
      ],
      "metadata": {
        "colab": {
          "base_uri": "https://localhost:8080/"
        },
        "id": "U_hU8iomJCTS",
        "outputId": "669c8748-fbe4-4a14-ccfb-ed6bb6213527"
      },
      "execution_count": 360,
      "outputs": [
        {
          "output_type": "stream",
          "name": "stdout",
          "text": [
            "Accuracy is 97.37 %\n",
            "Standard Deviation is 1.90 %\n"
          ]
        }
      ]
    },
    {
      "cell_type": "markdown",
      "source": [
        "The accuracy of 97.37% indicates that our logistic regression model is performing well in classifying the breast cancer cases correctly. Moreover, the low standard deviation of 1.9% shows that our model's performance is consistent across different cross-validation folds.\n",
        "\n",
        "After evaluating the logistic regression model, we will now start building a random forest classifier to predict breast cancer diagnosis. "
      ],
      "metadata": {
        "id": "x8-4sLimRaR1"
      }
    },
    {
      "cell_type": "markdown",
      "source": [
        "## 2) Random Forest"
      ],
      "metadata": {
        "id": "-KjTeYiBSBM3"
      }
    },
    {
      "cell_type": "markdown",
      "source": [
        "A random forest classifier is an ensemble learning method that combines multiple decision trees to generate a more accurate model. The model works by creating a forest of decision trees and using them to predict the class of the input data."
      ],
      "metadata": {
        "id": "N7bodMfUSTPV"
      }
    },
    {
      "cell_type": "code",
      "source": [
        "# Importing RandomForestClassifier from sklearn.ensemble\n",
        "from sklearn.ensemble import RandomForestClassifier"
      ],
      "metadata": {
        "id": "Q8w6Im3eSUHb"
      },
      "execution_count": 361,
      "outputs": []
    },
    {
      "cell_type": "code",
      "source": [
        "# Initializing an instance of RandomForestClassifier\n",
        "classifier_rf = RandomForestClassifier(random_state=1)"
      ],
      "metadata": {
        "id": "Kd8CuTpuSqC0"
      },
      "execution_count": 362,
      "outputs": []
    },
    {
      "cell_type": "code",
      "source": [
        "# Fitting the training data to our random forest\n",
        "classifier_rf.fit(x_train, y_train)"
      ],
      "metadata": {
        "colab": {
          "base_uri": "https://localhost:8080/"
        },
        "id": "iBu9guWMSuxa",
        "outputId": "b5ff5069-9ffd-48e3-b1fc-883963142a8f"
      },
      "execution_count": 363,
      "outputs": [
        {
          "output_type": "execute_result",
          "data": {
            "text/plain": [
              "RandomForestClassifier(random_state=1)"
            ]
          },
          "metadata": {},
          "execution_count": 363
        }
      ]
    },
    {
      "cell_type": "markdown",
      "source": [
        "We will do the same thing as before, where we are using the `predict()` method of the classifier object to generate predictions on the test set. The `predict()` method takes the test set as input and returns the predicted class labels for each sample in the test set."
      ],
      "metadata": {
        "id": "MH0afM9PTX_t"
      }
    },
    {
      "cell_type": "code",
      "source": [
        "# Calculating predicted values from our test dataset using our random forest model\n",
        "y_pred = classifier_rf.predict(x_test)"
      ],
      "metadata": {
        "id": "HuRdaDqOTBhG"
      },
      "execution_count": 364,
      "outputs": []
    },
    {
      "cell_type": "code",
      "source": [
        "# Importing all classes needed from sklearn.metrics\n",
        "from sklearn.metrics import accuracy_score, precision_score, recall_score, f1_score, confusion_matrix"
      ],
      "metadata": {
        "id": "h_UKnqPTUPWN"
      },
      "execution_count": 365,
      "outputs": []
    },
    {
      "cell_type": "code",
      "source": [
        "# Initializing metrics\n",
        "acc = accuracy_score(y_test, y_pred)\n",
        "f1 = f1_score(y_test, y_pred)\n",
        "prec = precision_score(y_test, y_pred)\n",
        "rec = recall_score(y_test, y_pred)"
      ],
      "metadata": {
        "id": "Zi1UtoScUaug"
      },
      "execution_count": 366,
      "outputs": []
    },
    {
      "cell_type": "code",
      "source": [
        "# Creating a dataframe for our results\n",
        "rf_results = pd.DataFrame([['Random Forest', acc, f1, prec, rec]],\n",
        "                       columns = ['Model', 'Accuracy', 'F1 Score', 'Precision', 'Recall'])"
      ],
      "metadata": {
        "id": "zIvoQ_lBUbQY"
      },
      "execution_count": 367,
      "outputs": []
    },
    {
      "cell_type": "code",
      "source": [
        "# Appending logistic regression results and random forest results into one dataframe\n",
        "results = lr_results.append(rf_results, ignore_index = True)"
      ],
      "metadata": {
        "id": "tgwdlvXFUqDR"
      },
      "execution_count": 368,
      "outputs": []
    },
    {
      "cell_type": "code",
      "source": [
        "# Printing results dataframe\n",
        "results"
      ],
      "metadata": {
        "colab": {
          "base_uri": "https://localhost:8080/",
          "height": 112
        },
        "id": "9PaBWs-TU3CQ",
        "outputId": "4f7278f3-a196-4773-ac86-110f624fbdfc"
      },
      "execution_count": 369,
      "outputs": [
        {
          "output_type": "execute_result",
          "data": {
            "text/plain": [
              "                 Model  Accuracy  F1 Score  Precision    Recall\n",
              "0  Logistic Regression  0.973684  0.963855    0.97561  0.952381\n",
              "1        Random Forest  0.956140  0.936709    1.00000  0.880952"
            ],
            "text/html": [
              "\n",
              "  <div id=\"df-32a0a7d4-6cd1-4463-8a0f-56047e90f225\">\n",
              "    <div class=\"colab-df-container\">\n",
              "      <div>\n",
              "<style scoped>\n",
              "    .dataframe tbody tr th:only-of-type {\n",
              "        vertical-align: middle;\n",
              "    }\n",
              "\n",
              "    .dataframe tbody tr th {\n",
              "        vertical-align: top;\n",
              "    }\n",
              "\n",
              "    .dataframe thead th {\n",
              "        text-align: right;\n",
              "    }\n",
              "</style>\n",
              "<table border=\"1\" class=\"dataframe\">\n",
              "  <thead>\n",
              "    <tr style=\"text-align: right;\">\n",
              "      <th></th>\n",
              "      <th>Model</th>\n",
              "      <th>Accuracy</th>\n",
              "      <th>F1 Score</th>\n",
              "      <th>Precision</th>\n",
              "      <th>Recall</th>\n",
              "    </tr>\n",
              "  </thead>\n",
              "  <tbody>\n",
              "    <tr>\n",
              "      <th>0</th>\n",
              "      <td>Logistic Regression</td>\n",
              "      <td>0.973684</td>\n",
              "      <td>0.963855</td>\n",
              "      <td>0.97561</td>\n",
              "      <td>0.952381</td>\n",
              "    </tr>\n",
              "    <tr>\n",
              "      <th>1</th>\n",
              "      <td>Random Forest</td>\n",
              "      <td>0.956140</td>\n",
              "      <td>0.936709</td>\n",
              "      <td>1.00000</td>\n",
              "      <td>0.880952</td>\n",
              "    </tr>\n",
              "  </tbody>\n",
              "</table>\n",
              "</div>\n",
              "      <button class=\"colab-df-convert\" onclick=\"convertToInteractive('df-32a0a7d4-6cd1-4463-8a0f-56047e90f225')\"\n",
              "              title=\"Convert this dataframe to an interactive table.\"\n",
              "              style=\"display:none;\">\n",
              "        \n",
              "  <svg xmlns=\"http://www.w3.org/2000/svg\" height=\"24px\"viewBox=\"0 0 24 24\"\n",
              "       width=\"24px\">\n",
              "    <path d=\"M0 0h24v24H0V0z\" fill=\"none\"/>\n",
              "    <path d=\"M18.56 5.44l.94 2.06.94-2.06 2.06-.94-2.06-.94-.94-2.06-.94 2.06-2.06.94zm-11 1L8.5 8.5l.94-2.06 2.06-.94-2.06-.94L8.5 2.5l-.94 2.06-2.06.94zm10 10l.94 2.06.94-2.06 2.06-.94-2.06-.94-.94-2.06-.94 2.06-2.06.94z\"/><path d=\"M17.41 7.96l-1.37-1.37c-.4-.4-.92-.59-1.43-.59-.52 0-1.04.2-1.43.59L10.3 9.45l-7.72 7.72c-.78.78-.78 2.05 0 2.83L4 21.41c.39.39.9.59 1.41.59.51 0 1.02-.2 1.41-.59l7.78-7.78 2.81-2.81c.8-.78.8-2.07 0-2.86zM5.41 20L4 18.59l7.72-7.72 1.47 1.35L5.41 20z\"/>\n",
              "  </svg>\n",
              "      </button>\n",
              "      \n",
              "  <style>\n",
              "    .colab-df-container {\n",
              "      display:flex;\n",
              "      flex-wrap:wrap;\n",
              "      gap: 12px;\n",
              "    }\n",
              "\n",
              "    .colab-df-convert {\n",
              "      background-color: #E8F0FE;\n",
              "      border: none;\n",
              "      border-radius: 50%;\n",
              "      cursor: pointer;\n",
              "      display: none;\n",
              "      fill: #1967D2;\n",
              "      height: 32px;\n",
              "      padding: 0 0 0 0;\n",
              "      width: 32px;\n",
              "    }\n",
              "\n",
              "    .colab-df-convert:hover {\n",
              "      background-color: #E2EBFA;\n",
              "      box-shadow: 0px 1px 2px rgba(60, 64, 67, 0.3), 0px 1px 3px 1px rgba(60, 64, 67, 0.15);\n",
              "      fill: #174EA6;\n",
              "    }\n",
              "\n",
              "    [theme=dark] .colab-df-convert {\n",
              "      background-color: #3B4455;\n",
              "      fill: #D2E3FC;\n",
              "    }\n",
              "\n",
              "    [theme=dark] .colab-df-convert:hover {\n",
              "      background-color: #434B5C;\n",
              "      box-shadow: 0px 1px 3px 1px rgba(0, 0, 0, 0.15);\n",
              "      filter: drop-shadow(0px 1px 2px rgba(0, 0, 0, 0.3));\n",
              "      fill: #FFFFFF;\n",
              "    }\n",
              "  </style>\n",
              "\n",
              "      <script>\n",
              "        const buttonEl =\n",
              "          document.querySelector('#df-32a0a7d4-6cd1-4463-8a0f-56047e90f225 button.colab-df-convert');\n",
              "        buttonEl.style.display =\n",
              "          google.colab.kernel.accessAllowed ? 'block' : 'none';\n",
              "\n",
              "        async function convertToInteractive(key) {\n",
              "          const element = document.querySelector('#df-32a0a7d4-6cd1-4463-8a0f-56047e90f225');\n",
              "          const dataTable =\n",
              "            await google.colab.kernel.invokeFunction('convertToInteractive',\n",
              "                                                     [key], {});\n",
              "          if (!dataTable) return;\n",
              "\n",
              "          const docLinkHtml = 'Like what you see? Visit the ' +\n",
              "            '<a target=\"_blank\" href=https://colab.research.google.com/notebooks/data_table.ipynb>data table notebook</a>'\n",
              "            + ' to learn more about interactive tables.';\n",
              "          element.innerHTML = '';\n",
              "          dataTable['output_type'] = 'display_data';\n",
              "          await google.colab.output.renderOutput(dataTable, element);\n",
              "          const docLink = document.createElement('div');\n",
              "          docLink.innerHTML = docLinkHtml;\n",
              "          element.appendChild(docLink);\n",
              "        }\n",
              "      </script>\n",
              "    </div>\n",
              "  </div>\n",
              "  "
            ]
          },
          "metadata": {},
          "execution_count": 369
        }
      ]
    },
    {
      "cell_type": "markdown",
      "source": [
        "The table provides a comparison of the performance metrics of two different models, logistic regression and random forest, that were applied to the breast cancer dataset.\n",
        "\n",
        "The logistic regression model achieved an accuracy of 97.37%, with high F1-score, precision, and recall values. The random forest model achieved an accuracy of 95.61%, with a lower F1-score than logistic regression but a perfect precision score and a lower recall score.\n",
        "\n",
        "The results suggest that both models performed well on the breast cancer dataset, with the logistic regression model being slightly more accurate than the random forest model. However, the random forest model achieved perfect precision, meaning that when it classified a tumor as malignant, it was always correct, but it missed some of the actual malignant cases. The logistic regression model performed well in both precision and recall and is a good choice when both false negatives and false positives need to be minimized.\n",
        "\n",
        "It is always a good idea to compare the performance of different models to choose the one that fits best for the problem at hand."
      ],
      "metadata": {
        "id": "yKOCQ9V3V2yA"
      }
    },
    {
      "cell_type": "code",
      "source": [
        "# Initializing a confusion matrix\n",
        "cm = confusion_matrix(y_test, y_pred)\n",
        "sns.heatmap(cm, annot=True, cmap='Blues')\n",
        "plt.title('Confusion Matrix')\n",
        "plt.xlabel('Predicted')\n",
        "plt.ylabel('Actual')\n",
        "plt.show()"
      ],
      "metadata": {
        "colab": {
          "base_uri": "https://localhost:8080/",
          "height": 295
        },
        "id": "WWlqn-3mW5rE",
        "outputId": "a8cd24e0-185c-4b56-964a-e5ec505252ca"
      },
      "execution_count": 370,
      "outputs": [
        {
          "output_type": "display_data",
          "data": {
            "text/plain": [
              "<Figure size 432x288 with 2 Axes>"
            ],
            "image/png": "[encoded data removed]"
          },
          "metadata": {
            "needs_background": "light"
          }
        }
      ]
    },
    {
      "cell_type": "markdown",
      "source": [
        "Again, this confusion matrix shows that 72 cases were correctly predicted to be 'B' (TP), 37 cases were correctly predicted to be 'M' (TN), 0 cases was incorrectly predicted to be 'B' when it was actually 'M' (FP) and 5 cases were incorrectly predicted to be 'M' when they were actually 'B' (FN)."
      ],
      "metadata": {
        "id": "cBB5hqkPXT-M"
      }
    },
    {
      "cell_type": "markdown",
      "source": [
        "### Cross-Validation"
      ],
      "metadata": {
        "id": "eOWXLiVVWJrP"
      }
    },
    {
      "cell_type": "markdown",
      "source": [
        "To evaluate the performance of the random forest model, we will use the same evaluation metrics we used for the logistic regression. We'll also use cross-validation on the random forest model to ensure that the accuracy we obtained is reliable and not due to overfitting or underfitting."
      ],
      "metadata": {
        "id": "L4H3U465WNvX"
      }
    },
    {
      "cell_type": "code",
      "source": [
        "# Importing cross_val_score from sklearn.model_selection\n",
        "from sklearn.model_selection import cross_val_score"
      ],
      "metadata": {
        "id": "GenJB8WvWLrJ"
      },
      "execution_count": 371,
      "outputs": []
    },
    {
      "cell_type": "code",
      "source": [
        "# Creating vector of accuracies\n",
        "accuracies = cross_val_score(estimator = classifier_rf, X = x_train, y = y_train, cv = 10)"
      ],
      "metadata": {
        "id": "6vWf3uaCWe6X"
      },
      "execution_count": 372,
      "outputs": []
    },
    {
      "cell_type": "code",
      "source": [
        "# Printing accuracy and standard deviation\n",
        "print(\"Accuracy is {:.2f} %\".format(accuracies.mean()*100))\n",
        "print(\"Standard Deviation is {:.2f} %\".format(accuracies.std()*100))"
      ],
      "metadata": {
        "colab": {
          "base_uri": "https://localhost:8080/"
        },
        "id": "nMMKNRoTWgzg",
        "outputId": "4f72aba4-b74d-493f-d376-b937640ba6ba"
      },
      "execution_count": 373,
      "outputs": [
        {
          "output_type": "stream",
          "name": "stdout",
          "text": [
            "Accuracy is 95.18 %\n",
            "Standard Deviation is 2.54 %\n"
          ]
        }
      ]
    },
    {
      "cell_type": "markdown",
      "source": [
        "Based on the evaluation metrics and cross-validation results, it appears that our logistic regression model performed slightly better than the random forest model. While the random forest model had a high accuracy score of 0.96, its precision score was perfect (1.00) while its recall score was relatively low (0.88), indicating that the model had a higher false negative rate. On the other hand, the logistic regression model had high scores for all evaluation metrics, with an accuracy of 0.97, a precision of 0.98, and a recall of 0.95.\n",
        "\n",
        "In addition, the logistic regression model is a simpler model compared to the random forest model, which could potentially result in better generalization and interpretation. Therefore, we decided to finalize our model as **logistic regression.**"
      ],
      "metadata": {
        "id": "NQhQDcZ6Ybct"
      }
    },
    {
      "cell_type": "markdown",
      "source": [
        "# Part 3: Hyperparameter Tuning"
      ],
      "metadata": {
        "id": "GGDgmSfUjl0T"
      }
    },
    {
      "cell_type": "markdown",
      "source": [
        "## Using RandomizedSearch on Logistic Regression"
      ],
      "metadata": {
        "id": "6Y8g76M8keJK"
      }
    },
    {
      "cell_type": "markdown",
      "source": [
        "Now that we have finalized our model as logistic regression, we want to ensure that we are using the optimal hyperparameters to achieve the best performance metrics. Therefore, we will perform hyperparameter tuning to find the best combination of hyperparameters for our model."
      ],
      "metadata": {
        "id": "IrQKp41qpXry"
      }
    },
    {
      "cell_type": "markdown",
      "source": [
        "\n",
        "\n",
        "`RandomizedSearchCV` is a method used to perform hyperparameter tuning for a machine learning model. It performs a randomized search over a specified hyperparameter space, by sampling a specified number of combinations of hyperparameters from a given distribution. \n",
        "\n",
        "It then fits and evaluates the model for each combination of hyperparameters using cross-validation, and returns the best combination of hyperparameters based on a specified scoring metric.\n",
        "\n",
        "In the context of our project, we can use RandomizedSearchCV to perform hyperparameter tuning for our logistic regression model. By specifying a hyperparameter space, we can use `RandomizedSearchCV` to search for the best combination of hyperparameters for our logistic regression model, and potentially improve its performance."
      ],
      "metadata": {
        "id": "YWP548Onkubq"
      }
    },
    {
      "cell_type": "code",
      "source": [
        "# Importing RandomizedSearchCV from sklearn.model_selection\n",
        "from sklearn.model_selection import RandomizedSearchCV"
      ],
      "metadata": {
        "id": "jKej66M8jqDi"
      },
      "execution_count": 374,
      "outputs": []
    },
    {
      "cell_type": "markdown",
      "source": [
        "There are several hyperparameters that we can tune for a logistic regression model. In this code, we are defining a dictionary called parameters that contains different values for the hyperparameters `penalty`, `C`, `solver`, and `max_iter`. The `penalty` parameter specifies the type of regularization, `C` is the inverse of regularization strength, `solver` is the algorithm used for optimization, and `max_iter` is the maximum number of iterations for the solver to converge.\n",
        "\n",
        "We will use `RandomizedSearchCV` to perform a random search over the hyperparameters space to find the best combination of hyperparameters for our logistic regression model."
      ],
      "metadata": {
        "id": "S9qIozICoA5a"
      }
    },
    {
      "cell_type": "code",
      "source": [
        "# Defining parameters containing hyperparameters\n",
        "parameters = {'penalty': ['l1', 'l2', 'elasticnet', 'none'],\n",
        "              'C': [0.25, 0.5, 0.75, 1.0, 1.25, 1.5, 1.75, 2.0],\n",
        "              'solver': ['lbfgs', 'liblinear', 'newton-cg', 'newton-cholesky', 'sag', 'saga']\n",
        "              }"
      ],
      "metadata": {
        "id": "7zIV5--Gk7Cf"
      },
      "execution_count": 375,
      "outputs": []
    },
    {
      "cell_type": "markdown",
      "source": [
        "The following code initializes a `RandomizedSearchCV` object with the following parameters:\n",
        "\n",
        "* `estimator`: the logistic regression classifier we want to tune.\n",
        "* `param_distributions`: a dictionary of hyperparameters and their potential values that we want to try out.\n",
        "* `n_iter`: the number of different hyperparameter combinations we want to try out.\n",
        "* `scoring`: the metric used to evaluate the performance of each combination.\n",
        "* `n_jobs`: the number of CPU cores to use for parallel computation. Setting it to -1 means to use all available cores.\n",
        "* `cv`: the number of folds in the cross-validation process.\n",
        "* `verbose`: the level of detail to display during the search process. A higher value means more details will be shown."
      ],
      "metadata": {
        "id": "VlLPvF4Ao427"
      }
    },
    {
      "cell_type": "code",
      "source": [
        "# Initializing RanddomizedSearchCV\n",
        "randomSearch = RandomizedSearchCV(estimator=classifier_lr, param_distributions=parameters, \n",
        "                                  n_iter=10, scoring='roc_auc', n_jobs=-1, cv=10, verbose=3)"
      ],
      "metadata": {
        "id": "tOQXMYHGoYMw"
      },
      "execution_count": 376,
      "outputs": []
    },
    {
      "cell_type": "code",
      "source": [
        "# Executing .fit method\n",
        "randomSearch.fit(x_train, y_train)"
      ],
      "metadata": {
        "colab": {
          "base_uri": "https://localhost:8080/"
        },
        "id": "4NE1fOQ2oa_w",
        "outputId": "5c8ffadd-04f5-455f-9602-55c0bd5f6c25"
      },
      "execution_count": 377,
      "outputs": [
        {
          "output_type": "stream",
          "name": "stdout",
          "text": [
            "Fitting 10 folds for each of 10 candidates, totalling 100 fits\n"
          ]
        },
        {
          "output_type": "stream",
          "name": "stderr",
          "text": [
            "/usr/local/lib/python3.8/dist-packages/sklearn/model_selection/_validation.py:372: FitFailedWarning: \n",
            "40 fits failed out of a total of 100.\n",
            "The score on these train-test partitions for these parameters will be set to nan.\n",
            "If these failures are not expected, you can try to debug them by setting error_score='raise'.\n",
            "\n",
            "Below are more details about the failures:\n",
            "--------------------------------------------------------------------------------\n",
            "10 fits failed with the following error:\n",
            "Traceback (most recent call last):\n",
            "  File \"/usr/local/lib/python3.8/dist-packages/sklearn/model_selection/_validation.py\", line 680, in _fit_and_score\n",
            "    estimator.fit(X_train, y_train, **fit_params)\n",
            "  File \"/usr/local/lib/python3.8/dist-packages/sklearn/linear_model/_logistic.py\", line 1461, in fit\n",
            "    solver = _check_solver(self.solver, self.penalty, self.dual)\n",
            "  File \"/usr/local/lib/python3.8/dist-packages/sklearn/linear_model/_logistic.py\", line 447, in _check_solver\n",
            "    raise ValueError(\n",
            "ValueError: Solver newton-cg supports only 'l2' or 'none' penalties, got elasticnet penalty.\n",
            "\n",
            "--------------------------------------------------------------------------------\n",
            "10 fits failed with the following error:\n",
            "Traceback (most recent call last):\n",
            "  File \"/usr/local/lib/python3.8/dist-packages/sklearn/model_selection/_validation.py\", line 680, in _fit_and_score\n",
            "    estimator.fit(X_train, y_train, **fit_params)\n",
            "  File \"/usr/local/lib/python3.8/dist-packages/sklearn/linear_model/_logistic.py\", line 1461, in fit\n",
            "    solver = _check_solver(self.solver, self.penalty, self.dual)\n",
            "  File \"/usr/local/lib/python3.8/dist-packages/sklearn/linear_model/_logistic.py\", line 457, in _check_solver\n",
            "    raise ValueError(\n",
            "ValueError: Only 'saga' solver supports elasticnet penalty, got solver=liblinear.\n",
            "\n",
            "--------------------------------------------------------------------------------\n",
            "10 fits failed with the following error:\n",
            "Traceback (most recent call last):\n",
            "  File \"/usr/local/lib/python3.8/dist-packages/sklearn/model_selection/_validation.py\", line 680, in _fit_and_score\n",
            "    estimator.fit(X_train, y_train, **fit_params)\n",
            "  File \"/usr/local/lib/python3.8/dist-packages/sklearn/linear_model/_logistic.py\", line 1461, in fit\n",
            "    solver = _check_solver(self.solver, self.penalty, self.dual)\n",
            "  File \"/usr/local/lib/python3.8/dist-packages/sklearn/linear_model/_logistic.py\", line 434, in _check_solver\n",
            "    raise ValueError(\n",
            "ValueError: Logistic Regression supports only solvers in ['liblinear', 'newton-cg', 'lbfgs', 'sag', 'saga'], got newton-cholesky.\n",
            "\n",
            "--------------------------------------------------------------------------------\n",
            "10 fits failed with the following error:\n",
            "Traceback (most recent call last):\n",
            "  File \"/usr/local/lib/python3.8/dist-packages/sklearn/model_selection/_validation.py\", line 680, in _fit_and_score\n",
            "    estimator.fit(X_train, y_train, **fit_params)\n",
            "  File \"/usr/local/lib/python3.8/dist-packages/sklearn/linear_model/_logistic.py\", line 1461, in fit\n",
            "    solver = _check_solver(self.solver, self.penalty, self.dual)\n",
            "  File \"/usr/local/lib/python3.8/dist-packages/sklearn/linear_model/_logistic.py\", line 447, in _check_solver\n",
            "    raise ValueError(\n",
            "ValueError: Solver lbfgs supports only 'l2' or 'none' penalties, got elasticnet penalty.\n",
            "\n",
            "  warnings.warn(some_fits_failed_message, FitFailedWarning)\n",
            "/usr/local/lib/python3.8/dist-packages/sklearn/model_selection/_search.py:969: UserWarning: One or more of the test scores are non-finite: [0.99380614        nan 0.99399449 0.99422631 0.9936033         nan\n",
            "        nan 0.99380614        nan 0.99319038]\n",
            "  warnings.warn(\n",
            "/usr/local/lib/python3.8/dist-packages/sklearn/linear_model/_sag.py:352: ConvergenceWarning: The max_iter was reached which means the coef_ did not converge\n",
            "  warnings.warn(\n"
          ]
        },
        {
          "output_type": "execute_result",
          "data": {
            "text/plain": [
              "RandomizedSearchCV(cv=10, estimator=LogisticRegression(random_state=1),\n",
              "                   n_jobs=-1,\n",
              "                   param_distributions={'C': [0.25, 0.5, 0.75, 1.0, 1.25, 1.5,\n",
              "                                              1.75, 2.0],\n",
              "                                        'penalty': ['l1', 'l2', 'elasticnet',\n",
              "                                                    'none'],\n",
              "                                        'solver': ['lbfgs', 'liblinear',\n",
              "                                                   'newton-cg',\n",
              "                                                   'newton-cholesky', 'sag',\n",
              "                                                   'saga']},\n",
              "                   scoring='roc_auc', verbose=3)"
            ]
          },
          "metadata": {},
          "execution_count": 377
        }
      ]
    },
    {
      "cell_type": "code",
      "source": [
        "# Printing the best estimators from our RandomizedSearchCV\n",
        "randomSearch.best_estimator_"
      ],
      "metadata": {
        "colab": {
          "base_uri": "https://localhost:8080/"
        },
        "id": "tKrhZjdXp1FA",
        "outputId": "33787bcf-5fba-40b2-a620-3611713a2274"
      },
      "execution_count": 378,
      "outputs": [
        {
          "output_type": "execute_result",
          "data": {
            "text/plain": [
              "LogisticRegression(C=1.25, random_state=1, solver='sag')"
            ]
          },
          "metadata": {},
          "execution_count": 378
        }
      ]
    },
    {
      "cell_type": "code",
      "source": [
        "# Printing the best score from our RandomizedSearchCV\n",
        "randomSearch.best_score_"
      ],
      "metadata": {
        "colab": {
          "base_uri": "https://localhost:8080/"
        },
        "id": "i-Lq1sS8qWNO",
        "outputId": "c9ebbf7b-e3f4-4025-9094-b08dc22f3d31"
      },
      "execution_count": 379,
      "outputs": [
        {
          "output_type": "execute_result",
          "data": {
            "text/plain": [
              "0.9942263112141407"
            ]
          },
          "metadata": {},
          "execution_count": 379
        }
      ]
    },
    {
      "cell_type": "code",
      "source": [
        "# Printing the best parameters from our RandomizedSearchCV\n",
        "randomSearch.best_params_"
      ],
      "metadata": {
        "colab": {
          "base_uri": "https://localhost:8080/"
        },
        "id": "8kv0S-U-qZrQ",
        "outputId": "c4d11548-8a37-4a29-ac6b-d5d5d3d3b50a"
      },
      "execution_count": 380,
      "outputs": [
        {
          "output_type": "execute_result",
          "data": {
            "text/plain": [
              "{'solver': 'sag', 'penalty': 'l2', 'C': 1.25}"
            ]
          },
          "metadata": {},
          "execution_count": 380
        }
      ]
    },
    {
      "cell_type": "markdown",
      "source": [
        "The code above shows the best parameters that were obtained after performing hyperparameter tuning using RandomizedSearchCV. The best parameters obtained were: {'solver': 'sag', 'penalty': 'l2', 'C': 1.25}.\n",
        "\n",
        "These parameters indicate that the logistic regression model should use the sag solver, the l2 penalty, and a regularization strength parameter of 1.25. These parameters were chosen based on their ability to optimize the performance of the model on the specified scoring metric (roc_auc in this case)."
      ],
      "metadata": {
        "id": "DfhOgIDqr63O"
      }
    },
    {
      "cell_type": "markdown",
      "source": [
        "# Part 4: Final Model (Logistic Regression)"
      ],
      "metadata": {
        "id": "Sfp8icvwtBIy"
      }
    },
    {
      "cell_type": "markdown",
      "source": [
        "Once we have selected the best hyperparameters for our logistic regression model, we can proceed to create our final model using these updated parameters. This final model will be used for predicting the class labels of new data instances.\n",
        "\n",
        "By specifying the updated hyperparameters, we can create a new instance of the logistic regression classifier that will perform better than the default logistic regression model with default hyperparameters. Therefore, we can expect that our final model will produce more accurate predictions than our previous models."
      ],
      "metadata": {
        "id": "MPyv5dC7wiJC"
      }
    },
    {
      "cell_type": "code",
      "source": [
        "# Importing LogisticRegression from sklearn.linear_model\n",
        "from sklearn.linear_model import LogisticRegression"
      ],
      "metadata": {
        "id": "wUlA84fktE75"
      },
      "execution_count": 381,
      "outputs": []
    },
    {
      "cell_type": "code",
      "source": [
        "# Initializing an instance of LogisticRegression with the best parameters\n",
        "classifier = LogisticRegression(C=0.75, random_state=1, solver='liblinear')"
      ],
      "metadata": {
        "id": "7hYJtyeNuSDJ"
      },
      "execution_count": 382,
      "outputs": []
    },
    {
      "cell_type": "code",
      "source": [
        "# Fitting the training data to our logistic regression\n",
        "classifier.fit(x_train, y_train)"
      ],
      "metadata": {
        "colab": {
          "base_uri": "https://localhost:8080/"
        },
        "id": "-ppCAglPuX-0",
        "outputId": "35afea0b-69bf-432e-b1f9-0d8702fde5d9"
      },
      "execution_count": 383,
      "outputs": [
        {
          "output_type": "execute_result",
          "data": {
            "text/plain": [
              "LogisticRegression(C=0.75, random_state=1, solver='liblinear')"
            ]
          },
          "metadata": {},
          "execution_count": 383
        }
      ]
    },
    {
      "cell_type": "code",
      "source": [
        "# Calculating predicted values from our test dataset using our new logistic model\n",
        "y_pred = classifier.predict(x_test)"
      ],
      "metadata": {
        "id": "vRehRvzTwb0x"
      },
      "execution_count": 384,
      "outputs": []
    },
    {
      "cell_type": "code",
      "source": [
        "# Initializing metrics\n",
        "acc = accuracy_score(y_test, y_pred)\n",
        "f1 = f1_score(y_test, y_pred)\n",
        "prec = precision_score(y_test, y_pred)\n",
        "rec = recall_score(y_test, y_pred)"
      ],
      "metadata": {
        "id": "w-vlPo990A3G"
      },
      "execution_count": 385,
      "outputs": []
    },
    {
      "cell_type": "code",
      "source": [
        "# Creating a dataframe for our results\n",
        "lr_results = pd.DataFrame([['Final Logistic Regression', acc, f1, prec, rec]],\n",
        "                       columns = ['Model', 'Accuracy', 'F1 Score', 'Precision', 'Recall'])"
      ],
      "metadata": {
        "id": "ot2aBDBZ0BU-"
      },
      "execution_count": 386,
      "outputs": []
    },
    {
      "cell_type": "code",
      "source": [
        "# Printing the results dataframe\n",
        "results = results.append(lr_results, ignore_index = True)\n",
        "results"
      ],
      "metadata": {
        "colab": {
          "base_uri": "https://localhost:8080/",
          "height": 143
        },
        "id": "dlOIhgOn0EGN",
        "outputId": "26c9e695-9477-450d-b87e-ba738693548a"
      },
      "execution_count": 387,
      "outputs": [
        {
          "output_type": "execute_result",
          "data": {
            "text/plain": [
              "                       Model  Accuracy  F1 Score  Precision    Recall\n",
              "0        Logistic Regression  0.973684  0.963855    0.97561  0.952381\n",
              "1              Random Forest  0.956140  0.936709    1.00000  0.880952\n",
              "2  Final Logistic Regression  0.982456  0.975610    1.00000  0.952381"
            ],
            "text/html": [
              "\n",
              "  <div id=\"df-da2fd150-f923-4c2f-a761-cf98c62168e6\">\n",
              "    <div class=\"colab-df-container\">\n",
              "      <div>\n",
              "<style scoped>\n",
              "    .dataframe tbody tr th:only-of-type {\n",
              "        vertical-align: middle;\n",
              "    }\n",
              "\n",
              "    .dataframe tbody tr th {\n",
              "        vertical-align: top;\n",
              "    }\n",
              "\n",
              "    .dataframe thead th {\n",
              "        text-align: right;\n",
              "    }\n",
              "</style>\n",
              "<table border=\"1\" class=\"dataframe\">\n",
              "  <thead>\n",
              "    <tr style=\"text-align: right;\">\n",
              "      <th></th>\n",
              "      <th>Model</th>\n",
              "      <th>Accuracy</th>\n",
              "      <th>F1 Score</th>\n",
              "      <th>Precision</th>\n",
              "      <th>Recall</th>\n",
              "    </tr>\n",
              "  </thead>\n",
              "  <tbody>\n",
              "    <tr>\n",
              "      <th>0</th>\n",
              "      <td>Logistic Regression</td>\n",
              "      <td>0.973684</td>\n",
              "      <td>0.963855</td>\n",
              "      <td>0.97561</td>\n",
              "      <td>0.952381</td>\n",
              "    </tr>\n",
              "    <tr>\n",
              "      <th>1</th>\n",
              "      <td>Random Forest</td>\n",
              "      <td>0.956140</td>\n",
              "      <td>0.936709</td>\n",
              "      <td>1.00000</td>\n",
              "      <td>0.880952</td>\n",
              "    </tr>\n",
              "    <tr>\n",
              "      <th>2</th>\n",
              "      <td>Final Logistic Regression</td>\n",
              "      <td>0.982456</td>\n",
              "      <td>0.975610</td>\n",
              "      <td>1.00000</td>\n",
              "      <td>0.952381</td>\n",
              "    </tr>\n",
              "  </tbody>\n",
              "</table>\n",
              "</div>\n",
              "      <button class=\"colab-df-convert\" onclick=\"convertToInteractive('df-da2fd150-f923-4c2f-a761-cf98c62168e6')\"\n",
              "              title=\"Convert this dataframe to an interactive table.\"\n",
              "              style=\"display:none;\">\n",
              "        \n",
              "  <svg xmlns=\"http://www.w3.org/2000/svg\" height=\"24px\"viewBox=\"0 0 24 24\"\n",
              "       width=\"24px\">\n",
              "    <path d=\"M0 0h24v24H0V0z\" fill=\"none\"/>\n",
              "    <path d=\"M18.56 5.44l.94 2.06.94-2.06 2.06-.94-2.06-.94-.94-2.06-.94 2.06-2.06.94zm-11 1L8.5 8.5l.94-2.06 2.06-.94-2.06-.94L8.5 2.5l-.94 2.06-2.06.94zm10 10l.94 2.06.94-2.06 2.06-.94-2.06-.94-.94-2.06-.94 2.06-2.06.94z\"/><path d=\"M17.41 7.96l-1.37-1.37c-.4-.4-.92-.59-1.43-.59-.52 0-1.04.2-1.43.59L10.3 9.45l-7.72 7.72c-.78.78-.78 2.05 0 2.83L4 21.41c.39.39.9.59 1.41.59.51 0 1.02-.2 1.41-.59l7.78-7.78 2.81-2.81c.8-.78.8-2.07 0-2.86zM5.41 20L4 18.59l7.72-7.72 1.47 1.35L5.41 20z\"/>\n",
              "  </svg>\n",
              "      </button>\n",
              "      \n",
              "  <style>\n",
              "    .colab-df-container {\n",
              "      display:flex;\n",
              "      flex-wrap:wrap;\n",
              "      gap: 12px;\n",
              "    }\n",
              "\n",
              "    .colab-df-convert {\n",
              "      background-color: #E8F0FE;\n",
              "      border: none;\n",
              "      border-radius: 50%;\n",
              "      cursor: pointer;\n",
              "      display: none;\n",
              "      fill: #1967D2;\n",
              "      height: 32px;\n",
              "      padding: 0 0 0 0;\n",
              "      width: 32px;\n",
              "    }\n",
              "\n",
              "    .colab-df-convert:hover {\n",
              "      background-color: #E2EBFA;\n",
              "      box-shadow: 0px 1px 2px rgba(60, 64, 67, 0.3), 0px 1px 3px 1px rgba(60, 64, 67, 0.15);\n",
              "      fill: #174EA6;\n",
              "    }\n",
              "\n",
              "    [theme=dark] .colab-df-convert {\n",
              "      background-color: #3B4455;\n",
              "      fill: #D2E3FC;\n",
              "    }\n",
              "\n",
              "    [theme=dark] .colab-df-convert:hover {\n",
              "      background-color: #434B5C;\n",
              "      box-shadow: 0px 1px 3px 1px rgba(0, 0, 0, 0.15);\n",
              "      filter: drop-shadow(0px 1px 2px rgba(0, 0, 0, 0.3));\n",
              "      fill: #FFFFFF;\n",
              "    }\n",
              "  </style>\n",
              "\n",
              "      <script>\n",
              "        const buttonEl =\n",
              "          document.querySelector('#df-da2fd150-f923-4c2f-a761-cf98c62168e6 button.colab-df-convert');\n",
              "        buttonEl.style.display =\n",
              "          google.colab.kernel.accessAllowed ? 'block' : 'none';\n",
              "\n",
              "        async function convertToInteractive(key) {\n",
              "          const element = document.querySelector('#df-da2fd150-f923-4c2f-a761-cf98c62168e6');\n",
              "          const dataTable =\n",
              "            await google.colab.kernel.invokeFunction('convertToInteractive',\n",
              "                                                     [key], {});\n",
              "          if (!dataTable) return;\n",
              "\n",
              "          const docLinkHtml = 'Like what you see? Visit the ' +\n",
              "            '<a target=\"_blank\" href=https://colab.research.google.com/notebooks/data_table.ipynb>data table notebook</a>'\n",
              "            + ' to learn more about interactive tables.';\n",
              "          element.innerHTML = '';\n",
              "          dataTable['output_type'] = 'display_data';\n",
              "          await google.colab.output.renderOutput(dataTable, element);\n",
              "          const docLink = document.createElement('div');\n",
              "          docLink.innerHTML = docLinkHtml;\n",
              "          element.appendChild(docLink);\n",
              "        }\n",
              "      </script>\n",
              "    </div>\n",
              "  </div>\n",
              "  "
            ]
          },
          "metadata": {},
          "execution_count": 387
        }
      ]
    },
    {
      "cell_type": "markdown",
      "source": [
        "After tuning the hyperparameters using `RandomizedSearchCV` and training the model with the updated parameters, we evaluated the performance of the model on the test data. \n",
        "\n",
        "We observed that the final model provides a better accuracy and F1 score compared to the initial model that we trained without any hyperparameter tuning. This means that the model is better at correctly classifying the test data.\n",
        "\n",
        "The recall metric remains the same, indicating that the final model is not better at correctly identifying all the positive cases compared to the initial model."
      ],
      "metadata": {
        "id": "iW8QZZqa3WHh"
      }
    },
    {
      "cell_type": "markdown",
      "source": [
        "## Cross-Validation"
      ],
      "metadata": {
        "id": "Wzm_Ngeq8Vet"
      }
    },
    {
      "cell_type": "code",
      "source": [
        "# Creating vector of accuracies\n",
        "accuracies = cross_val_score(estimator = classifier, X = x_train, y = y_train, cv = 10)"
      ],
      "metadata": {
        "id": "wTt2goB98XsQ"
      },
      "execution_count": 388,
      "outputs": []
    },
    {
      "cell_type": "code",
      "source": [
        "# Printing accuracy and standard deviation\n",
        "print(\"Accuracy is {:.2f} %\".format(accuracies.mean()*100))\n",
        "print(\"Standard Deviation is {:.2f} %\".format(accuracies.std()*100))"
      ],
      "metadata": {
        "colab": {
          "base_uri": "https://localhost:8080/"
        },
        "id": "h2koDtKN8dpC",
        "outputId": "196e82c6-45a0-46f7-e4b5-2ef9f2c39537"
      },
      "execution_count": 389,
      "outputs": [
        {
          "output_type": "stream",
          "name": "stdout",
          "text": [
            "Accuracy is 98.25 %\n",
            "Standard Deviation is 1.31 %\n"
          ]
        }
      ]
    },
    {
      "cell_type": "markdown",
      "source": [
        "Since the overall performance of the final model has improved, from 97.37% accuracy to 98.25%, we can conclude that the updated parameters are a better fit for our logistic regression model, and we can use this final model to predict the diagnosis of breast cancer patients with more accuracy."
      ],
      "metadata": {
        "id": "-3TeXKjXBgUW"
      }
    },
    {
      "cell_type": "markdown",
      "source": [
        "# Part 5: Predicting Observation"
      ],
      "metadata": {
        "id": "o4N5Sub1B9wd"
      }
    },
    {
      "cell_type": "markdown",
      "source": [
        "Once we have built and finalized our model, we can use it to make predictions on new, unseen data. This means that if we are given data on a new patient, we can input that data into an array and use our model to predict whether the cancer in that patient is malignant or benign.\n",
        "\n",
        "For example, let's say we are given data on a new patient, including their mean radius, texture, perimeter, area, smoothness, compactness, concavity, concave points, symmetry, and fractal dimension. We can input this data into an array and use our final model to predict whether the cancer in that patient is malignant or benign. This can be very helpful for medical professionals in making informed decisions and providing appropriate treatments to their patients."
      ],
      "metadata": {
        "id": "YNdfcepbCX2Q"
      }
    },
    {
      "cell_type": "code",
      "source": [
        "# Taking first row from dataset to test\n",
        "dataset.head()"
      ],
      "metadata": {
        "colab": {
          "base_uri": "https://localhost:8080/",
          "height": 317
        },
        "id": "ma7HdlMzCBtz",
        "outputId": "af1b7353-cdea-4451-ee3e-223050db1219"
      },
      "execution_count": 397,
      "outputs": [
        {
          "output_type": "execute_result",
          "data": {
            "text/plain": [
              "         id  radius_mean  texture_mean  perimeter_mean  area_mean  \\\n",
              "0    842302        17.99         10.38          122.80     1001.0   \n",
              "1    842517        20.57         17.77          132.90     1326.0   \n",
              "2  84300903        19.69         21.25          130.00     1203.0   \n",
              "3  84348301        11.42         20.38           77.58      386.1   \n",
              "4  84358402        20.29         14.34          135.10     1297.0   \n",
              "\n",
              "   smoothness_mean  compactness_mean  concavity_mean  concave points_mean  \\\n",
              "0          0.11840           0.27760          0.3001              0.14710   \n",
              "1          0.08474           0.07864          0.0869              0.07017   \n",
              "2          0.10960           0.15990          0.1974              0.12790   \n",
              "3          0.14250           0.28390          0.2414              0.10520   \n",
              "4          0.10030           0.13280          0.1980              0.10430   \n",
              "\n",
              "   symmetry_mean  ...  texture_worst  perimeter_worst  area_worst  \\\n",
              "0         0.2419  ...          17.33           184.60      2019.0   \n",
              "1         0.1812  ...          23.41           158.80      1956.0   \n",
              "2         0.2069  ...          25.53           152.50      1709.0   \n",
              "3         0.2597  ...          26.50            98.87       567.7   \n",
              "4         0.1809  ...          16.67           152.20      1575.0   \n",
              "\n",
              "   smoothness_worst  compactness_worst  concavity_worst  concave points_worst  \\\n",
              "0            0.1622             0.6656           0.7119                0.2654   \n",
              "1            0.1238             0.1866           0.2416                0.1860   \n",
              "2            0.1444             0.4245           0.4504                0.2430   \n",
              "3            0.2098             0.8663           0.6869                0.2575   \n",
              "4            0.1374             0.2050           0.4000                0.1625   \n",
              "\n",
              "   symmetry_worst  fractal_dimension_worst  diagnosis_M  \n",
              "0          0.4601                  0.11890            1  \n",
              "1          0.2750                  0.08902            1  \n",
              "2          0.3613                  0.08758            1  \n",
              "3          0.6638                  0.17300            1  \n",
              "4          0.2364                  0.07678            1  \n",
              "\n",
              "[5 rows x 32 columns]"
            ],
            "text/html": [
              "\n",
              "  <div id=\"df-9f48b74f-7dc1-49f2-8dd2-95dfc70b204b\">\n",
              "    <div class=\"colab-df-container\">\n",
              "      <div>\n",
              "<style scoped>\n",
              "    .dataframe tbody tr th:only-of-type {\n",
              "        vertical-align: middle;\n",
              "    }\n",
              "\n",
              "    .dataframe tbody tr th {\n",
              "        vertical-align: top;\n",
              "    }\n",
              "\n",
              "    .dataframe thead th {\n",
              "        text-align: right;\n",
              "    }\n",
              "</style>\n",
              "<table border=\"1\" class=\"dataframe\">\n",
              "  <thead>\n",
              "    <tr style=\"text-align: right;\">\n",
              "      <th></th>\n",
              "      <th>id</th>\n",
              "      <th>radius_mean</th>\n",
              "      <th>texture_mean</th>\n",
              "      <th>perimeter_mean</th>\n",
              "      <th>area_mean</th>\n",
              "      <th>smoothness_mean</th>\n",
              "      <th>compactness_mean</th>\n",
              "      <th>concavity_mean</th>\n",
              "      <th>concave points_mean</th>\n",
              "      <th>symmetry_mean</th>\n",
              "      <th>...</th>\n",
              "      <th>texture_worst</th>\n",
              "      <th>perimeter_worst</th>\n",
              "      <th>area_worst</th>\n",
              "      <th>smoothness_worst</th>\n",
              "      <th>compactness_worst</th>\n",
              "      <th>concavity_worst</th>\n",
              "      <th>concave points_worst</th>\n",
              "      <th>symmetry_worst</th>\n",
              "      <th>fractal_dimension_worst</th>\n",
              "      <th>diagnosis_M</th>\n",
              "    </tr>\n",
              "  </thead>\n",
              "  <tbody>\n",
              "    <tr>\n",
              "      <th>0</th>\n",
              "      <td>842302</td>\n",
              "      <td>17.99</td>\n",
              "      <td>10.38</td>\n",
              "      <td>122.80</td>\n",
              "      <td>1001.0</td>\n",
              "      <td>0.11840</td>\n",
              "      <td>0.27760</td>\n",
              "      <td>0.3001</td>\n",
              "      <td>0.14710</td>\n",
              "      <td>0.2419</td>\n",
              "      <td>...</td>\n",
              "      <td>17.33</td>\n",
              "      <td>184.60</td>\n",
              "      <td>2019.0</td>\n",
              "      <td>0.1622</td>\n",
              "      <td>0.6656</td>\n",
              "      <td>0.7119</td>\n",
              "      <td>0.2654</td>\n",
              "      <td>0.4601</td>\n",
              "      <td>0.11890</td>\n",
              "      <td>1</td>\n",
              "    </tr>\n",
              "    <tr>\n",
              "      <th>1</th>\n",
              "      <td>842517</td>\n",
              "      <td>20.57</td>\n",
              "      <td>17.77</td>\n",
              "      <td>132.90</td>\n",
              "      <td>1326.0</td>\n",
              "      <td>0.08474</td>\n",
              "      <td>0.07864</td>\n",
              "      <td>0.0869</td>\n",
              "      <td>0.07017</td>\n",
              "      <td>0.1812</td>\n",
              "      <td>...</td>\n",
              "      <td>23.41</td>\n",
              "      <td>158.80</td>\n",
              "      <td>1956.0</td>\n",
              "      <td>0.1238</td>\n",
              "      <td>0.1866</td>\n",
              "      <td>0.2416</td>\n",
              "      <td>0.1860</td>\n",
              "      <td>0.2750</td>\n",
              "      <td>0.08902</td>\n",
              "      <td>1</td>\n",
              "    </tr>\n",
              "    <tr>\n",
              "      <th>2</th>\n",
              "      <td>84300903</td>\n",
              "      <td>19.69</td>\n",
              "      <td>21.25</td>\n",
              "      <td>130.00</td>\n",
              "      <td>1203.0</td>\n",
              "      <td>0.10960</td>\n",
              "      <td>0.15990</td>\n",
              "      <td>0.1974</td>\n",
              "      <td>0.12790</td>\n",
              "      <td>0.2069</td>\n",
              "      <td>...</td>\n",
              "      <td>25.53</td>\n",
              "      <td>152.50</td>\n",
              "      <td>1709.0</td>\n",
              "      <td>0.1444</td>\n",
              "      <td>0.4245</td>\n",
              "      <td>0.4504</td>\n",
              "      <td>0.2430</td>\n",
              "      <td>0.3613</td>\n",
              "      <td>0.08758</td>\n",
              "      <td>1</td>\n",
              "    </tr>\n",
              "    <tr>\n",
              "      <th>3</th>\n",
              "      <td>84348301</td>\n",
              "      <td>11.42</td>\n",
              "      <td>20.38</td>\n",
              "      <td>77.58</td>\n",
              "      <td>386.1</td>\n",
              "      <td>0.14250</td>\n",
              "      <td>0.28390</td>\n",
              "      <td>0.2414</td>\n",
              "      <td>0.10520</td>\n",
              "      <td>0.2597</td>\n",
              "      <td>...</td>\n",
              "      <td>26.50</td>\n",
              "      <td>98.87</td>\n",
              "      <td>567.7</td>\n",
              "      <td>0.2098</td>\n",
              "      <td>0.8663</td>\n",
              "      <td>0.6869</td>\n",
              "      <td>0.2575</td>\n",
              "      <td>0.6638</td>\n",
              "      <td>0.17300</td>\n",
              "      <td>1</td>\n",
              "    </tr>\n",
              "    <tr>\n",
              "      <th>4</th>\n",
              "      <td>84358402</td>\n",
              "      <td>20.29</td>\n",
              "      <td>14.34</td>\n",
              "      <td>135.10</td>\n",
              "      <td>1297.0</td>\n",
              "      <td>0.10030</td>\n",
              "      <td>0.13280</td>\n",
              "      <td>0.1980</td>\n",
              "      <td>0.10430</td>\n",
              "      <td>0.1809</td>\n",
              "      <td>...</td>\n",
              "      <td>16.67</td>\n",
              "      <td>152.20</td>\n",
              "      <td>1575.0</td>\n",
              "      <td>0.1374</td>\n",
              "      <td>0.2050</td>\n",
              "      <td>0.4000</td>\n",
              "      <td>0.1625</td>\n",
              "      <td>0.2364</td>\n",
              "      <td>0.07678</td>\n",
              "      <td>1</td>\n",
              "    </tr>\n",
              "  </tbody>\n",
              "</table>\n",
              "<p>5 rows × 32 columns</p>\n",
              "</div>\n",
              "      <button class=\"colab-df-convert\" onclick=\"convertToInteractive('df-9f48b74f-7dc1-49f2-8dd2-95dfc70b204b')\"\n",
              "              title=\"Convert this dataframe to an interactive table.\"\n",
              "              style=\"display:none;\">\n",
              "        \n",
              "  <svg xmlns=\"http://www.w3.org/2000/svg\" height=\"24px\"viewBox=\"0 0 24 24\"\n",
              "       width=\"24px\">\n",
              "    <path d=\"M0 0h24v24H0V0z\" fill=\"none\"/>\n",
              "    <path d=\"M18.56 5.44l.94 2.06.94-2.06 2.06-.94-2.06-.94-.94-2.06-.94 2.06-2.06.94zm-11 1L8.5 8.5l.94-2.06 2.06-.94-2.06-.94L8.5 2.5l-.94 2.06-2.06.94zm10 10l.94 2.06.94-2.06 2.06-.94-2.06-.94-.94-2.06-.94 2.06-2.06.94z\"/><path d=\"M17.41 7.96l-1.37-1.37c-.4-.4-.92-.59-1.43-.59-.52 0-1.04.2-1.43.59L10.3 9.45l-7.72 7.72c-.78.78-.78 2.05 0 2.83L4 21.41c.39.39.9.59 1.41.59.51 0 1.02-.2 1.41-.59l7.78-7.78 2.81-2.81c.8-.78.8-2.07 0-2.86zM5.41 20L4 18.59l7.72-7.72 1.47 1.35L5.41 20z\"/>\n",
              "  </svg>\n",
              "      </button>\n",
              "      \n",
              "  <style>\n",
              "    .colab-df-container {\n",
              "      display:flex;\n",
              "      flex-wrap:wrap;\n",
              "      gap: 12px;\n",
              "    }\n",
              "\n",
              "    .colab-df-convert {\n",
              "      background-color: #E8F0FE;\n",
              "      border: none;\n",
              "      border-radius: 50%;\n",
              "      cursor: pointer;\n",
              "      display: none;\n",
              "      fill: #1967D2;\n",
              "      height: 32px;\n",
              "      padding: 0 0 0 0;\n",
              "      width: 32px;\n",
              "    }\n",
              "\n",
              "    .colab-df-convert:hover {\n",
              "      background-color: #E2EBFA;\n",
              "      box-shadow: 0px 1px 2px rgba(60, 64, 67, 0.3), 0px 1px 3px 1px rgba(60, 64, 67, 0.15);\n",
              "      fill: #174EA6;\n",
              "    }\n",
              "\n",
              "    [theme=dark] .colab-df-convert {\n",
              "      background-color: #3B4455;\n",
              "      fill: #D2E3FC;\n",
              "    }\n",
              "\n",
              "    [theme=dark] .colab-df-convert:hover {\n",
              "      background-color: #434B5C;\n",
              "      box-shadow: 0px 1px 3px 1px rgba(0, 0, 0, 0.15);\n",
              "      filter: drop-shadow(0px 1px 2px rgba(0, 0, 0, 0.3));\n",
              "      fill: #FFFFFF;\n",
              "    }\n",
              "  </style>\n",
              "\n",
              "      <script>\n",
              "        const buttonEl =\n",
              "          document.querySelector('#df-9f48b74f-7dc1-49f2-8dd2-95dfc70b204b button.colab-df-convert');\n",
              "        buttonEl.style.display =\n",
              "          google.colab.kernel.accessAllowed ? 'block' : 'none';\n",
              "\n",
              "        async function convertToInteractive(key) {\n",
              "          const element = document.querySelector('#df-9f48b74f-7dc1-49f2-8dd2-95dfc70b204b');\n",
              "          const dataTable =\n",
              "            await google.colab.kernel.invokeFunction('convertToInteractive',\n",
              "                                                     [key], {});\n",
              "          if (!dataTable) return;\n",
              "\n",
              "          const docLinkHtml = 'Like what you see? Visit the ' +\n",
              "            '<a target=\"_blank\" href=https://colab.research.google.com/notebooks/data_table.ipynb>data table notebook</a>'\n",
              "            + ' to learn more about interactive tables.';\n",
              "          element.innerHTML = '';\n",
              "          dataTable['output_type'] = 'display_data';\n",
              "          await google.colab.output.renderOutput(dataTable, element);\n",
              "          const docLink = document.createElement('div');\n",
              "          docLink.innerHTML = docLinkHtml;\n",
              "          element.appendChild(docLink);\n",
              "        }\n",
              "      </script>\n",
              "    </div>\n",
              "  </div>\n",
              "  "
            ]
          },
          "metadata": {},
          "execution_count": 397
        }
      ]
    },
    {
      "cell_type": "code",
      "source": [
        "# Creating a new patient's data\n",
        "newPatient = [[17.99,\t10.38,\t122.80,\t1001.0,\t0.11840,\t0.27760,\t0.3001,\t0.14710,\t0.2419,\t0.07871, 1.0950, 0.9053, 8.589, 153.4, 0.006399, \n",
        "               0.04904, 0.05373, 0.01587, 0.03003, 0.006193, 25.38, 17.33,\t184.60,\t2019.0,\t0.1622,\t0.6656,\t0.7119,\t0.2654,\t0.4601,\t0.11890]]"
      ],
      "metadata": {
        "id": "7KjBBUGTCxvq"
      },
      "execution_count": 400,
      "outputs": []
    },
    {
      "cell_type": "markdown",
      "source": [
        "Before making a prediction, we need to ensure that the new patient's data is transformed in the same way as the training data. This is because we had applied feature scaling to the training data, and we want to apply the same scaling to the new patient's data so that it is on the same scale as the training data."
      ],
      "metadata": {
        "id": "aSsVuDXcEtzv"
      }
    },
    {
      "cell_type": "code",
      "source": [
        "# Predicting whether the patient has a benign or malignant cancer\n",
        "classifier.predict(sc.transform(newPatient))"
      ],
      "metadata": {
        "colab": {
          "base_uri": "https://localhost:8080/"
        },
        "id": "ubVx2e1_EUIK",
        "outputId": "d436728a-5587-433a-f716-1f9a639ef23f"
      },
      "execution_count": 401,
      "outputs": [
        {
          "output_type": "execute_result",
          "data": {
            "text/plain": [
              "array([1], dtype=uint8)"
            ]
          },
          "metadata": {},
          "execution_count": 401
        }
      ]
    },
    {
      "cell_type": "markdown",
      "source": [
        "The output of the predict method is an array with a single value, in this case, the value is 1. This means that the model predicted that the new patient has malignant cancer."
      ],
      "metadata": {
        "id": "FU81Kt5MFXEy"
      }
    },
    {
      "cell_type": "markdown",
      "source": [
        "\n",
        "This information can be incredibly valuable in real-world scenarios. Early detection and accurate diagnosis of cancer are critical in successful treatment and improving patient outcomes. Machine learning models like the one we built can aid medical professionals in making more accurate and efficient diagnoses.\n",
        "\n",
        "In the real world, this model can be applied in several ways. For instance, a hospital or clinic can use it as a screening tool to quickly and accurately identify patients who need further testing or treatment. Additionally, the model can be used to assist medical professionals in making informed decisions about a patient's care plan, such as determining the best course of treatment or monitoring the progression of the disease.\n",
        "\n",
        "Overall, the potential applications of machine learning in healthcare are vast, and models like the one we built can have a significant impact on improving patient outcomes and advancing medical research."
      ],
      "metadata": {
        "id": "hla1NU-fFXA7"
      }
    }
  ]
}